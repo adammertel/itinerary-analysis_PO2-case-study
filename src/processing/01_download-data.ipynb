{
 "metadata": {
  "language_info": {
   "codemirror_mode": {
    "name": "ipython",
    "version": 3
   },
   "file_extension": ".py",
   "mimetype": "text/x-python",
   "name": "python",
   "nbconvert_exporter": "python",
   "pygments_lexer": "ipython3",
   "version": "3.9.5"
  },
  "orig_nbformat": 2,
  "kernelspec": {
   "name": "python3",
   "display_name": "Python 3.9.5 64-bit ('po2': conda)"
  },
  "metadata": {
   "interpreter": {
    "hash": "82749e5b48c4d6085d7533a91d2fcb4730d08732f57a440b121b3ba77c8d61ee"
   }
  },
  "interpreter": {
   "hash": "82749e5b48c4d6085d7533a91d2fcb4730d08732f57a440b121b3ba77c8d61ee"
  }
 },
 "nbformat": 4,
 "nbformat_minor": 2,
 "cells": [
  {
   "cell_type": "code",
   "execution_count": 5,
   "source": [
    "'''\n",
    "01_download-data.ipynb\n",
    "'''\n",
    "\n",
    "import urllib.request\n",
    "import pathlib\n",
    "import os\n",
    "import pandas as pd\n",
    "import geopandas as gpd\n",
    "import subprocess\n",
    "\n",
    "PATH_ROOT = os.path.join(pathlib.Path().absolute(), '../..' )\n",
    "PATH_DATA = PATH_ROOT + '/data/01_raw/'\n",
    "\n",
    "# links\n",
    "LINK_NE_RIVERS = \"https://www.naturalearthdata.com/http//www.naturalearthdata.com/download/10m/physical/ne_10m_rivers_lake_centerlines_scale_rank.zip\"\n",
    "LINK_NE_RIVERS_EU = \"https://www.naturalearthdata.com/http//www.naturalearthdata.com/download/10m/physical/ne_10m_rivers_europe.zip\"\n",
    "\n",
    "LINK_SRTM_DIR = 'https://dds.cr.usgs.gov/srtm/version2_1/SRTM3/Eurasia/'\n",
    "\n",
    "DIR_OUT_SRTM  = PATH_DATA + 'srtm/'\n",
    "DIR_OUT_RIVERS  = PATH_DATA + 'rivers/'\n",
    "\n",
    "# create folders if they do not exists\n",
    "os.makedirs(DIR_OUT_SRTM) if not os.path.exists(DIR_OUT_SRTM) else False\n",
    "os.makedirs(DIR_OUT_RIVERS) if not os.path.exists(DIR_OUT_RIVERS)  else False"
   ],
   "outputs": [
    {
     "output_type": "execute_result",
     "data": {
      "text/plain": [
       "False"
      ]
     },
     "metadata": {},
     "execution_count": 5
    }
   ],
   "metadata": {
    "tags": []
   }
  },
  {
   "cell_type": "code",
   "execution_count": 2,
   "source": [
    "# download google spreadsheet tables\n",
    "\n",
    "# LINK_ACTIVITIES = 'https://docs.google.com/spreadsheets/d/e/2PACX-1vSKbKoMl477qDAiyhj9sT9TZlGC7OGzShbDAaELXgkPSR95_CkmZsWmN3vLGsJgEBDkiLdn4Be_mkBJ/pub?gid=0&single=true&output=csv'\n",
    "# LINK_LOCALITIES = 'https://docs.google.com/spreadsheets/d/e/2PACX-1vSKbKoMl477qDAiyhj9sT9TZlGC7OGzShbDAaELXgkPSR95_CkmZsWmN3vLGsJgEBDkiLdn4Be_mkBJ/pub?gid=121203183&single=true&output=csv'\n",
    "\n",
    "# urllib.request.urlretrieve(LINK_ACTIVITIES, PATH_DATA + 'activities.csv')\n",
    "# urllib.request.urlretrieve(LINK_LOCALITIES, PATH_DATA + 'localities.csv')"
   ],
   "outputs": [
    {
     "output_type": "execute_result",
     "data": {
      "text/plain": [
       "('/home/adam/projects/itinerary-analysis_premysl-otakar/src/processing/../../data/01_raw/localities.csv',\n",
       " <http.client.HTTPMessage at 0x7f20a4373e80>)"
      ]
     },
     "metadata": {},
     "execution_count": 2
    }
   ],
   "metadata": {}
  },
  {
   "cell_type": "code",
   "execution_count": 3,
   "source": [
    "# download and merge srtm \n",
    "\n",
    "LINK_SRTM1 = 'https://edcintl.cr.usgs.gov/downloads/sciweb1/shared/topo/downloads/GMTED/Global_tiles_GMTED/075darcsec/med/E000/30N000E_20101117_gmted_med075.tif'\n",
    "LINK_SRTM2 = 'https://edcintl.cr.usgs.gov/downloads/sciweb1/shared/topo/downloads/GMTED/Global_tiles_GMTED/075darcsec/med/E000/50N000E_20101117_gmted_med075.tif'\n",
    "\n",
    "urllib.request.urlretrieve(LINK_SRTM1, DIR_OUT_SRTM + 'srtm1.tif')\n",
    "urllib.request.urlretrieve(LINK_SRTM2, DIR_OUT_SRTM + 'srtm2.tif')"
   ],
   "outputs": [
    {
     "output_type": "execute_result",
     "data": {
      "text/plain": [
       "('/home/adam/projects/itinerary-analysis_premysl-otakar/src/processing/../../data/01_raw/srtm/srtm2.tif',\n",
       " <http.client.HTTPMessage at 0x7f20a4373ee0>)"
      ]
     },
     "metadata": {},
     "execution_count": 3
    }
   ],
   "metadata": {}
  },
  {
   "cell_type": "code",
   "execution_count": 6,
   "source": [
    "# merge srtm files\n",
    "source_srtm = [DIR_OUT_SRTM + file for file in os.listdir(DIR_OUT_SRTM)]\n",
    "\n",
    "# merge srtm files\n",
    "merge_command = [\"gdal_merge.py\", \"-o\", DIR_OUT_SRTM + \"merged.tif\"] + source_srtm\n",
    "subprocess.check_output(merge_command)"
   ],
   "outputs": [
    {
     "output_type": "execute_result",
     "data": {
      "text/plain": [
       "b'0...10...20...30...40...50...60...70...80...90...100 - done.\\n'"
      ]
     },
     "metadata": {},
     "execution_count": 6
    }
   ],
   "metadata": {}
  },
  {
   "cell_type": "code",
   "execution_count": 11,
   "source": [
    "# download rivers\n",
    "#LINK_RIVERS_ALL = \"https://www.naturalearthdata.com/http//www.naturalearthdata.com/download/10m/physical/ne_10m_rivers_lake_centerlines.zip\"\n",
    "#LINK_RIVERS_EU = \"https://www.naturalearthdata.com/http//www.naturalearthdata.com/download/10m/physical/ne_10m_rivers_europe.zip\"\n",
    "LINK_RIVERS_ALL = \"https://raw.githubusercontent.com/nvkelso/natural-earth-vector/master/geojson/ne_10m_rivers_lake_centerlines.geojson\"\n",
    "LINK_RIVERS_EU = \"https://raw.githubusercontent.com/nvkelso/natural-earth-vector/master/geojson/ne_10m_rivers_europe.geojson\"\n",
    "\n",
    "urllib.request.urlretrieve(LINK_RIVERS_ALL, DIR_OUT_RIVERS + 'rivers_all.geojson')\n",
    "urllib.request.urlretrieve(LINK_RIVERS_EU, DIR_OUT_RIVERS + 'rivers_eu.geojson')"
   ],
   "outputs": [
    {
     "output_type": "execute_result",
     "data": {
      "text/plain": [
       "('/home/adam/projects/itinerary-analysis_premysl-otakar/src/processing/../../data/01_raw/rivers/rivers_eu.geojson',\n",
       " <http.client.HTTPMessage at 0x7f20a4373850>)"
      ]
     },
     "metadata": {},
     "execution_count": 11
    }
   ],
   "metadata": {}
  },
  {
   "cell_type": "code",
   "execution_count": 12,
   "source": [
    "# process rivers\n",
    "rivers_all = gpd.read_file(DIR_OUT_RIVERS + 'rivers_all.geojson')\n",
    "rivers_eu = gpd.read_file(DIR_OUT_RIVERS + 'rivers_eu.geojson')\n",
    "\n",
    "rivers_df = pd.concat([rivers_all, rivers_eu])\n",
    "rivers_gdf = gpd.GeoDataFrame(rivers_df, geometry='geometry').set_geometry('geometry')\n",
    "\n",
    "rivers_gdf[['geometry']].to_file(DIR_OUT_RIVERS + 'rivers.geojson', driver='GeoJSON')"
   ],
   "outputs": [],
   "metadata": {}
  }
 ]
}