{
 "metadata": {
  "language_info": {
   "codemirror_mode": {
    "name": "ipython",
    "version": 3
   },
   "file_extension": ".py",
   "mimetype": "text/x-python",
   "name": "python",
   "nbconvert_exporter": "python",
   "pygments_lexer": "ipython3",
   "version": "3.8.2"
  },
  "orig_nbformat": 2,
  "kernelspec": {
   "name": "python38264bitpo2condab62bf3ef14774324bf08862b5f8a62c4",
   "display_name": "Python 3.8.2 64-bit ('po2': conda)"
  },
  "metadata": {
   "interpreter": {
    "hash": "82749e5b48c4d6085d7533a91d2fcb4730d08732f57a440b121b3ba77c8d61ee"
   }
  }
 },
 "nbformat": 4,
 "nbformat_minor": 2,
 "cells": [
  {
   "cell_type": "code",
   "execution_count": null,
   "metadata": {
    "tags": []
   },
   "outputs": [],
   "source": [
    "'''\n",
    "01_download-data.ipynb\n",
    "'''\n",
    "\n",
    "import requests\n",
    "from bs4 import BeautifulSoup\n",
    "import urllib.request\n",
    "import pathlib\n",
    "import pathlib\n",
    "import os\n",
    "import shutil\n",
    "import gdal\n",
    "import subprocess\n",
    "\n",
    "import multiprocessing\n",
    "from joblib import Parallel, delayed\n",
    "num_cores = multiprocessing.cpu_count()\n",
    "\n",
    "PATH_ROOT = os.path.join(pathlib.Path().absolute(), '../..' )\n",
    "PATH_DATA = PATH_ROOT + '/data/01_raw/'\n",
    "\n",
    "# links\n",
    "LINK_NE_RIVERS = \"https://www.naturalearthdata.com/http//www.naturalearthdata.com/download/10m/physical/ne_10m_rivers_lake_centerlines_scale_rank.zip\"\n",
    "LINK_NE_RIVERS_EU = \"https://www.naturalearthdata.com/http//www.naturalearthdata.com/download/10m/physical/ne_10m_rivers_europe.zip\"\n",
    "\n",
    "LINK_SRTM_DIR = 'https://dds.cr.usgs.gov/srtm/version2_1/SRTM3/Eurasia/'\n",
    "\n",
    "DIR_OUT_SRTM  = PATH_DATA + '/srtm/'"
   ]
  },
  {
   "cell_type": "code",
   "execution_count": null,
   "metadata": {},
   "outputs": [],
   "source": [
    "'''\n",
    "Download google spreadsheet tables\n",
    "'''\n",
    "\n",
    "LINK_ACTIVITIES = 'https://docs.google.com/spreadsheets/d/e/2PACX-1vSKbKoMl477qDAiyhj9sT9TZlGC7OGzShbDAaELXgkPSR95_CkmZsWmN3vLGsJgEBDkiLdn4Be_mkBJ/pub?gid=0&single=true&output=csv'\n",
    "LINK_LOCALITIES = 'https://docs.google.com/spreadsheets/d/e/2PACX-1vSKbKoMl477qDAiyhj9sT9TZlGC7OGzShbDAaELXgkPSR95_CkmZsWmN3vLGsJgEBDkiLdn4Be_mkBJ/pub?gid=121203183&single=true&output=csv'\n",
    "\n",
    "urllib.request.urlretrieve(LINK_ACTIVITIES, PATH_DATA + 'activities.csv')\n",
    "urllib.request.urlretrieve(LINK_LOCALITIES, PATH_DATA + 'localities.csv')\n"
   ]
  },
  {
   "cell_type": "code",
   "execution_count": null,
   "metadata": {},
   "outputs": [],
   "source": [
    "# Download and merge srtm \n",
    "\n",
    "LINK_SRTM1 = 'https://edcintl.cr.usgs.gov/downloads/sciweb1/shared/topo/downloads/GMTED/Global_tiles_GMTED/075darcsec/med/E000/30N000E_20101117_gmted_med075.tif'\n",
    "LINK_SRTM2 = 'https://edcintl.cr.usgs.gov/downloads/sciweb1/shared/topo/downloads/GMTED/Global_tiles_GMTED/075darcsec/med/E000/50N000E_20101117_gmted_med075.tif'\n",
    "\n",
    "urllib.request.urlretrieve(LINK_SRTM1, DIR_OUT_SRTM + 'srtm1.tif')\n",
    "urllib.request.urlretrieve(LINK_SRTM2, DIR_OUT_SRTM + 'srtm2.tif')"
   ]
  },
  {
   "cell_type": "code",
   "execution_count": null,
   "metadata": {},
   "outputs": [],
   "source": [
    "# all remaining srtm files\n",
    "source_srtm = [DIR_OUT_SRTM + file for file in os.listdir(DIR_OUT_SRTM)]\n",
    "\n",
    "# merge srtm files\n",
    "merge_command = [\"gdal_merge.py\", \"-o\", DIR_OUT_SRTM + \"merged.tif\"] + source_srtm\n",
    "subprocess.check_output(merge_command)"
   ]
  }
 ]
}