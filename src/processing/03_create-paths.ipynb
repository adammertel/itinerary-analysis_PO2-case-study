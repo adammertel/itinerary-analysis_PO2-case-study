{
 "metadata": {
  "language_info": {
   "codemirror_mode": {
    "name": "ipython",
    "version": 3
   },
   "file_extension": ".py",
   "mimetype": "text/x-python",
   "name": "python",
   "nbconvert_exporter": "python",
   "pygments_lexer": "ipython3",
   "version": "3.8.2"
  },
  "orig_nbformat": 2,
  "kernelspec": {
   "name": "python38264bitpo2conda0cc6c94dcc774996989d8c0ab52f6b64",
   "display_name": "Python 3.8.2 64-bit ('po2': conda)"
  },
  "metadata": {
   "interpreter": {
    "hash": "82749e5b48c4d6085d7533a91d2fcb4730d08732f57a440b121b3ba77c8d61ee"
   }
  }
 },
 "nbformat": 4,
 "nbformat_minor": 2,
 "cells": [
  {
   "cell_type": "code",
   "execution_count": 2,
   "metadata": {},
   "outputs": [
    {
     "output_type": "display_data",
     "data": {
      "text/html": "\n\t\t\t<script type=\"text/javascript\">\n\t\t\t<!--\n\t\t\t\t\n\t\t\t{\n\t\t\t\tvar element = document.getElementById('NetworKit_script');\n\t\t\t\tif (element) {\n\t\t\t\t\telement.parentNode.removeChild(element);\n\t\t\t\t}\n\t\t\t\telement = document.createElement('script');\n\t\t\t\telement.type = 'text/javascript';\n\t\t\t\telement.innerHTML = 'function NetworKit_pageEmbed(id) { var i, j; var elements; elements = document.getElementById(id).getElementsByClassName(\"Plot\"); for (i=0; i<elements.length; i++) { elements[i].id = id + \"_Plot_\" + i; var data = elements[i].getAttribute(\"data-image\").split(\"|\"); elements[i].removeAttribute(\"data-image\"); var content = \"<div class=\\\\\"Image\\\\\" id=\\\\\"\" + elements[i].id + \"_Image\\\\\" />\"; elements[i].innerHTML = content; elements[i].setAttribute(\"data-image-index\", 0); elements[i].setAttribute(\"data-image-length\", data.length); for (j=0; j<data.length; j++) { elements[i].setAttribute(\"data-image-\" + j, data[j]); } NetworKit_plotUpdate(elements[i]); elements[i].onclick = function (e) { NetworKit_overlayShow((e.target) ? e.target : e.srcElement); } } elements = document.getElementById(id).getElementsByClassName(\"HeatCell\"); for (i=0; i<elements.length; i++) { var data = parseFloat(elements[i].getAttribute(\"data-heat\")); var color = \"#00FF00\"; if (data <= 1 && data > 0) { color = \"hsla(0, 100%, 75%, \" + (data) + \")\"; } else if (data <= 0 && data >= -1) { color = \"hsla(240, 100%, 75%, \" + (-data) + \")\"; } elements[i].style.backgroundColor = color; } elements = document.getElementById(id).getElementsByClassName(\"Details\"); for (i=0; i<elements.length; i++) { elements[i].setAttribute(\"data-title\", \"-\"); NetworKit_toggleDetails(elements[i]); elements[i].onclick = function (e) { NetworKit_toggleDetails((e.target) ? e.target : e.srcElement); } } elements = document.getElementById(id).getElementsByClassName(\"MathValue\"); for (i=elements.length-1; i>=0; i--) { value = elements[i].innerHTML.trim(); if (value === \"nan\") { elements[i].parentNode.innerHTML = \"\" } } elements = document.getElementById(id).getElementsByClassName(\"SubCategory\"); for (i=elements.length-1; i>=0; i--) { value = elements[i].innerHTML.trim(); if (value === \"\") { elements[i].parentNode.removeChild(elements[i]) } } elements = document.getElementById(id).getElementsByClassName(\"Category\"); for (i=elements.length-1; i>=0; i--) { value = elements[i].innerHTML.trim(); if (value === \"\") { elements[i].parentNode.removeChild(elements[i]) } } var isFirefox = false; try { isFirefox = typeof InstallTrigger !== \"undefined\"; } catch (e) {} if (!isFirefox) { alert(\"Currently the function\\'s output is only fully supported by Firefox.\"); } } function NetworKit_plotUpdate(source) { var index = source.getAttribute(\"data-image-index\"); var data = source.getAttribute(\"data-image-\" + index); var image = document.getElementById(source.id + \"_Image\"); image.style.backgroundImage = \"url(\" + data + \")\"; } function NetworKit_showElement(id, show) { var element = document.getElementById(id); element.style.display = (show) ? \"block\" : \"none\"; } function NetworKit_overlayShow(source) { NetworKit_overlayUpdate(source); NetworKit_showElement(\"NetworKit_Overlay\", true); } function NetworKit_overlayUpdate(source) { document.getElementById(\"NetworKit_Overlay_Title\").innerHTML = source.title; var index = source.getAttribute(\"data-image-index\"); var data = source.getAttribute(\"data-image-\" + index); var image = document.getElementById(\"NetworKit_Overlay_Image\"); image.setAttribute(\"data-id\", source.id); image.style.backgroundImage = \"url(\" + data + \")\"; var link = document.getElementById(\"NetworKit_Overlay_Toolbar_Bottom_Save\"); link.href = data; link.download = source.title + \".svg\"; } function NetworKit_overlayImageShift(delta) { var image = document.getElementById(\"NetworKit_Overlay_Image\"); var source = document.getElementById(image.getAttribute(\"data-id\")); var index = parseInt(source.getAttribute(\"data-image-index\")); var length = parseInt(source.getAttribute(\"data-image-length\")); var index = (index+delta) % length; if (index < 0) { index = length + index; } source.setAttribute(\"data-image-index\", index); NetworKit_overlayUpdate(source); } function NetworKit_toggleDetails(source) { var childs = source.children; var show = false; if (source.getAttribute(\"data-title\") == \"-\") { source.setAttribute(\"data-title\", \"+\"); show = false; } else { source.setAttribute(\"data-title\", \"-\"); show = true; } for (i=0; i<childs.length; i++) { if (show) { childs[i].style.display = \"block\"; } else { childs[i].style.display = \"none\"; } } }';\n\t\t\t\telement.setAttribute('id', 'NetworKit_script');\n\t\t\t\tdocument.head.appendChild(element);\n\t\t\t}\n\t\t\n\t\t\t\t\n\t\t\t{\n\t\t\t\tvar element = document.getElementById('NetworKit_style');\n\t\t\t\tif (element) {\n\t\t\t\t\telement.parentNode.removeChild(element);\n\t\t\t\t}\n\t\t\t\telement = document.createElement('style');\n\t\t\t\telement.type = 'text/css';\n\t\t\t\telement.innerHTML = '.NetworKit_Page { font-family: Arial, Helvetica, sans-serif; font-size: 14px; } .NetworKit_Page .Value:before { font-family: Arial, Helvetica, sans-serif; font-size: 1.05em; content: attr(data-title) \":\"; margin-left: -2.5em; padding-right: 0.5em; } .NetworKit_Page .Details .Value:before { display: block; } .NetworKit_Page .Value { font-family: monospace; white-space: pre; padding-left: 2.5em; white-space: -moz-pre-wrap !important; white-space: -pre-wrap; white-space: -o-pre-wrap; white-space: pre-wrap; word-wrap: break-word; tab-size: 4; -moz-tab-size: 4; } .NetworKit_Page .Category { clear: both; padding-left: 1em; margin-bottom: 1.5em; } .NetworKit_Page .Category:before { content: attr(data-title); font-size: 1.75em; display: block; margin-left: -0.8em; margin-bottom: 0.5em; } .NetworKit_Page .SubCategory { margin-bottom: 1.5em; padding-left: 1em; } .NetworKit_Page .SubCategory:before { font-size: 1.6em; display: block; margin-left: -0.8em; margin-bottom: 0.5em; } .NetworKit_Page .SubCategory[data-title]:before { content: attr(data-title); } .NetworKit_Page .Block { display: block; } .NetworKit_Page .Block:after { content: \".\"; visibility: hidden; display: block; height: 0; clear: both; } .NetworKit_Page .Block .Thumbnail_Overview, .NetworKit_Page .Block .Thumbnail_ScatterPlot { width: 260px; float: left; } .NetworKit_Page .Block .Thumbnail_Overview img, .NetworKit_Page .Block .Thumbnail_ScatterPlot img { width: 260px; } .NetworKit_Page .Block .Thumbnail_Overview:before, .NetworKit_Page .Block .Thumbnail_ScatterPlot:before { display: block; text-align: center; font-weight: bold; } .NetworKit_Page .Block .Thumbnail_Overview:before { content: attr(data-title); } .NetworKit_Page .HeatCell { font-family: \"Courier New\", Courier, monospace; cursor: pointer; } .NetworKit_Page .HeatCell, .NetworKit_Page .HeatCellName { display: inline; padding: 0.1em; margin-right: 2px; background-color: #FFFFFF } .NetworKit_Page .HeatCellName { margin-left: 0.25em; } .NetworKit_Page .HeatCell:before { content: attr(data-heat); display: inline-block; color: #000000; width: 4em; text-align: center; } .NetworKit_Page .Measure { clear: both; } .NetworKit_Page .Measure .Details { cursor: pointer; } .NetworKit_Page .Measure .Details:before { content: \"[\" attr(data-title) \"]\"; display: block; } .NetworKit_Page .Measure .Details .Value { border-left: 1px dotted black; margin-left: 0.4em; padding-left: 3.5em; pointer-events: none; } .NetworKit_Page .Measure .Details .Spacer:before { content: \".\"; opacity: 0.0; pointer-events: none; } .NetworKit_Page .Measure .Plot { width: 440px; height: 440px; cursor: pointer; float: left; margin-left: -0.9em; margin-right: 20px; } .NetworKit_Page .Measure .Plot .Image { background-repeat: no-repeat; background-position: center center; background-size: contain; height: 100%; pointer-events: none; } .NetworKit_Page .Measure .Stat { width: 500px; float: left; } .NetworKit_Page .Measure .Stat .Group { padding-left: 1.25em; margin-bottom: 0.75em; } .NetworKit_Page .Measure .Stat .Group .Title { font-size: 1.1em; display: block; margin-bottom: 0.3em; margin-left: -0.75em; border-right-style: dotted; border-right-width: 1px; border-bottom-style: dotted; border-bottom-width: 1px; background-color: #D0D0D0; padding-left: 0.2em; } .NetworKit_Page .Measure .Stat .Group .List { -webkit-column-count: 3; -moz-column-count: 3; column-count: 3; } .NetworKit_Page .Measure .Stat .Group .List .Entry { position: relative; line-height: 1.75em; } .NetworKit_Page .Measure .Stat .Group .List .Entry[data-tooltip]:before { position: absolute; left: 0; top: -40px; background-color: #808080; color: #ffffff; height: 30px; line-height: 30px; border-radius: 5px; padding: 0 15px; content: attr(data-tooltip); white-space: nowrap; display: none; } .NetworKit_Page .Measure .Stat .Group .List .Entry[data-tooltip]:after { position: absolute; left: 15px; top: -10px; border-top: 7px solid #808080; border-left: 7px solid transparent; border-right: 7px solid transparent; content: \"\"; display: none; } .NetworKit_Page .Measure .Stat .Group .List .Entry[data-tooltip]:hover:after, .NetworKit_Page .Measure .Stat .Group .List .Entry[data-tooltip]:hover:before { display: block; } .NetworKit_Page .Measure .Stat .Group .List .Entry .MathValue { font-family: \"Courier New\", Courier, monospace; } .NetworKit_Page .Measure:after { content: \".\"; visibility: hidden; display: block; height: 0; clear: both; } .NetworKit_Page .PartitionPie { clear: both; } .NetworKit_Page .PartitionPie img { width: 600px; } #NetworKit_Overlay { left: 0px; top: 0px; display: none; position: absolute; width: 100%; height: 100%; background-color: rgba(0,0,0,0.6); z-index: 1000; } #NetworKit_Overlay_Title { position: absolute; color: white; transform: rotate(-90deg); width: 32em; height: 32em; padding-right: 0.5em; padding-top: 0.5em; text-align: right; font-size: 40px; } #NetworKit_Overlay .button { background: white; cursor: pointer; } #NetworKit_Overlay .button:before { size: 13px; display: inline-block; text-align: center; margin-top: 0.5em; margin-bottom: 0.5em; width: 1.5em; height: 1.5em; } #NetworKit_Overlay .icon-close:before { content: \"X\"; } #NetworKit_Overlay .icon-previous:before { content: \"P\"; } #NetworKit_Overlay .icon-next:before { content: \"N\"; } #NetworKit_Overlay .icon-save:before { content: \"S\"; } #NetworKit_Overlay_Toolbar_Top, #NetworKit_Overlay_Toolbar_Bottom { position: absolute; width: 40px; right: 13px; text-align: right; z-index: 1100; } #NetworKit_Overlay_Toolbar_Top { top: 0.5em; } #NetworKit_Overlay_Toolbar_Bottom { Bottom: 0.5em; } #NetworKit_Overlay_ImageContainer { position: absolute; top: 5%; left: 5%; height: 90%; width: 90%; background-repeat: no-repeat; background-position: center center; background-size: contain; } #NetworKit_Overlay_Image { height: 100%; width: 100%; background-repeat: no-repeat; background-position: center center; background-size: contain; }';\n\t\t\t\telement.setAttribute('id', 'NetworKit_style');\n\t\t\t\tdocument.head.appendChild(element);\n\t\t\t}\n\t\t\n\t\t\t\t\n\t\t\t{\n\t\t\t\tvar element = document.getElementById('NetworKit_Overlay');\n\t\t\t\tif (element) {\n\t\t\t\t\telement.parentNode.removeChild(element);\n\t\t\t\t}\n\t\t\t\telement = document.createElement('div');\n\t\t\t\telement.innerHTML = '<div id=\"NetworKit_Overlay_Toolbar_Top\"><div class=\"button icon-close\" id=\"NetworKit_Overlay_Close\" /></div><div id=\"NetworKit_Overlay_Title\" /> <div id=\"NetworKit_Overlay_ImageContainer\"> <div id=\"NetworKit_Overlay_Image\" /> </div> <div id=\"NetworKit_Overlay_Toolbar_Bottom\"> <div class=\"button icon-previous\" onclick=\"NetworKit_overlayImageShift(-1)\" /> <div class=\"button icon-next\" onclick=\"NetworKit_overlayImageShift(1)\" /> <a id=\"NetworKit_Overlay_Toolbar_Bottom_Save\"><div class=\"button icon-save\" /></a> </div>';\n\t\t\t\telement.setAttribute('id', 'NetworKit_Overlay');\n\t\t\t\tdocument.body.appendChild(element);\n\t\t\t\tdocument.getElementById('NetworKit_Overlay_Close').onclick = function (e) {\n\t\t\t\t\tdocument.getElementById('NetworKit_Overlay').style.display = 'none';\n\t\t\t\t}\n\t\t\t}\n\t\t\n\t\t\t-->\n\t\t\t</script>\n\t\t"
     },
     "metadata": {}
    },
    {
     "output_type": "stream",
     "name": "stdout",
     "text": [
      "0.3252929369373301\n0.3252929369373301\nhex_distance 0.922709368\n"
     ]
    }
   ],
   "source": [
    "'''\n",
    "03_create-paths.ipynb\n",
    "Create a dataset of shortest paths between all destinations\n",
    "'''\n",
    "\n",
    "import requests\n",
    "import urllib.request\n",
    "import pathlib\n",
    "import os\n",
    "import shutil\n",
    "import subprocess\n",
    "import pandas as pd\n",
    "import geopandas as gpd\n",
    "import numpy as np\n",
    "from shapely import wkt\n",
    "from shapely.geometry import Point, Polygon, LineString\n",
    "from shapely.ops import nearest_points, unary_union\n",
    "import math\n",
    "import swifter\n",
    "\n",
    "import json\n",
    "import geojson\n",
    "import gdal\n",
    "import h3\n",
    "\n",
    "import networkit as nk\n",
    "\n",
    "import multiprocessing\n",
    "from joblib import Parallel, delayed\n",
    "num_cores = multiprocessing.cpu_count()\n",
    "\n",
    "PATH_ROOT = os.path.join(pathlib.Path().absolute(), '../..' )\n",
    "PATH_IN = PATH_ROOT + '/data/02_processed/'\n",
    "PATH_OUT = PATH_ROOT + '/data/03_paths/'\n",
    "\n",
    "# constants\n",
    "CONST_graph_detail_lvl = 8\n",
    "CONST_speed_day_km = 40\n",
    "CONST_slope_effect_multiplier = 2\n",
    "CONST_distance_bridge = 10 / 111\n",
    "CONST_river_value = 9999\n",
    "\n",
    "# critical slope algorithm\n",
    "CONST_critical_slope = 4\n",
    "\n",
    "# for tobler application\n",
    "CONST_elevation_coefficient = 1\n",
    "\n",
    "def slope_coeff(slope):\n",
    "    #return math.exp(-3.5 * abs(slope + 0.05)) ** CONST_elevation_coefficient\n",
    "    #rise = (value_to - value_from) / 1000\n",
    "    #slope = rise / hex_distance\n",
    "    return 1 / (1 + ((abs(slope) * 100) / CONST_critical_slope) ** 2)\n",
    "\n",
    "def calculate_path_time(value_from, value_to, dist):\n",
    "    rise = (value_to - value_from) / 1000\n",
    "    slope = rise / dist\n",
    "    slope_c = slope_coeff(slope)\n",
    "    #print(slope_c)\n",
    "    time = CONST_speed_day_km * abs(slope_c ** CONST_slope_effect_multiplier)\n",
    "\n",
    "    el_dist = math.sqrt((rise ** 2) + (dist ** 2))\n",
    "    path_time = (el_dist / time)\n",
    "\n",
    "    #print(value_to, value_from, slope, time, el_dist, path_time)\n",
    "    \n",
    "    return path_time\n",
    "\n",
    "#print(calculate_path_time(100, 300, 2))\n",
    "#print(calculate_path_time(100, 200, 1))\n",
    "print(calculate_path_time(50, 200, 10))\n",
    "print(calculate_path_time(200, 50, 10))\n",
    "\n",
    "crs4326 = {'init': 'epsg:4326'}\n",
    "hex_distance = 2 * h3.edge_length(CONST_graph_detail_lvl)\n",
    "print('hex_distance', hex_distance)\n",
    "\n",
    "# get distance of hexes in grades\n",
    "CONST_hex_dist = hex_distance / 111\n",
    "\n",
    "'''\n",
    "Load datasets\n",
    "'''\n",
    "\n",
    "destinations = gpd.read_file(PATH_IN + 'destinations.geojson')\n",
    "\n",
    "rivers_df = gpd.read_file(PATH_IN + 'rivers.geojson') \n",
    "rivers = unary_union(\n",
    "    [river['geometry'] for ri, river in rivers_df.iterrows()]\n",
    ")\n",
    "\n",
    "bridges_df = gpd.read_file(PATH_IN + 'bridges.geojson')\n",
    "bridges = unary_union(\n",
    "    [bridge['geometry'].buffer(hex_distance / 222) for bi, bridge in bridges_df.iterrows()]\n",
    ")\n",
    "\n",
    "bbox = gpd.read_file(PATH_IN + 'bbox.geojson') \n",
    "bb_xy = bbox.total_bounds\n",
    "\n",
    "bounds_json = dict(\n",
    "    geojson.Polygon(\n",
    "        [[\n",
    "            [bb_xy[0], bb_xy[1]],\n",
    "            [bb_xy[0], bb_xy[3]],\n",
    "            [bb_xy[2], bb_xy[3]],\n",
    "            [bb_xy[2], bb_xy[1]],\n",
    "            [bb_xy[0], bb_xy[1]],\n",
    "        ]]\n",
    "    ))\n"
   ]
  },
  {
   "cell_type": "code",
   "execution_count": 3,
   "metadata": {},
   "outputs": [],
   "source": [
    "# load elevation\n",
    "\n",
    "elevation = gdal.Open(PATH_IN + 'elevation.tif')\n",
    "band = elevation.GetRasterBand(1)\n",
    "cols = elevation.RasterXSize\n",
    "rows = elevation.RasterYSize\n",
    "\n",
    "transform = elevation.GetGeoTransform()\n",
    "xOrigin = transform[0]\n",
    "yOrigin = transform[3]\n",
    "pixelWidth = transform[1]\n",
    "pixelHeight = -transform[5]\n",
    "\n",
    "elevation_data = band.ReadAsArray(0, 0, cols, rows)\n",
    "\n",
    "# check whether there is river or a bridge\n",
    "def path_value_point (hex_center):\n",
    "    #return elevation_point(hex_center)\n",
    "    #on_river = hex.intersects(rivers)\n",
    "    on_river = hex_center.distance(rivers) < CONST_hex_dist / 2\n",
    "    if on_river: \n",
    "        on_bridge = hex_center.distance(bridges) < CONST_hex_dist / 2\n",
    "        if not on_bridge:\n",
    "            value = CONST_river_value\n",
    "        else:\n",
    "            value = elevation_point(hex_center)\n",
    "    else:\n",
    "        value = elevation_point(hex_center)\n",
    "    return value\n",
    "\n",
    "# get elevation value for the given geographical point\n",
    "def elevation_point (point):\n",
    "    row = int((yOrigin - point.y ) / pixelHeight)\n",
    "    col = int((point.x - xOrigin) / pixelWidth)\n",
    "    \n",
    "    if elevation_data.shape[0] > row and elevation_data.shape[1] > col:\n",
    "        return int(elevation_data[row][col])\n",
    "    else:\n",
    "        return CONST_river_value"
   ]
  },
  {
   "cell_type": "code",
   "execution_count": 4,
   "metadata": {},
   "outputs": [
    {
     "output_type": "stream",
     "name": "stderr",
     "text": [
      "Pandas Apply: 100%|██████████| 1711237/1711237 [00:49<00:00, 34859.88it/s]\n",
      "Pandas Apply: 100%|██████████| 1711237/1711237 [03:29<00:00, 8155.04it/s]\n"
     ]
    }
   ],
   "source": [
    "# construct hexes dataframe\n",
    "\n",
    "hex_ids = list(h3.polyfill(bounds_json, CONST_graph_detail_lvl))\n",
    "\n",
    "hexes_df = pd.DataFrame(hex_ids, columns=['id'])\n",
    "hexes_df['center'] = hexes_df.swifter.apply(\n",
    "    lambda x: Point(h3.h3_to_geo(x['id'])),\n",
    "    axis = 1\n",
    ")\n",
    "hexes_df[\"value\"] = hexes_df.swifter.apply(\n",
    "    lambda x: path_value_point(x['center']),\n",
    "    axis = 1\n",
    ")\n",
    "hexes_df.set_index('id', inplace=True)\n",
    "\n",
    "# find neighboring hexes\n",
    "hexes_df['neighbors'] = hexes_df.swifter.apply(\n",
    "    lambda x: \\\n",
    "        [\n",
    "            h3.get_destination_h3_index_from_unidirectional_edge(n) \n",
    "            for n in h3.get_h3_unidirectional_edges_from_hexagon(x.name)\\\n",
    "        ],\n",
    "    axis = 1\n",
    ")\n",
    "\n",
    "# save hexes_df\n",
    "hexes_df.to_csv(PATH_OUT + 'hexes.csv')"
   ]
  },
  {
   "cell_type": "code",
   "execution_count": 5,
   "metadata": {},
   "outputs": [
    {
     "output_type": "execute_result",
     "data": {
      "text/plain": [
       "                                                      center  value\n",
       "id                                                                 \n",
       "8852ebb2cbfffff  POINT (13.19953559539785 48.82979234725212)    695\n",
       "8863a95995fffff  POINT (12.34096338024553 55.01436353936992)      0\n",
       "8852661a0dfffff  POINT (20.87966753906016 49.92540026666737)   9999\n",
       "8852633443fffff  POINT (19.52047183970761 51.72534509867218)    196\n",
       "88526ab457fffff  POINT (18.72553839568407 52.95208387694156)     46\n",
       "...                                                      ...    ...\n",
       "88524c6199fffff  POINT (17.03542974907975 52.68680324413737)    103\n",
       "8852544c3bfffff  POINT (17.05209686683553 47.82612975280578)    121\n",
       "885248d253fffff  POINT (16.90772593505346 52.62834335432925)     88\n",
       "8852509801fffff   POINT (16.85600152557521 48.2814518533422)    149\n",
       "8863167b13fffff  POINT (15.08871614983771 53.84410139479593)     28\n",
       "\n",
       "[1711237 rows x 2 columns]"
      ],
      "text/html": "<div>\n<style scoped>\n    .dataframe tbody tr th:only-of-type {\n        vertical-align: middle;\n    }\n\n    .dataframe tbody tr th {\n        vertical-align: top;\n    }\n\n    .dataframe thead th {\n        text-align: right;\n    }\n</style>\n<table border=\"1\" class=\"dataframe\">\n  <thead>\n    <tr style=\"text-align: right;\">\n      <th></th>\n      <th>center</th>\n      <th>value</th>\n    </tr>\n    <tr>\n      <th>id</th>\n      <th></th>\n      <th></th>\n    </tr>\n  </thead>\n  <tbody>\n    <tr>\n      <th>8852ebb2cbfffff</th>\n      <td>POINT (13.19953559539785 48.82979234725212)</td>\n      <td>695</td>\n    </tr>\n    <tr>\n      <th>8863a95995fffff</th>\n      <td>POINT (12.34096338024553 55.01436353936992)</td>\n      <td>0</td>\n    </tr>\n    <tr>\n      <th>8852661a0dfffff</th>\n      <td>POINT (20.87966753906016 49.92540026666737)</td>\n      <td>9999</td>\n    </tr>\n    <tr>\n      <th>8852633443fffff</th>\n      <td>POINT (19.52047183970761 51.72534509867218)</td>\n      <td>196</td>\n    </tr>\n    <tr>\n      <th>88526ab457fffff</th>\n      <td>POINT (18.72553839568407 52.95208387694156)</td>\n      <td>46</td>\n    </tr>\n    <tr>\n      <th>...</th>\n      <td>...</td>\n      <td>...</td>\n    </tr>\n    <tr>\n      <th>88524c6199fffff</th>\n      <td>POINT (17.03542974907975 52.68680324413737)</td>\n      <td>103</td>\n    </tr>\n    <tr>\n      <th>8852544c3bfffff</th>\n      <td>POINT (17.05209686683553 47.82612975280578)</td>\n      <td>121</td>\n    </tr>\n    <tr>\n      <th>885248d253fffff</th>\n      <td>POINT (16.90772593505346 52.62834335432925)</td>\n      <td>88</td>\n    </tr>\n    <tr>\n      <th>8852509801fffff</th>\n      <td>POINT (16.85600152557521 48.2814518533422)</td>\n      <td>149</td>\n    </tr>\n    <tr>\n      <th>8863167b13fffff</th>\n      <td>POINT (15.08871614983771 53.84410139479593)</td>\n      <td>28</td>\n    </tr>\n  </tbody>\n</table>\n<p>1711237 rows × 2 columns</p>\n</div>"
     },
     "metadata": {},
     "execution_count": 5
    }
   ],
   "source": [
    "hexes_df"
   ]
  },
  {
   "cell_type": "code",
   "execution_count": 11,
   "metadata": {
    "tags": []
   },
   "outputs": [
    {
     "output_type": "stream",
     "name": "stdout",
     "text": [
      "                                                      center  value  \\\nid                                                                    \n8852ebb2cbfffff  POINT (13.19953559539785 48.82979234725212)    695   \n8863a95995fffff  POINT (12.34096338024553 55.01436353936992)      0   \n8852661a0dfffff  POINT (20.87966753906016 49.92540026666737)   9999   \n8852633443fffff  POINT (19.52047183970761 51.72534509867218)    196   \n88526ab457fffff  POINT (18.72553839568407 52.95208387694156)     46   \n...                                                      ...    ...   \n88524c6199fffff  POINT (17.03542974907975 52.68680324413737)    103   \n8852544c3bfffff  POINT (17.05209686683553 47.82612975280578)    121   \n885248d253fffff  POINT (16.90772593505346 52.62834335432925)     88   \n8852509801fffff   POINT (16.85600152557521 48.2814518533422)    149   \n8863167b13fffff  POINT (15.08871614983771 53.84410139479593)     28   \n\n                                                         neighbors  \nid                                                                  \n8852ebb2cbfffff  ['8852e94d35fffff', '8852ebb2c1fffff', '8852eb...  \n8863a95995fffff  ['8863a95991fffff', '8863a95983fffff', '8863a9...  \n8852661a0dfffff  ['8852661a05fffff', '8852661a01fffff', '885266...  \n8852633443fffff  ['8852633409fffff', '8852633455fffff', '885263...  \n88526ab457fffff  ['88526ab451fffff', '88526ab41dfffff', '88526a...  \n...                                                            ...  \n88524c6199fffff  ['88524c619bfffff', '88524c60a5fffff', '88524c...  \n8852544c3bfffff  ['8852544c31fffff', '8852544c33fffff', '885254...  \n885248d253fffff  ['88524c6d2dfffff', '885248d251fffff', '885248...  \n8852509801fffff  ['8852509807fffff', '885250980bfffff', '885250...  \n8863167b13fffff  ['886316784dfffff', '8863167b11fffff', '886316...  \n\n[1711237 rows x 3 columns]\n"
     ]
    }
   ],
   "source": [
    "# create weighted non-directional graph for all combinations of neighboring hexes\n",
    "\n",
    "hexes_df = pd.read_csv(PATH_OUT + 'hexes.csv')\n",
    "hexes_df.set_index('id', inplace=True)\n",
    "\n",
    "g = nk.Graph(directed=False, weighted=True)\n",
    "\n",
    "hexes_df['node'] = hexes_df.apply(\n",
    "    lambda x: g.addNode(),\n",
    "    axis = 1\n",
    ")\n",
    "\n",
    "# node_id -> hex_id shorthand dictionary\n",
    "node_to_hex = {node_id: hex_id for (hex_id, node_id) in hexes_df[['node']].itertuples()}\n",
    "\n",
    "for (hex_from_id, value_from, node_from, neighbors) in hexes_df[['value', 'node', 'neighbors']].itertuples():\n",
    "    for hex_to_id in neighbors:\n",
    "        if hex_to_id in hexes_df.index:\n",
    "            node_to = hexes_df.at[hex_to_id, 'node']\n",
    "            value_to = hexes_df.at[hex_to_id, 'value']\n",
    "            g.addEdge(node_from, node_to, calculate_path_time(value_from, value_to, hex_distance))\n",
    "\n"
   ]
  },
  {
   "cell_type": "code",
   "execution_count": 12,
   "metadata": {},
   "outputs": [
    {
     "output_type": "execute_result",
     "data": {
      "text/plain": [
       "        id         name  no_alle  no_activity  no_reise  no_bi  no_gg      x  \\\n",
       "0      7.0    Altenburg      6.0          1.0       1.0    4.0    0.0  48.65   \n",
       "1     14.0  Arnoldstein      2.0          1.0       1.0    0.0    0.0  46.55   \n",
       "2     21.0        Balga      2.0          1.0       1.0    0.0    0.0  54.56   \n",
       "3     30.0       Beroun      4.0          2.0       2.0    0.0    0.0  49.96   \n",
       "4     41.0   Bratislava     29.0         12.0      12.0    5.0    0.0  48.14   \n",
       "..     ...          ...      ...          ...       ...    ...    ...    ...   \n",
       "127  652.0        Žatec      4.0          1.0       1.0    1.0    1.0  50.33   \n",
       "128  653.0     Zbraslav      3.0          3.0       0.0    0.0    0.0  49.98   \n",
       "129  667.0       Znojmo     59.0         27.0      27.0    3.0    2.0  48.86   \n",
       "130  668.0       Zvíkov      5.0          2.0       2.0    1.0    0.0  49.44   \n",
       "131  670.0       Zwettl     23.0          2.0       2.0   18.0    1.0  48.61   \n",
       "\n",
       "         y  prazision       typ noten             region1  \\\n",
       "0    15.59        3.0  gemeinde  None    Niederösterreich   \n",
       "1    13.75        1.0  gemeinde  None             Kärnten   \n",
       "2    19.97        1.0  gemeinde  None  Preussen (Ausland)   \n",
       "3    14.07        1.0  gemeinde  None              Böhmen   \n",
       "4    17.10        1.0  gemeinde  None              Ungarn   \n",
       "..     ...        ...       ...   ...                 ...   \n",
       "127  13.54        1.0  gemeinde  None              Böhmen   \n",
       "128  14.39        1.0  gemeinde  None              Böhmen   \n",
       "129  16.05        1.0  gemeinde  None              Mähren   \n",
       "130  14.19        1.0  gemeinde  None              Böhmen   \n",
       "131  15.17        1.0  gemeinde  None    Niederösterreich   \n",
       "\n",
       "                      region2                   region3  \\\n",
       "0    Nordwestniederösterreich  Nordwestniederösterreich   \n",
       "1                  Ostkärnten                Ostkärnten   \n",
       "2          Preussen (Ausland)        Preussen (Ausland)   \n",
       "3                Mittelböhmen              Mittelböhmen   \n",
       "4                  Westungarn                Westungarn   \n",
       "..                        ...                       ...   \n",
       "127            Nordwestböhmen            Nordwestböhmen   \n",
       "128              Mittelböhmen              Mittelböhmen   \n",
       "129              Znaimer Teil              Znaimer Teil   \n",
       "130                 Südböhmen                 Südböhmen   \n",
       "131  Nordwestniederösterreich  Nordwestniederösterreich   \n",
       "\n",
       "                      geometry           hex_id  node_id  \n",
       "0    POINT (15.59000 48.65000)  88525310e7fffff   545553  \n",
       "1    POINT (13.75000 46.55000)  8852e32f69fffff  1348611  \n",
       "2    POINT (19.97000 54.56000)  8843969553fffff  1414481  \n",
       "3    POINT (14.07000 49.96000)  88525a75d7fffff    63085  \n",
       "4    POINT (17.10000 48.14000)  8852547529fffff  1150170  \n",
       "..                         ...              ...      ...  \n",
       "127  POINT (13.54000 50.33000)  8863b4a865fffff  1142308  \n",
       "128  POINT (14.39000 49.98000)  88525a070bfffff  1490973  \n",
       "129  POINT (16.05000 48.86000)  885251593bfffff  1509496  \n",
       "130  POINT (14.19000 49.44000)  88525a58c5fffff   514661  \n",
       "131  POINT (15.17000 48.61000)  8852537195fffff   422909  \n",
       "\n",
       "[132 rows x 18 columns]"
      ],
      "text/html": "<div>\n<style scoped>\n    .dataframe tbody tr th:only-of-type {\n        vertical-align: middle;\n    }\n\n    .dataframe tbody tr th {\n        vertical-align: top;\n    }\n\n    .dataframe thead th {\n        text-align: right;\n    }\n</style>\n<table border=\"1\" class=\"dataframe\">\n  <thead>\n    <tr style=\"text-align: right;\">\n      <th></th>\n      <th>id</th>\n      <th>name</th>\n      <th>no_alle</th>\n      <th>no_activity</th>\n      <th>no_reise</th>\n      <th>no_bi</th>\n      <th>no_gg</th>\n      <th>x</th>\n      <th>y</th>\n      <th>prazision</th>\n      <th>typ</th>\n      <th>noten</th>\n      <th>region1</th>\n      <th>region2</th>\n      <th>region3</th>\n      <th>geometry</th>\n      <th>hex_id</th>\n      <th>node_id</th>\n    </tr>\n  </thead>\n  <tbody>\n    <tr>\n      <th>0</th>\n      <td>7.0</td>\n      <td>Altenburg</td>\n      <td>6.0</td>\n      <td>1.0</td>\n      <td>1.0</td>\n      <td>4.0</td>\n      <td>0.0</td>\n      <td>48.65</td>\n      <td>15.59</td>\n      <td>3.0</td>\n      <td>gemeinde</td>\n      <td>None</td>\n      <td>Niederösterreich</td>\n      <td>Nordwestniederösterreich</td>\n      <td>Nordwestniederösterreich</td>\n      <td>POINT (15.59000 48.65000)</td>\n      <td>88525310e7fffff</td>\n      <td>545553</td>\n    </tr>\n    <tr>\n      <th>1</th>\n      <td>14.0</td>\n      <td>Arnoldstein</td>\n      <td>2.0</td>\n      <td>1.0</td>\n      <td>1.0</td>\n      <td>0.0</td>\n      <td>0.0</td>\n      <td>46.55</td>\n      <td>13.75</td>\n      <td>1.0</td>\n      <td>gemeinde</td>\n      <td>None</td>\n      <td>Kärnten</td>\n      <td>Ostkärnten</td>\n      <td>Ostkärnten</td>\n      <td>POINT (13.75000 46.55000)</td>\n      <td>8852e32f69fffff</td>\n      <td>1348611</td>\n    </tr>\n    <tr>\n      <th>2</th>\n      <td>21.0</td>\n      <td>Balga</td>\n      <td>2.0</td>\n      <td>1.0</td>\n      <td>1.0</td>\n      <td>0.0</td>\n      <td>0.0</td>\n      <td>54.56</td>\n      <td>19.97</td>\n      <td>1.0</td>\n      <td>gemeinde</td>\n      <td>None</td>\n      <td>Preussen (Ausland)</td>\n      <td>Preussen (Ausland)</td>\n      <td>Preussen (Ausland)</td>\n      <td>POINT (19.97000 54.56000)</td>\n      <td>8843969553fffff</td>\n      <td>1414481</td>\n    </tr>\n    <tr>\n      <th>3</th>\n      <td>30.0</td>\n      <td>Beroun</td>\n      <td>4.0</td>\n      <td>2.0</td>\n      <td>2.0</td>\n      <td>0.0</td>\n      <td>0.0</td>\n      <td>49.96</td>\n      <td>14.07</td>\n      <td>1.0</td>\n      <td>gemeinde</td>\n      <td>None</td>\n      <td>Böhmen</td>\n      <td>Mittelböhmen</td>\n      <td>Mittelböhmen</td>\n      <td>POINT (14.07000 49.96000)</td>\n      <td>88525a75d7fffff</td>\n      <td>63085</td>\n    </tr>\n    <tr>\n      <th>4</th>\n      <td>41.0</td>\n      <td>Bratislava</td>\n      <td>29.0</td>\n      <td>12.0</td>\n      <td>12.0</td>\n      <td>5.0</td>\n      <td>0.0</td>\n      <td>48.14</td>\n      <td>17.10</td>\n      <td>1.0</td>\n      <td>gemeinde</td>\n      <td>None</td>\n      <td>Ungarn</td>\n      <td>Westungarn</td>\n      <td>Westungarn</td>\n      <td>POINT (17.10000 48.14000)</td>\n      <td>8852547529fffff</td>\n      <td>1150170</td>\n    </tr>\n    <tr>\n      <th>...</th>\n      <td>...</td>\n      <td>...</td>\n      <td>...</td>\n      <td>...</td>\n      <td>...</td>\n      <td>...</td>\n      <td>...</td>\n      <td>...</td>\n      <td>...</td>\n      <td>...</td>\n      <td>...</td>\n      <td>...</td>\n      <td>...</td>\n      <td>...</td>\n      <td>...</td>\n      <td>...</td>\n      <td>...</td>\n      <td>...</td>\n    </tr>\n    <tr>\n      <th>127</th>\n      <td>652.0</td>\n      <td>Žatec</td>\n      <td>4.0</td>\n      <td>1.0</td>\n      <td>1.0</td>\n      <td>1.0</td>\n      <td>1.0</td>\n      <td>50.33</td>\n      <td>13.54</td>\n      <td>1.0</td>\n      <td>gemeinde</td>\n      <td>None</td>\n      <td>Böhmen</td>\n      <td>Nordwestböhmen</td>\n      <td>Nordwestböhmen</td>\n      <td>POINT (13.54000 50.33000)</td>\n      <td>8863b4a865fffff</td>\n      <td>1142308</td>\n    </tr>\n    <tr>\n      <th>128</th>\n      <td>653.0</td>\n      <td>Zbraslav</td>\n      <td>3.0</td>\n      <td>3.0</td>\n      <td>0.0</td>\n      <td>0.0</td>\n      <td>0.0</td>\n      <td>49.98</td>\n      <td>14.39</td>\n      <td>1.0</td>\n      <td>gemeinde</td>\n      <td>None</td>\n      <td>Böhmen</td>\n      <td>Mittelböhmen</td>\n      <td>Mittelböhmen</td>\n      <td>POINT (14.39000 49.98000)</td>\n      <td>88525a070bfffff</td>\n      <td>1490973</td>\n    </tr>\n    <tr>\n      <th>129</th>\n      <td>667.0</td>\n      <td>Znojmo</td>\n      <td>59.0</td>\n      <td>27.0</td>\n      <td>27.0</td>\n      <td>3.0</td>\n      <td>2.0</td>\n      <td>48.86</td>\n      <td>16.05</td>\n      <td>1.0</td>\n      <td>gemeinde</td>\n      <td>None</td>\n      <td>Mähren</td>\n      <td>Znaimer Teil</td>\n      <td>Znaimer Teil</td>\n      <td>POINT (16.05000 48.86000)</td>\n      <td>885251593bfffff</td>\n      <td>1509496</td>\n    </tr>\n    <tr>\n      <th>130</th>\n      <td>668.0</td>\n      <td>Zvíkov</td>\n      <td>5.0</td>\n      <td>2.0</td>\n      <td>2.0</td>\n      <td>1.0</td>\n      <td>0.0</td>\n      <td>49.44</td>\n      <td>14.19</td>\n      <td>1.0</td>\n      <td>gemeinde</td>\n      <td>None</td>\n      <td>Böhmen</td>\n      <td>Südböhmen</td>\n      <td>Südböhmen</td>\n      <td>POINT (14.19000 49.44000)</td>\n      <td>88525a58c5fffff</td>\n      <td>514661</td>\n    </tr>\n    <tr>\n      <th>131</th>\n      <td>670.0</td>\n      <td>Zwettl</td>\n      <td>23.0</td>\n      <td>2.0</td>\n      <td>2.0</td>\n      <td>18.0</td>\n      <td>1.0</td>\n      <td>48.61</td>\n      <td>15.17</td>\n      <td>1.0</td>\n      <td>gemeinde</td>\n      <td>None</td>\n      <td>Niederösterreich</td>\n      <td>Nordwestniederösterreich</td>\n      <td>Nordwestniederösterreich</td>\n      <td>POINT (15.17000 48.61000)</td>\n      <td>8852537195fffff</td>\n      <td>422909</td>\n    </tr>\n  </tbody>\n</table>\n<p>132 rows × 18 columns</p>\n</div>"
     },
     "metadata": {},
     "execution_count": 12
    }
   ],
   "source": [
    "# run dijkstra algorithm for all destinations\n",
    "\n",
    "destinations['hex_id'] = destinations.apply(\n",
    "    lambda x: h3.geo_to_h3(x['geometry'].x, x['geometry'].y, CONST_graph_detail_lvl),\n",
    "    axis=1\n",
    ")\n",
    "destinations['node_id'] = destinations.apply(\n",
    "    lambda x: hexes_df.at[x['hex_id'], 'node'],\n",
    "    axis=1\n",
    ")\n",
    "\n",
    "\n",
    "# def calculate_paths(hex_id):\n",
    "#     dij = nk.distance.Dijkstra(g, hexes_df.at[hex_id, 'node'], True, False)\n",
    "#     dij.run()\n",
    "#     return dij\n",
    "\n",
    "# destinations['dij'] = destinations.swifter.apply(\n",
    "#     lambda x: calculate_paths(x['hex_id']),\n",
    "#     axis=1\n",
    "# )\n",
    "destinations"
   ]
  },
  {
   "cell_type": "code",
   "execution_count": 13,
   "metadata": {},
   "outputs": [],
   "source": [
    "paths = []\n",
    "for (id_from, name_from, hex_from, node_from) in destinations[['name', 'hex_id', 'node_id']].itertuples():\n",
    "    for (id_to, name_to, hex_to, node_to) in destinations[['name', 'hex_id', 'node_id']].itertuples():\n",
    "        paths.append({\n",
    "            \"name_from\": name_from,\n",
    "            \"name_to\": name_to,\n",
    "            \"hex_from\": hex_from,\n",
    "            \"hex_to\": hex_to,\n",
    "            \"node_from\": node_from,\n",
    "            \"node_to\": node_to,\n",
    "        })\n",
    "paths_df = pd.DataFrame(paths)\n",
    "\n",
    "def calculate_path(path):\n",
    "    dij = nk.distance.Dijkstra(g, path['node_from'], True, False, target = path['node_to'])\n",
    "    dij.run()\n",
    "    return dij\n",
    "\n",
    "paths_df['dij'] = paths_df.apply(\n",
    "    lambda x: calculate_path(x),\n",
    "    axis=1\n",
    ")"
   ]
  },
  {
   "cell_type": "code",
   "execution_count": 1,
   "metadata": {},
   "outputs": [
    {
     "output_type": "error",
     "ename": "NameError",
     "evalue": "name 'paths_df' is not defined",
     "traceback": [
      "\u001b[0;31m---------------------------------------------------------------------------\u001b[0m",
      "\u001b[0;31mNameError\u001b[0m                                 Traceback (most recent call last)",
      "\u001b[0;32m<ipython-input-1-9449a70fa370>\u001b[0m in \u001b[0;36m<module>\u001b[0;34m\u001b[0m\n\u001b[0;32m----> 1\u001b[0;31m \u001b[0mpaths_df\u001b[0m\u001b[0;34m\u001b[0m\u001b[0;34m\u001b[0m\u001b[0m\n\u001b[0m",
      "\u001b[0;31mNameError\u001b[0m: name 'paths_df' is not defined"
     ]
    }
   ],
   "source": [
    "paths_df"
   ]
  },
  {
   "cell_type": "code",
   "execution_count": 2,
   "metadata": {},
   "outputs": [
    {
     "output_type": "error",
     "ename": "NameError",
     "evalue": "name 'destinations' is not defined",
     "traceback": [
      "\u001b[0;31m---------------------------------------------------------------------------\u001b[0m",
      "\u001b[0;31mNameError\u001b[0m                                 Traceback (most recent call last)",
      "\u001b[0;32m<ipython-input-2-b3b3b5b62fc8>\u001b[0m in \u001b[0;36m<module>\u001b[0;34m\u001b[0m\n\u001b[1;32m      3\u001b[0m \u001b[0mpaths\u001b[0m \u001b[0;34m=\u001b[0m \u001b[0;34m[\u001b[0m\u001b[0;34m]\u001b[0m\u001b[0;34m\u001b[0m\u001b[0;34m\u001b[0m\u001b[0m\n\u001b[1;32m      4\u001b[0m \u001b[0;34m\u001b[0m\u001b[0m\n\u001b[0;32m----> 5\u001b[0;31m \u001b[0;32mfor\u001b[0m \u001b[0;34m(\u001b[0m\u001b[0mid_from\u001b[0m\u001b[0;34m,\u001b[0m \u001b[0mname_from\u001b[0m\u001b[0;34m,\u001b[0m \u001b[0mhex_from\u001b[0m\u001b[0;34m,\u001b[0m \u001b[0mnode_from\u001b[0m\u001b[0;34m)\u001b[0m \u001b[0;32min\u001b[0m \u001b[0mdestinations\u001b[0m\u001b[0;34m[\u001b[0m\u001b[0;34m[\u001b[0m\u001b[0;34m'name'\u001b[0m\u001b[0;34m,\u001b[0m \u001b[0;34m'hex_id'\u001b[0m\u001b[0;34m,\u001b[0m \u001b[0;34m'node_id'\u001b[0m\u001b[0;34m]\u001b[0m\u001b[0;34m]\u001b[0m\u001b[0;34m.\u001b[0m\u001b[0mitertuples\u001b[0m\u001b[0;34m(\u001b[0m\u001b[0;34m)\u001b[0m\u001b[0;34m:\u001b[0m\u001b[0;34m\u001b[0m\u001b[0;34m\u001b[0m\u001b[0m\n\u001b[0m\u001b[1;32m      6\u001b[0m    \u001b[0;32mfor\u001b[0m \u001b[0;34m(\u001b[0m\u001b[0mid_to\u001b[0m\u001b[0;34m,\u001b[0m \u001b[0mname_to\u001b[0m\u001b[0;34m,\u001b[0m \u001b[0mhex_to\u001b[0m\u001b[0;34m,\u001b[0m \u001b[0mnode_to\u001b[0m\u001b[0;34m)\u001b[0m \u001b[0;32min\u001b[0m \u001b[0mdestinations\u001b[0m\u001b[0;34m[\u001b[0m\u001b[0;34m[\u001b[0m\u001b[0;34m'name'\u001b[0m\u001b[0;34m,\u001b[0m \u001b[0;34m'hex_id'\u001b[0m\u001b[0;34m,\u001b[0m \u001b[0;34m'node_id'\u001b[0m\u001b[0;34m]\u001b[0m\u001b[0;34m]\u001b[0m\u001b[0;34m.\u001b[0m\u001b[0mitertuples\u001b[0m\u001b[0;34m(\u001b[0m\u001b[0;34m)\u001b[0m\u001b[0;34m:\u001b[0m\u001b[0;34m\u001b[0m\u001b[0;34m\u001b[0m\u001b[0m\n\u001b[1;32m      7\u001b[0m \u001b[0;34m\u001b[0m\u001b[0m\n",
      "\u001b[0;31mNameError\u001b[0m: name 'destinations' is not defined"
     ]
    }
   ],
   "source": [
    " # calculate hex id for each destination\n",
    "\n",
    "paths = []\n",
    "\n",
    "for (id_from, name_from, hex_from, node_from) in destinations[['name', 'hex_id', 'node_id']].itertuples():\n",
    "    for (id_to, name_to, hex_to, node_to) in destinations[['name', 'hex_id', 'node_id']].itertuples():\n",
    "         \n",
    "        dij = nk.distance.Dijkstra(g, node_from, True, False, target=node_to)\n",
    "        dij.run()\n",
    "\n",
    "        dist = dij.distance(node_to)\n",
    "        path = dij.getPath(node_to)\n",
    "\n",
    "        path_hexes = LineString([hexes_df.at[node_to_hex[i], 'center'] for i in path])\n",
    "\n",
    "        paths.append(\n",
    "            {\n",
    "                \"from\": name_from,\n",
    "                \"to\": name_to,\n",
    "                \"dist\": dist,\n",
    "                \"geometry\": path_hexes\n",
    "            }\n",
    "        )\n"
   ]
  },
  {
   "cell_type": "code",
   "execution_count": 1,
   "metadata": {
    "tags": []
   },
   "outputs": [],
   "source": [
    "# calculate hex id for each destination\n",
    "\n",
    "paths = []\n",
    "\n",
    "for (id_from, name_from, hex_from, node_from, dij) in destinations[['name', 'hex_id', 'node_id', 'dij']].itertuples():\n",
    "    for (id_to, name_to, hex_to, node_to) in destinations[['name', 'hex_id', 'node_id']].itertuples():\n",
    "        \n",
    "        dist = dij.distance(node_to)\n",
    "        path = dij.getPath(node_to)\n",
    "\n",
    "        #path_hexes = LineString([hexes_df.at[node_to_hex[i], 'center'] for i in path])\n",
    "\n",
    "        paths.append(\n",
    "            {\n",
    "                \"from\": name_from,\n",
    "                \"to\": name_to,\n",
    "                \"dist\": dist,\n",
    "                #\"geometry\": path_hexes\n",
    "            }\n",
    "        )"
   ]
  },
  {
   "cell_type": "code",
   "execution_count": 2,
   "metadata": {
    "tags": []
   },
   "outputs": [
    {
     "output_type": "error",
     "ename": "NameError",
     "evalue": "name 'gpd' is not defined",
     "traceback": [
      "\u001b[0;31m---------------------------------------------------------------------------\u001b[0m",
      "\u001b[0;31mNameError\u001b[0m                                 Traceback (most recent call last)",
      "\u001b[0;32m<ipython-input-2-a988ae322157>\u001b[0m in \u001b[0;36m<module>\u001b[0;34m\u001b[0m\n\u001b[1;32m      1\u001b[0m \u001b[0;31m# export paths\u001b[0m\u001b[0;34m\u001b[0m\u001b[0;34m\u001b[0m\u001b[0;34m\u001b[0m\u001b[0m\n\u001b[1;32m      2\u001b[0m \u001b[0;34m\u001b[0m\u001b[0m\n\u001b[0;32m----> 3\u001b[0;31m \u001b[0mpaths_df\u001b[0m \u001b[0;34m=\u001b[0m \u001b[0mgpd\u001b[0m\u001b[0;34m.\u001b[0m\u001b[0mGeoDataFrame\u001b[0m\u001b[0;34m(\u001b[0m\u001b[0mpaths\u001b[0m\u001b[0;34m,\u001b[0m \u001b[0mcrs\u001b[0m\u001b[0;34m=\u001b[0m\u001b[0;34m\"epsg:4326\"\u001b[0m\u001b[0;34m)\u001b[0m\u001b[0;34m\u001b[0m\u001b[0;34m\u001b[0m\u001b[0m\n\u001b[0m\u001b[1;32m      4\u001b[0m \u001b[0mpaths_df\u001b[0m\u001b[0;34m.\u001b[0m\u001b[0mto_file\u001b[0m\u001b[0;34m(\u001b[0m\u001b[0mPATH_OUT\u001b[0m \u001b[0;34m+\u001b[0m \u001b[0;34m'paths.shp'\u001b[0m\u001b[0;34m,\u001b[0m \u001b[0mdriver\u001b[0m\u001b[0;34m=\u001b[0m\u001b[0;34m\"ESRI Shapefile\"\u001b[0m\u001b[0;34m,\u001b[0m \u001b[0mencoding\u001b[0m\u001b[0;34m=\u001b[0m\u001b[0;34m\"utf-8\"\u001b[0m\u001b[0;34m)\u001b[0m\u001b[0;34m\u001b[0m\u001b[0;34m\u001b[0m\u001b[0m\n\u001b[1;32m      5\u001b[0m \u001b[0mpaths_df\u001b[0m\u001b[0;34m.\u001b[0m\u001b[0mto_file\u001b[0m\u001b[0;34m(\u001b[0m\u001b[0mPATH_OUT\u001b[0m \u001b[0;34m+\u001b[0m \u001b[0;34m'paths.geojson'\u001b[0m\u001b[0;34m,\u001b[0m \u001b[0mdriver\u001b[0m\u001b[0;34m=\u001b[0m\u001b[0;34m\"GeoJSON\"\u001b[0m\u001b[0;34m)\u001b[0m\u001b[0;34m\u001b[0m\u001b[0;34m\u001b[0m\u001b[0m\n",
      "\u001b[0;31mNameError\u001b[0m: name 'gpd' is not defined"
     ]
    }
   ],
   "source": [
    "# export paths\n",
    "\n",
    "paths_df = gpd.GeoDataFrame(paths, crs=\"epsg:4326\")\n",
    "paths_df.to_file(PATH_OUT + 'paths.shp', driver=\"ESRI Shapefile\", encoding=\"utf-8\")\n",
    "paths_df.to_file(PATH_OUT + 'paths.geojson', driver=\"GeoJSON\")"
   ]
  },
  {
   "cell_type": "code",
   "execution_count": 111,
   "metadata": {
    "tags": []
   },
   "outputs": [
    {
     "output_type": "stream",
     "name": "stdout",
     "text": [
      "8.65660766104275\n8.65660766104275\n"
     ]
    }
   ],
   "source": [
    "# create a destination metrix table\n",
    "\n",
    "paths_text = \"\".join([line.strip() for line in open(PATH_OUT + 'paths.geojson')])\n",
    "paths_dict = json.loads(paths_text)\n",
    "\n",
    "origins = {}\n",
    "for fi, feat in enumerate(paths_dict['features']):\n",
    "    orig = feat['properties']['from'] \n",
    "    origins[orig] = {'origin': orig}\n",
    "\n",
    "for fi, feat in enumerate(paths_dict['features']):\n",
    "    orig = feat['properties']['from']\n",
    "    dest = feat['properties']['to']\n",
    "    dist = feat['properties']['dist']\n",
    "    origins[orig][dest] = dist\n",
    "\n",
    "dist_df = pd.DataFrame(origins.values())\n",
    "\n",
    "\n",
    "dist_df.set_index('origin', inplace=True)\n",
    "dist_df.to_csv(PATH_OUT + 'dist_m.csv')\n",
    "\n",
    "print(dist_df.at['Brno', 'Praha'])\n",
    "print(dist_df.at['Praha', 'Brno'])\n"
   ]
  }
 ]
}