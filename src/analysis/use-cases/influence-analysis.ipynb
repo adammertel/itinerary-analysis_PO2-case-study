{
 "metadata": {
  "language_info": {
   "codemirror_mode": {
    "name": "ipython",
    "version": 3
   },
   "file_extension": ".py",
   "mimetype": "text/x-python",
   "name": "python",
   "nbconvert_exporter": "python",
   "pygments_lexer": "ipython3",
   "version": "3.9.5"
  },
  "orig_nbformat": 2,
  "kernelspec": {
   "name": "python3",
   "display_name": "Python 3.9.5 64-bit ('po2': conda)"
  },
  "metadata": {
   "interpreter": {
    "hash": "82749e5b48c4d6085d7533a91d2fcb4730d08732f57a440b121b3ba77c8d61ee"
   }
  },
  "interpreter": {
   "hash": "8bb744c3983b83d7efd917b66d8c68559fdfd2886c0c86e50717b653eeaf4fc6"
  }
 },
 "nbformat": 4,
 "nbformat_minor": 2,
 "cells": [
  {
   "cell_type": "code",
   "execution_count": 1,
   "source": [
    "import pandas as pd\n",
    "import geopandas as gpd\n",
    "import pathlib\n",
    "from shapely import wkt\n",
    "from shapely.geometry import Point, Polygon, LineString, MultiPoint\n",
    "\n",
    "import geojson\n",
    "import h3\n",
    "\n",
    "from geovoronoi import voronoi_regions_from_coords\n",
    "crs4326 = {'init': 'epsg:4326'}"
   ],
   "outputs": [],
   "metadata": {}
  },
  {
   "cell_type": "code",
   "execution_count": 2,
   "source": [
    "DIR_ROOT = os.path.join(pathlib.Path().absolute(), '../../..' )\n",
    "\n",
    "influences_df = pd.read_csv(DIR_ROOT + '/data/04_itinerary/influences.csv')\n",
    "influences_df = influences_df[influences_df['domestic'] == True]\n",
    "\n",
    "localities = pd.read_csv(DIR_ROOT + '/data/02_processed/localities.csv')\n",
    "localities['geometry'] = localities['geometry'].apply(wkt.loads)\n",
    "localities = gpd.GeoDataFrame(localities, crs=crs4326).set_geometry('geometry')"
   ],
   "outputs": [
    {
     "output_type": "stream",
     "name": "stderr",
     "text": [
      "/home/casus-fwu036/anaconda3/envs/po2/lib/python3.9/site-packages/pyproj/crs/crs.py:68: FutureWarning: '+init=<authority>:<code>' syntax is deprecated. '<authority>:<code>' is the preferred initialization method. When making the change, be mindful of axis order changes: https://pyproj4.github.io/pyproj/stable/gotchas.html#axis-order-changes-in-proj-6\n",
      "  return _prepare_from_string(\" \".join(pjargs))\n"
     ]
    }
   ],
   "metadata": {}
  },
  {
   "cell_type": "code",
   "execution_count": 3,
   "source": [
    "bbox = localities.buffer(1).total_bounds\n",
    "bounds = dict(geojson.Polygon([[[bbox[0], bbox[1]], [bbox[0], bbox[3]], [bbox[2], bbox[3]], [bbox[2], bbox[1]]]]))\n",
    "hex_ids = list(h3.polyfill(bounds, 4))\n",
    "\n",
    "hex_df = gpd.GeoDataFrame(\n",
    "    [{\"geometry\": Polygon(h3.h3_to_geo_boundary(x)), \"id\": x} for x in hex_ids], crs=crs4326\n",
    ")\n",
    "hex_df.set_index('id', inplace=True)\n",
    "\n",
    "hex_df['id'] = hex_df.index\n",
    "hex_df['geometry'] = hex_df.apply(lambda x: Polygon(h3.h3_to_geo_boundary(x['id'])), axis=1)\n",
    "hex_df"
   ],
   "outputs": [
    {
     "output_type": "stream",
     "name": "stderr",
     "text": [
      "<ipython-input-3-7dfe25777e9d>:1: UserWarning: Geometry is in a geographic CRS. Results from 'buffer' are likely incorrect. Use 'GeoSeries.to_crs()' to re-project geometries to a projected CRS before this operation.\n",
      "\n",
      "  bbox = localities.buffer(1).total_bounds\n"
     ]
    },
    {
     "output_type": "execute_result",
     "data": {
      "text/html": [
       "<div>\n",
       "<style scoped>\n",
       "    .dataframe tbody tr th:only-of-type {\n",
       "        vertical-align: middle;\n",
       "    }\n",
       "\n",
       "    .dataframe tbody tr th {\n",
       "        vertical-align: top;\n",
       "    }\n",
       "\n",
       "    .dataframe thead th {\n",
       "        text-align: right;\n",
       "    }\n",
       "</style>\n",
       "<table border=\"1\" class=\"dataframe\">\n",
       "  <thead>\n",
       "    <tr style=\"text-align: right;\">\n",
       "      <th></th>\n",
       "      <th>geometry</th>\n",
       "      <th>id</th>\n",
       "    </tr>\n",
       "    <tr>\n",
       "      <th>id</th>\n",
       "      <th></th>\n",
       "      <th></th>\n",
       "    </tr>\n",
       "  </thead>\n",
       "  <tbody>\n",
       "    <tr>\n",
       "      <th>847ab1dffffffff</th>\n",
       "      <td>POLYGON ((4.67117 50.83127, 4.86913 50.89282, ...</td>\n",
       "      <td>847ab1dffffffff</td>\n",
       "    </tr>\n",
       "    <tr>\n",
       "      <th>8452067ffffffff</th>\n",
       "      <td>POLYGON ((19.04710 42.42004, 18.83547 42.29510...</td>\n",
       "      <td>8452067ffffffff</td>\n",
       "    </tr>\n",
       "    <tr>\n",
       "      <th>845223bffffffff</th>\n",
       "      <td>POLYGON ((21.37862 44.30889, 21.16912 44.18003...</td>\n",
       "      <td>845223bffffffff</td>\n",
       "    </tr>\n",
       "    <tr>\n",
       "      <th>8463825ffffffff</th>\n",
       "      <td>POLYGON ((10.59403 51.30971, 10.40835 51.19220...</td>\n",
       "      <td>8463825ffffffff</td>\n",
       "    </tr>\n",
       "    <tr>\n",
       "      <th>84639adffffffff</th>\n",
       "      <td>POLYGON ((8.13327 51.91435, 8.31925 51.97301, ...</td>\n",
       "      <td>84639adffffffff</td>\n",
       "    </tr>\n",
       "    <tr>\n",
       "      <th>...</th>\n",
       "      <td>...</td>\n",
       "      <td>...</td>\n",
       "    </tr>\n",
       "    <tr>\n",
       "      <th>846311dffffffff</th>\n",
       "      <td>POLYGON ((15.42584 55.42638, 15.24331 55.30431...</td>\n",
       "      <td>846311dffffffff</td>\n",
       "    </tr>\n",
       "    <tr>\n",
       "      <th>8463323ffffffff</th>\n",
       "      <td>POLYGON ((17.08202 54.73795, 16.89674 54.61353...</td>\n",
       "      <td>8463323ffffffff</td>\n",
       "    </tr>\n",
       "    <tr>\n",
       "      <th>847a927ffffffff</th>\n",
       "      <td>POLYGON ((8.44068 51.22703, 8.62675 51.28682, ...</td>\n",
       "      <td>847a927ffffffff</td>\n",
       "    </tr>\n",
       "    <tr>\n",
       "      <th>84535b5ffffffff</th>\n",
       "      <td>POLYGON ((21.00031 48.59341, 20.79961 48.46345...</td>\n",
       "      <td>84535b5ffffffff</td>\n",
       "    </tr>\n",
       "    <tr>\n",
       "      <th>8463b15ffffffff</th>\n",
       "      <td>POLYGON ((12.37645 50.86320, 12.18744 50.74356...</td>\n",
       "      <td>8463b15ffffffff</td>\n",
       "    </tr>\n",
       "  </tbody>\n",
       "</table>\n",
       "<p>1978 rows × 2 columns</p>\n",
       "</div>"
      ],
      "text/plain": [
       "                                                          geometry  \\\n",
       "id                                                                   \n",
       "847ab1dffffffff  POLYGON ((4.67117 50.83127, 4.86913 50.89282, ...   \n",
       "8452067ffffffff  POLYGON ((19.04710 42.42004, 18.83547 42.29510...   \n",
       "845223bffffffff  POLYGON ((21.37862 44.30889, 21.16912 44.18003...   \n",
       "8463825ffffffff  POLYGON ((10.59403 51.30971, 10.40835 51.19220...   \n",
       "84639adffffffff  POLYGON ((8.13327 51.91435, 8.31925 51.97301, ...   \n",
       "...                                                            ...   \n",
       "846311dffffffff  POLYGON ((15.42584 55.42638, 15.24331 55.30431...   \n",
       "8463323ffffffff  POLYGON ((17.08202 54.73795, 16.89674 54.61353...   \n",
       "847a927ffffffff  POLYGON ((8.44068 51.22703, 8.62675 51.28682, ...   \n",
       "84535b5ffffffff  POLYGON ((21.00031 48.59341, 20.79961 48.46345...   \n",
       "8463b15ffffffff  POLYGON ((12.37645 50.86320, 12.18744 50.74356...   \n",
       "\n",
       "                              id  \n",
       "id                                \n",
       "847ab1dffffffff  847ab1dffffffff  \n",
       "8452067ffffffff  8452067ffffffff  \n",
       "845223bffffffff  845223bffffffff  \n",
       "8463825ffffffff  8463825ffffffff  \n",
       "84639adffffffff  84639adffffffff  \n",
       "...                          ...  \n",
       "846311dffffffff  846311dffffffff  \n",
       "8463323ffffffff  8463323ffffffff  \n",
       "847a927ffffffff  847a927ffffffff  \n",
       "84535b5ffffffff  84535b5ffffffff  \n",
       "8463b15ffffffff  8463b15ffffffff  \n",
       "\n",
       "[1978 rows x 2 columns]"
      ]
     },
     "metadata": {},
     "execution_count": 3
    }
   ],
   "metadata": {}
  },
  {
   "cell_type": "code",
   "execution_count": 4,
   "source": [
    "def get_influence_origins(hex_geo):\n",
    "    localities_in_hex = localities[localities.intersects(hex_geo)]\n",
    "\n",
    "    infl_list = []\n",
    "    for lihi, locality_in_hex in localities_in_hex.iterrows():\n",
    "        inf_object_rows = influences_df[influences_df['name'] == locality_in_hex['name']]\n",
    "        infl_list.extend(inf_object_rows['locality'].tolist())\n",
    "\n",
    "    return { x: infl_list.count(x) for x in infl_list}\n",
    "\n",
    "hex_df['infl'] = hex_df.apply(\n",
    "    lambda x: get_influence_origins(x['geometry']), \n",
    "    axis=1\n",
    ")\n",
    "print(hex_df['infl'].tolist())\n",
    "\n",
    "hex_df['all'] = hex_df.apply(\n",
    "    lambda x: sum(x['infl'].values()), \n",
    "    axis=1\n",
    ")\n",
    "\n",
    "centers_to_check = ['Praha', 'Brno', 'Wien', 'Znojmo', 'Graz', 'Krems an der Donau', 'Linz']\n",
    "\n",
    "\n",
    "for center in centers_to_check:\n",
    "    hex_df[center] = hex_df.apply(\n",
    "        lambda x: x['infl'][center] if center in x['infl'] else 0, \n",
    "        axis=1\n",
    "    )\n",
    "\n",
    "hex_df['others'] = hex_df.apply(\n",
    "    lambda x: x['all'] - sum(x[center] for center in centers_to_check) , \n",
    "    axis=1\n",
    ")\n",
    "\n"
   ],
   "outputs": [],
   "metadata": {
    "tags": []
   }
  },
  {
   "cell_type": "code",
   "execution_count": null,
   "source": [
    "\n",
    "hex_df.reset_index(drop=True).to_file(DIR_ROOT + '/data/06_outputs/hex_influence.geojson', driver=\"GeoJSON\")\n",
    "\n",
    "hex_df_geo = hex_df.copy()\n",
    "hex_df_geo['centroid'] = hex_df_geo.apply(\n",
    "    lambda x: x['geometry'].centroid, \n",
    "    axis=1\n",
    ")\n",
    "hex_df_geo = hex_df_geo.drop(columns=[\"geometry\"])\n",
    "hex_df_geo.set_geometry('centroid', inplace=True)\n",
    "hex_df_geo = hex_df_geo.reset_index(drop=True)\n",
    "hex_df_geo.to_file(DIR_ROOT + '/data/06_outputs/hex-centroids_influence.geojson', driver=\"GeoJSON\")\n"
   ],
   "outputs": [],
   "metadata": {}
  }
 ]
}