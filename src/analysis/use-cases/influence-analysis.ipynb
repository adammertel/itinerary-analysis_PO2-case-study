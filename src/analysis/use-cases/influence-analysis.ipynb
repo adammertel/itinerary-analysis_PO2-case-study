{
 "metadata": {
  "language_info": {
   "codemirror_mode": {
    "name": "ipython",
    "version": 3
   },
   "file_extension": ".py",
   "mimetype": "text/x-python",
   "name": "python",
   "nbconvert_exporter": "python",
   "pygments_lexer": "ipython3",
   "version": "3.9.5"
  },
  "orig_nbformat": 2,
  "kernelspec": {
   "name": "python3",
   "display_name": "Python 3.9.5 64-bit ('po2': conda)"
  },
  "metadata": {
   "interpreter": {
    "hash": "82749e5b48c4d6085d7533a91d2fcb4730d08732f57a440b121b3ba77c8d61ee"
   }
  },
  "interpreter": {
   "hash": "8bb744c3983b83d7efd917b66d8c68559fdfd2886c0c86e50717b653eeaf4fc6"
  }
 },
 "nbformat": 4,
 "nbformat_minor": 2,
 "cells": [
  {
   "cell_type": "code",
   "execution_count": 1,
   "source": [
    "import pandas as pd\n",
    "import geopandas as gpd\n",
    "import pathlib\n",
    "from shapely import wkt\n",
    "from shapely.geometry import Point, Polygon, LineString, MultiPoint\n",
    "\n",
    "import geojson\n",
    "import h3\n",
    "\n",
    "from geovoronoi import voronoi_regions_from_coords\n",
    "crs4326 = {'init': 'epsg:4326'}"
   ],
   "outputs": [],
   "metadata": {}
  },
  {
   "cell_type": "code",
   "execution_count": 2,
   "source": [
    "DIR_ROOT = os.path.join(pathlib.Path().absolute(), '../../..' )\n",
    "\n",
    "influences_df = pd.read_csv(DIR_ROOT + '/data/04_itinerary/influences.csv')\n",
    "influences_df = influences_df[influences_df['domestic'] == True]\n",
    "\n",
    "localities = pd.read_csv(DIR_ROOT + '/data/02_processed/localities.csv')\n",
    "localities['geometry'] = localities['geometry'].apply(wkt.loads)\n",
    "localities = gpd.GeoDataFrame(localities, crs=crs4326).set_geometry('geometry')"
   ],
   "outputs": [
    {
     "output_type": "stream",
     "name": "stderr",
     "text": [
      "/home/casus-fwu036/anaconda3/envs/po2/lib/python3.9/site-packages/pyproj/crs/crs.py:68: FutureWarning: '+init=<authority>:<code>' syntax is deprecated. '<authority>:<code>' is the preferred initialization method. When making the change, be mindful of axis order changes: https://pyproj4.github.io/pyproj/stable/gotchas.html#axis-order-changes-in-proj-6\n",
      "  return _prepare_from_string(\" \".join(pjargs))\n"
     ]
    }
   ],
   "metadata": {}
  },
  {
   "cell_type": "code",
   "execution_count": 3,
   "source": [
    "bbox = localities.buffer(1).total_bounds\n",
    "bounds = dict(geojson.Polygon([[[bbox[0], bbox[1]], [bbox[0], bbox[3]], [bbox[2], bbox[3]], [bbox[2], bbox[1]]]]))\n",
    "hex_ids = list(h3.polyfill(bounds, 4))\n",
    "\n",
    "hex_df = gpd.GeoDataFrame(\n",
    "    [{\"geometry\": Polygon(h3.h3_to_geo_boundary(x)), \"id\": x} for x in hex_ids], crs=crs4326\n",
    ")\n",
    "hex_df.set_index('id', inplace=True)\n",
    "\n",
    "hex_df['id'] = hex_df.index\n",
    "hex_df['geometry'] = hex_df.apply(lambda x: Polygon(h3.h3_to_geo_boundary(x['id'])), axis=1)\n",
    "hex_df"
   ],
   "outputs": [
    {
     "output_type": "stream",
     "name": "stderr",
     "text": [
      "<ipython-input-3-7dfe25777e9d>:1: UserWarning: Geometry is in a geographic CRS. Results from 'buffer' are likely incorrect. Use 'GeoSeries.to_crs()' to re-project geometries to a projected CRS before this operation.\n",
      "\n",
      "  bbox = localities.buffer(1).total_bounds\n"
     ]
    },
    {
     "output_type": "execute_result",
     "data": {
      "text/html": [
       "<div>\n",
       "<style scoped>\n",
       "    .dataframe tbody tr th:only-of-type {\n",
       "        vertical-align: middle;\n",
       "    }\n",
       "\n",
       "    .dataframe tbody tr th {\n",
       "        vertical-align: top;\n",
       "    }\n",
       "\n",
       "    .dataframe thead th {\n",
       "        text-align: right;\n",
       "    }\n",
       "</style>\n",
       "<table border=\"1\" class=\"dataframe\">\n",
       "  <thead>\n",
       "    <tr style=\"text-align: right;\">\n",
       "      <th></th>\n",
       "      <th>geometry</th>\n",
       "      <th>id</th>\n",
       "    </tr>\n",
       "    <tr>\n",
       "      <th>id</th>\n",
       "      <th></th>\n",
       "      <th></th>\n",
       "    </tr>\n",
       "  </thead>\n",
       "  <tbody>\n",
       "    <tr>\n",
       "      <th>8463a4bffffffff</th>\n",
       "      <td>POLYGON ((15.20844 52.68263, 15.02006 52.55990...</td>\n",
       "      <td>8463a4bffffffff</td>\n",
       "    </tr>\n",
       "    <tr>\n",
       "      <th>8452c63ffffffff</th>\n",
       "      <td>POLYGON ((12.41131 45.06760, 12.21167 44.94877...</td>\n",
       "      <td>8452c63ffffffff</td>\n",
       "    </tr>\n",
       "    <tr>\n",
       "      <th>844394dffffffff</th>\n",
       "      <td>POLYGON ((20.50239 54.11574, 20.30748 54.19866...</td>\n",
       "      <td>844394dffffffff</td>\n",
       "    </tr>\n",
       "    <tr>\n",
       "      <th>847a817ffffffff</th>\n",
       "      <td>POLYGON ((6.27104 47.88829, 6.46855 47.95450, ...</td>\n",
       "      <td>847a817ffffffff</td>\n",
       "    </tr>\n",
       "    <tr>\n",
       "      <th>8452ec9ffffffff</th>\n",
       "      <td>POLYGON ((15.25890 47.87746, 15.06071 47.75458...</td>\n",
       "      <td>8452ec9ffffffff</td>\n",
       "    </tr>\n",
       "    <tr>\n",
       "      <th>...</th>\n",
       "      <td>...</td>\n",
       "      <td>...</td>\n",
       "    </tr>\n",
       "    <tr>\n",
       "      <th>845258dffffffff</th>\n",
       "      <td>POLYGON ((15.52733 50.18800, 15.33344 50.06460...</td>\n",
       "      <td>845258dffffffff</td>\n",
       "    </tr>\n",
       "    <tr>\n",
       "      <th>847a803ffffffff</th>\n",
       "      <td>POLYGON ((5.96309 48.61016, 6.16053 48.67522, ...</td>\n",
       "      <td>847a803ffffffff</td>\n",
       "    </tr>\n",
       "    <tr>\n",
       "      <th>8452e13ffffffff</th>\n",
       "      <td>POLYGON ((14.84306 47.18684, 14.64402 47.06459...</td>\n",
       "      <td>8452e13ffffffff</td>\n",
       "    </tr>\n",
       "    <tr>\n",
       "      <th>84520e3ffffffff</th>\n",
       "      <td>POLYGON ((17.92995 45.27279, 17.72435 45.14757...</td>\n",
       "      <td>84520e3ffffffff</td>\n",
       "    </tr>\n",
       "    <tr>\n",
       "      <th>8452235ffffffff</th>\n",
       "      <td>POLYGON ((20.94781 43.55931, 20.73708 43.43140...</td>\n",
       "      <td>8452235ffffffff</td>\n",
       "    </tr>\n",
       "  </tbody>\n",
       "</table>\n",
       "<p>1978 rows × 2 columns</p>\n",
       "</div>"
      ],
      "text/plain": [
       "                                                          geometry  \\\n",
       "id                                                                   \n",
       "8463a4bffffffff  POLYGON ((15.20844 52.68263, 15.02006 52.55990...   \n",
       "8452c63ffffffff  POLYGON ((12.41131 45.06760, 12.21167 44.94877...   \n",
       "844394dffffffff  POLYGON ((20.50239 54.11574, 20.30748 54.19866...   \n",
       "847a817ffffffff  POLYGON ((6.27104 47.88829, 6.46855 47.95450, ...   \n",
       "8452ec9ffffffff  POLYGON ((15.25890 47.87746, 15.06071 47.75458...   \n",
       "...                                                            ...   \n",
       "845258dffffffff  POLYGON ((15.52733 50.18800, 15.33344 50.06460...   \n",
       "847a803ffffffff  POLYGON ((5.96309 48.61016, 6.16053 48.67522, ...   \n",
       "8452e13ffffffff  POLYGON ((14.84306 47.18684, 14.64402 47.06459...   \n",
       "84520e3ffffffff  POLYGON ((17.92995 45.27279, 17.72435 45.14757...   \n",
       "8452235ffffffff  POLYGON ((20.94781 43.55931, 20.73708 43.43140...   \n",
       "\n",
       "                              id  \n",
       "id                                \n",
       "8463a4bffffffff  8463a4bffffffff  \n",
       "8452c63ffffffff  8452c63ffffffff  \n",
       "844394dffffffff  844394dffffffff  \n",
       "847a817ffffffff  847a817ffffffff  \n",
       "8452ec9ffffffff  8452ec9ffffffff  \n",
       "...                          ...  \n",
       "845258dffffffff  845258dffffffff  \n",
       "847a803ffffffff  847a803ffffffff  \n",
       "8452e13ffffffff  8452e13ffffffff  \n",
       "84520e3ffffffff  84520e3ffffffff  \n",
       "8452235ffffffff  8452235ffffffff  \n",
       "\n",
       "[1978 rows x 2 columns]"
      ]
     },
     "metadata": {},
     "execution_count": 3
    }
   ],
   "metadata": {}
  },
  {
   "cell_type": "code",
   "execution_count": 10,
   "source": [
    "def get_influence_origins(hex_geo):\n",
    "    localities_in_hex = localities[localities.intersects(hex_geo)]\n",
    "\n",
    "    infl_list = []\n",
    "    for lihi, locality_in_hex in localities_in_hex.iterrows():\n",
    "        inf_object_rows = influences_df[influences_df['name'] == locality_in_hex['name']]\n",
    "        infl_list.extend(inf_object_rows['locality'].tolist())\n",
    "\n",
    "    return { x: infl_list.count(x) for x in infl_list}\n",
    "\n",
    "hex_df['infl'] = hex_df.apply(\n",
    "    lambda x: get_influence_origins(x['geometry']), \n",
    "    axis=1\n",
    ")\n",
    "print(hex_df['infl'].tolist())\n",
    "\n",
    "hex_df['all'] = hex_df.apply(\n",
    "    lambda x: sum(x['infl'].values()), \n",
    "    axis=1\n",
    ")\n",
    "\n",
    "centers_to_check = ['Praha', 'Brno', 'Wien', 'Graz', 'Opava', 'Linz', 'Kostanjevica na Krki', 'Friesach']\n",
    "\n",
    "\n",
    "for center in centers_to_check:\n",
    "    hex_df[center] = hex_df.apply(\n",
    "        lambda x: x['infl'][center] if center in x['infl'] else 0, \n",
    "        axis=1\n",
    "    )\n",
    "\n",
    "hex_df['others'] = hex_df.apply(\n",
    "    lambda x: x['all'] - sum(x[center] for center in centers_to_check) , \n",
    "    axis=1\n",
    ")\n",
    "\n"
   ],
   "outputs": [
    {
     "output_type": "stream",
     "name": "stdout",
     "text": [
      "[{}, {}, {}, {}, {'Znojmo': 2, 'Brno': 1, 'Korneuburg': 1, 'Wien': 2, 'Písek': 1, 'Praha': 1}, {'Graz': 4, 'Velehrad': 1, 'Wien': 5, 'Brno': 1}, {}, {}, {}, {}, {}, {}, {}, {}, {}, {}, {}, {}, {}, {'Wien': 1}, {}, {}, {}, {}, {}, {}, {}, {}, {}, {}, {}, {}, {}, {}, {}, {}, {}, {}, {'Wien': 1}, {}, {}, {}, {}, {}, {}, {}, {}, {}, {}, {}, {}, {}, {}, {}, {}, {}, {}, {}, {'Slovenj Gradec': 3, 'Wien': 1, 'Graz': 1, 'Praha': 1}, {}, {}, {}, {'Korneuburg': 1}, {}, {}, {}, {}, {}, {}, {}, {}, {}, {}, {}, {}, {}, {}, {}, {'Brno': 3, 'Zbraslav': 1, 'Wien': 1, 'Krems an der Donau': 1, 'Znojmo': 1, 'Wiener Neustadt': 1}, {}, {}, {'Praha': 7}, {}, {}, {}, {}, {}, {}, {}, {}, {}, {}, {}, {}, {}, {}, {}, {}, {}, {}, {}, {}, {}, {'Poděbrady': 1, 'Praha': 1}, {}, {}, {}, {}, {}, {}, {}, {'Wien': 9, 'Graz': 4, 'Jihlava': 1, 'Głubczyce': 1, 'Freistadt': 3, 'Linz': 2, 'Znojmo': 2, 'Brno': 5, 'Písek': 1}, {}, {}, {}, {}, {}, {}, {'Wiener Neustadt': 1, 'Wien': 1, 'Graz': 1, 'Velehrad': 2, 'Praha': 1}, {}, {}, {'Písek': 1, 'Praha': 3, 'Olomouc': 2, 'Uherský Ostroh': 1}, {}, {'Znojmo': 1, 'Krems an der Donau': 2, 'Wien': 5, 'Neuburg am Inn': 2, 'Linz': 1, 'Gaming': 1, 'Praha': 3, 'Eggenburg': 1}, {}, {}, {}, {}, {}, {'Praha': 1}, {}, {}, {}, {}, {}, {}, {}, {}, {}, {}, {}, {}, {}, {}, {}, {}, {}, {}, {}, {}, {}, {}, {'Znojmo': 1, 'Praha': 2}, {}, {}, {}, {}, {}, {}, {}, {}, {}, {}, {}, {'Praha': 1}, {}, {}, {}, {'Wilhelmsburg': 1, 'Wien': 10, 'Znojmo': 1, 'Milevsko': 1, 'Laa an der Thaya': 1, 'Linz': 1, 'Velehrad': 2, 'Praha': 1, 'Vyškov': 1, 'Zbraslav': 1}, {}, {}, {'Plasy': 1, 'Uherské Hradiště': 2, 'Brno': 1, 'Kamýk nad Vltavou': 1, 'Olomouc': 1}, {}, {}, {}, {}, {}, {}, {'Praha': 1}, {}, {}, {}, {}, {}, {}, {}, {}, {}, {}, {}, {}, {}, {}, {}, {}, {}, {}, {}, {}, {}, {}, {}, {}, {}, {}, {}, {}, {}, {}, {}, {'Zbraslav': 1}, {}, {}, {}, {}, {}, {}, {}, {'Korneuburg': 1, 'Wien': 6, 'Hainburg': 3, 'Brno': 1, 'Wilhelmsburg': 1, 'Znojmo': 1}, {}, {}, {}, {}, {}, {}, {}, {}, {'Wiener Neustadt': 1}, {}, {}, {}, {}, {}, {'Ljubljana': 1}, {}, {}, {}, {}, {'Hradec Králové': 2, 'Žatec': 1, 'Praha': 2}, {}, {'Praha': 3}, {}, {}, {}, {}, {}, {}, {}, {}, {}, {}, {}, {}, {}, {}, {}, {}, {}, {}, {}, {}, {}, {'Brno': 1}, {}, {'Veveří': 1, 'Linz': 1, 'Wien': 1}, {}, {}, {}, {'Graz': 4, 'Villach': 1}, {}, {}, {}, {}, {}, {}, {}, {}, {}, {}, {}, {'Wien': 2, 'Jihlava': 1, 'Głubczyce': 1, 'Laa an der Thaya': 1}, {}, {}, {}, {}, {}, {}, {}, {'Praha': 1}, {}, {}, {}, {}, {}, {}, {}, {}, {}, {}, {}, {}, {}, {}, {}, {}, {}, {}, {}, {}, {}, {}, {}, {'Beroun': 1, 'Praha': 2, 'Zvíkov': 1}, {}, {'Jihlava': 1}, {}, {}, {}, {}, {}, {}, {}, {}, {}, {}, {}, {'Praha': 1, 'Plasy': 2, 'Křivoklát': 1}, {}, {'Brno': 4, 'Olomouc': 2, 'Wien': 1, 'Plasy': 1, 'Uherské Hradiště': 1}, {}, {}, {}, {}, {}, {}, {}, {'Znojmo': 1, 'Korneuburg': 1, 'Wien': 1}, {}, {}, {'Wien': 1, 'Veveří': 1, 'Brno': 1}, {}, {'Znojmo': 1, 'Graz': 5, 'Linz': 2, 'Wien': 1, 'Praha': 2, 'Veveří': 1}, {}, {}, {}, {}, {}, {}, {}, {}, {}, {}, {}, {}, {}, {}, {}, {}, {}, {}, {}, {}, {}, {}, {}, {}, {'Brno': 2, 'Jihlava': 1, 'Praha': 1}, {}, {}, {}, {}, {}, {}, {}, {}, {}, {}, {}, {}, {}, {}, {}, {}, {}, {}, {'Písek': 1}, {}, {}, {}, {}, {}, {}, {}, {}, {}, {}, {}, {}, {}, {}, {}, {}, {}, {}, {}, {}, {}, {}, {}, {}, {}, {}, {}, {}, {}, {}, {}, {}, {}, {}, {}, {}, {}, {}, {}, {}, {}, {}, {}, {}, {}, {}, {}, {}, {}, {}, {}, {}, {}, {}, {'Praha': 5, 'Kravaře u České Lípy': 1, 'Jablonné v Podještědí': 1, 'Budyně nad Ohří': 2, 'Litoměřice': 1}, {}, {}, {}, {}, {}, {'Kladruby': 2, 'Zvíkov': 2, 'Praha': 1, 'Kamýk nad Vltavou': 1, 'Plasy': 2, 'Křivoklát': 1}, {}, {}, {}, {}, {}, {}, {}, {}, {}, {}, {}, {}, {}, {}, {}, {}, {}, {}, {}, {}, {}, {}, {}, {}, {}, {}, {}, {'Jablonné v Podještědí': 4, 'Budyně nad Ohří': 1, 'Praha': 3, 'Písek': 1}, {}, {}, {'Žatec': 1, 'Praha': 3}, {}, {'Praha': 2, 'Brno': 2, 'Jihlava': 1}, {}, {}, {}, {}, {}, {'Velehrad': 2, 'Praha': 1}, {}, {}, {}, {'Havlíčkův Brod': 2, 'Poděbrady': 1}, {}, {}, {}, {}, {}, {}, {}, {}, {}, {'Wien': 1, 'Krems an der Donau': 1, 'Praha': 1}, {}, {}, {}, {}, {}, {}, {}, {}, {}, {}, {'Wien': 1}, {}, {'Praha': 1}, {}, {}, {}, {}, {}, {}, {}, {}, {}, {}, {}, {'Korneuburg': 1, 'Wels': 1}, {}, {}, {}, {}, {}, {}, {}, {}, {}, {}, {}, {}, {}, {'Písek': 2, 'Myšenec': 1}, {}, {}, {}, {}, {}, {}, {}, {}, {}, {}, {}, {}, {}, {}, {}, {}, {}, {}, {}, {}, {}, {}, {}, {}, {}, {}, {}, {}, {}, {}, {}, {}, {}, {}, {}, {}, {}, {}, {}, {}, {}, {'Wien': 1}, {}, {}, {}, {}, {}, {}, {}, {}, {}, {}, {}, {}, {}, {}, {}, {}, {}, {}, {}, {}, {}, {}, {}, {}, {}, {}, {}, {}, {}, {}, {}, {}, {}, {}, {}, {}, {}, {}, {}, {}, {}, {}, {'Bratislava': 1, 'Wien': 1}, {}, {}, {}, {}, {}, {}, {}, {}, {}, {}, {}, {}, {'Olomouc': 1}, {}, {}, {'Eggenburg': 1, 'Linz': 6, 'Wien': 8, 'Krems an der Donau': 3, 'Wels': 3, 'Praha': 4, 'Znojmo': 3, 'Korneuburg': 1, 'Písek': 1, 'Graz': 1}, {}, {}, {}, {}, {}, {}, {}, {}, {}, {}, {}, {}, {}, {}, {}, {}, {}, {}, {}, {}, {}, {}, {}, {}, {}, {}, {}, {}, {'Praha': 4, 'Wien': 2, 'Znojmo': 1, 'Freistadt': 2, 'Krems an der Donau': 1, 'Hainburg': 2}, {}, {}, {}, {}, {}, {}, {}, {}, {}, {'Sadská': 1, 'Znojmo': 1, 'Praha': 2}, {}, {}, {}, {}, {}, {}, {}, {}, {}, {'Traiskirchen': 1, 'Vyškov': 1}, {}, {}, {}, {'Praha': 18, 'Písek': 1, 'Brno': 1, 'Křivoklát': 1, 'Dobříš': 1, 'Litoměřice': 1}, {}, {}, {}, {}, {}, {}, {}, {}, {}, {}, {}, {}, {}, {}, {}, {}, {}, {}, {}, {}, {}, {}, {}, {}, {}, {}, {}, {}, {}, {'Krems an der Donau': 5, 'Jaroměřice nad Rokytkou': 3, 'Praha': 1, 'Kleinweikersdorf': 1, 'Wien': 1, 'Laa an der Thaya': 2}, {}, {}, {}, {}, {}, {}, {}, {}, {}, {}, {}, {}, {}, {}, {}, {}, {}, {}, {}, {}, {}, {'Kladruby': 2, 'Praha': 5, 'Křivoklát': 3, 'Plasy': 5}, {}, {}, {}, {}, {}, {'Linz': 1}, {}, {}, {}, {'Kamýk nad Vltavou': 1, 'Stična': 1, 'Praha': 1, 'Brno': 2, 'Znojmo': 1, 'Wien': 3}, {}, {}, {}, {}, {}, {'Graz': 1, 'Wiener Neustadt': 1, 'Znojmo': 1, 'Velehrad': 1, 'Praha': 1}, {}, {}, {}, {}, {}, {}, {}, {}, {}, {}, {}, {}, {}, {}, {}, {}, {}, {}, {}, {}, {'Písek': 1}, {}, {}, {}, {}, {}, {}, {}, {}, {}, {'Wien': 2, 'Freistadt': 1}, {}, {}, {}, {}, {'Kamýk nad Vltavou': 1, 'Praha': 1}, {}, {}, {}, {}, {}, {}, {'Písek': 1}, {}, {}, {}, {}, {}, {}, {}, {}, {}, {}, {}, {}, {}, {}, {}, {}, {}, {}, {}, {}, {}, {}, {}, {}, {}, {}, {}, {}, {}, {}, {}, {}, {}, {}, {}, {}, {}, {}, {}, {'Wien': 2, 'Brno': 1, 'Graz': 1}, {}, {}, {}, {}, {}, {}, {}, {}, {}, {}, {}, {}, {}, {}, {}, {}, {}, {}, {}, {}, {}, {}, {}, {}, {}, {}, {}, {}, {}, {}, {}, {}, {}, {}, {}, {}, {}, {}, {}, {}, {}, {'Brno': 1}, {}, {}, {}, {}, {}, {}, {}, {}, {}, {}, {}, {}, {}, {}, {}, {}, {}, {'Praha': 32, 'Jihlava': 1, 'Poděbrady': 3}, {}, {}, {}, {'Brno': 1, 'Wien': 5, 'Laa an der Thaya': 1}, {}, {}, {}, {}, {}, {}, {}, {}, {}, {}, {}, {}, {}, {}, {}, {}, {}, {}, {}, {}, {}, {}, {}, {}, {}, {'Křivoklát': 1}, {}, {}, {}, {}, {}, {}, {}, {}, {}, {}, {}, {}, {}, {}, {}, {}, {}, {}, {}, {}, {}, {}, {}, {'Wien': 1, 'Graz': 1, 'Brno': 2}, {}, {}, {}, {}, {}, {}, {}, {}, {}, {}, {}, {}, {}, {}, {}, {}, {}, {}, {}, {}, {}, {}, {}, {}, {}, {}, {}, {'Wien': 4, 'Praha': 2, 'Kostanjevica na Krki': 2, 'Stična': 2, 'Graz': 1}, {}, {'Wien': 5, 'Wiener Neustadt': 2, 'Linz': 1}, {}, {}, {}, {}, {}, {}, {}, {}, {}, {}, {}, {}, {}, {}, {}, {}, {}, {}, {}, {}, {}, {}, {}, {}, {}, {}, {'Freistadt': 1}, {}, {}, {}, {}, {}, {}, {}, {}, {}, {}, {}, {}, {}, {}, {}, {}, {}, {'Křivoklát': 1}, {}, {}, {}, {}, {}, {}, {}, {}, {'Brno': 3, 'Wien': 1, 'Linz': 1, 'Wels': 1, 'Graz': 1}, {}, {}, {}, {}, {}, {}, {}, {}, {}, {'Hainburg': 1}, {}, {}, {}, {}, {}, {}, {}, {}, {}, {}, {}, {}, {}, {}, {}, {}, {'Beroun': 1, 'Praha': 1}, {}, {}, {}, {}, {}, {}, {}, {}, {}, {'Laa an der Thaya': 1, 'Písek': 1, 'Myšenec': 1}, {}, {}, {}, {}, {}, {}, {}, {}, {}, {}, {'Praha': 1}, {}, {}, {}, {}, {}, {}, {}, {}, {}, {}, {}, {}, {}, {'Wien': 9, 'Wilhelmsburg': 4, 'Krems an der Donau': 1, 'Traiskirchen': 1, 'Wiener Neustadt': 1, 'Lilienfeld': 1, 'Laa an der Thaya': 1, 'Praha': 1}, {}, {}, {}, {}, {}, {}, {}, {}, {}, {}, {}, {}, {}, {}, {}, {}, {}, {}, {}, {}, {}, {}, {'Praha': 6, 'Kladruby': 1}, {}, {}, {}, {}, {}, {}, {'Krems an der Donau': 3, 'Písek': 1, 'Praha': 3, 'Znojmo': 1, 'Wien': 2, 'České Budějovice': 1, 'Vracov': 1, 'Litoměřice': 1}, {}, {}, {}, {}, {}, {}, {}, {}, {}, {}, {}, {}, {}, {}, {}, {}, {}, {}, {}, {}, {}, {}, {}, {'Brno': 5, 'Zvíkov': 2, 'Znojmo': 2, 'Praha': 2, 'Písek': 1}, {'Kamýk nad Vltavou': 1, 'Praha': 1}, {}, {}, {}, {}, {}, {}, {}, {}, {}, {}, {}, {}, {}, {}, {'Praha': 1}, {}, {}, {}, {}, {}, {}, {}, {}, {}, {}, {}, {}, {}, {}, {}, {}, {}, {}, {}, {}, {'Linz': 1, 'Krems an der Donau': 3, 'Wels': 1, 'Freistadt': 1, 'Korneuburg': 1, 'Písek': 2, 'Sadská': 1, 'Wien': 1}, {}, {}, {}, {}, {}, {}, {}, {}, {}, {}, {}, {}, {}, {'Brno': 1, 'Olomouc': 2, 'Přištpo': 1}, {}, {}, {}, {}, {}, {'Praha': 1}, {}, {}, {}, {}, {'Stříbro': 1}, {}, {}, {}, {'Wien': 18, 'Głubczyce': 1, 'Znojmo': 2, 'Sitzenberg': 2, 'Poděbrady': 1, 'Praha': 3, 'Jihlava': 1, 'Jaroměřice nad Rokytkou': 1, 'Zbraslav': 1, 'Brno': 1}, {}, {}, {}, {}, {}, {}, {}, {}, {'Graz': 1, 'Ljubljana': 1}, {}, {}, {}, {}, {}, {}, {}, {}, {}, {}, {'Judenburg': 1, 'Graz': 3, 'Villach': 1}, {}, {}, {}, {}, {}, {}, {}, {}, {}, {}, {}, {}, {}, {}, {}, {}, {}, {}, {}, {}, {}, {}, {}, {'Praha': 2, 'Písek': 2, 'Brno': 2}, {'Krems an der Donau': 1, 'Praha': 5, 'Wien': 5, 'Traiskirchen': 1, 'Vyškov': 3, 'Brno': 1, 'Freistadt': 2, 'Velehrad': 2, 'Korneuburg': 1, 'Písek': 1, 'Wiener Neustadt': 1, 'Znojmo': 1}, {}, {}, {}, {}, {}, {}, {'Wien': 1}, {}, {}, {}, {}, {}, {}, {}, {}, {}, {}, {}, {}, {}, {}, {}, {}, {}, {}, {}, {}, {}, {}, {}, {}, {}, {}, {'Most': 2, 'Praha': 6, 'Poděbrady': 1, 'Wien': 2, 'Křivoklát': 2}, {}, {}, {}, {}, {}, {}, {}, {}, {}, {'Praha': 1, 'Písek': 1, 'Brno': 1}, {}, {}, {}, {}, {}, {}, {}, {}, {}, {}, {}, {}, {}, {'Krems an der Donau': 1, 'Linz': 6, 'Graz': 1, 'Wien': 2, 'Znojmo': 1, 'Freistadt': 1, 'Litoměřice': 1}, {}, {}, {}, {}, {}, {}, {'Praha': 2}, {}, {}, {}, {}, {}, {'Wien': 2, 'Krems an der Donau': 1, 'Linz': 1}, {}, {}, {}, {}, {}, {'Wien': 4, 'Krems an der Donau': 1, 'Znojmo': 4, 'Friesach': 1, 'Judenburg': 3, 'Praha': 3}, {}, {}, {}, {}, {}, {}, {}, {'Wien': 2, 'Praha': 6}, {}, {}, {}, {}, {}, {}, {}, {}, {}, {}, {}, {}, {}, {}, {'Cheb': 1, 'Křivoklát': 1, 'Praha': 1, 'Kamýk nad Vltavou': 1}, {}, {}, {}, {}, {}, {}, {}, {}, {}, {}, {}, {}, {}, {}, {}, {}, {}, {}, {}, {}, {}, {}, {}, {}, {}, {}, {}, {'Brno': 1, 'Jindřichův Hradec': 1, 'Praha': 1, 'Uničov': 1, 'Hradec nad Moravicí': 2}, {}, {}, {}, {}, {}, {}, {}, {}, {}, {}, {'Praha': 1}, {}, {}, {}, {}, {}, {}, {}, {}, {}, {}, {}, {'Bratislava': 1, 'Velehrad': 1, 'Praha': 1}, {}, {}, {}, {}, {}, {}, {}, {}, {}, {}, {}, {}, {}, {}, {}, {}, {'Brno': 7, 'Olomouc': 5, 'Opava': 1, 'Praha': 10, 'Písek': 1, 'Jihlava': 1, 'Havlíčkův Brod': 2, 'Budyně nad Ohří': 1, 'Uherský Ostroh': 1, 'Znojmo': 2, 'Hradec nad Moravicí': 1}, {}, {}, {}, {}, {}, {}, {}, {}, {}, {}, {}, {}, {}, {}, {}, {}, {}, {}, {}, {}, {}, {}, {}, {}, {}, {}, {}, {}, {}, {}, {}, {}, {}, {'Praha': 1}, {}, {}, {}, {}, {}, {}, {}, {}, {}, {'Brno': 1}, {}, {}, {}, {}, {}, {}, {}, {}, {}, {}, {}, {}, {}, {}, {}, {}, {'Krems an der Donau': 3}, {}, {}, {}, {}, {}, {}, {}, {}, {}, {}, {}, {'Praha': 2, 'Hradec Králové': 3}, {}, {}, {}, {}, {}, {}, {}, {}, {}, {}, {'Eggenburg': 1}, {}, {}, {}, {}, {}, {}, {}, {}, {}, {}, {}, {}, {}, {}, {}, {}, {}, {}, {}, {}, {}, {}, {}, {}, {}, {}, {}, {}, {}, {}, {}, {}, {}, {}, {}, {}, {}, {}, {}, {}, {}, {}, {}, {}, {}, {}, {}, {}, {}, {}, {}, {}, {}, {'Praha': 1, 'Brno': 3, 'Olomouc': 1}, {}, {}, {}, {}, {}, {}, {}, {}, {}, {}, {}, {}, {}, {}, {}, {}, {}, {}, {}, {}, {}, {}, {}, {}, {}, {}, {}, {}, {}, {}, {}, {}, {}, {}, {}, {}, {}, {}, {}, {}, {}, {}, {}, {}, {}, {}, {}, {}, {}, {}, {}, {}, {}, {}, {}, {}, {}, {'Wien': 1}, {}, {}, {}, {}, {}, {}, {}, {}, {}, {}, {}, {}, {}, {}, {}, {}, {}, {}, {}, {}, {}, {}, {}, {}, {}, {}, {}, {}, {}, {}, {}, {}, {}, {}, {}, {}, {}, {}, {}, {}, {}, {}, {'Praha': 1}, {'Písek': 2, 'Praha': 2, 'Myšenec': 1}, {}, {}, {}, {}, {}, {}, {}, {}, {}, {}, {'Hainburg': 1, 'Herzogenbirbaum': 1, 'Domažlice': 1}, {}, {}, {}, {}, {}, {}, {}, {}, {}, {}, {}, {}, {}, {}, {'Brno': 1}, {}, {}, {}, {}, {}, {}, {}, {}, {}, {}, {}, {}, {'Písek': 1}, {}, {}, {}, {}, {}, {}, {}, {}, {}, {}, {}, {}, {}, {}, {}, {}, {}, {}, {}, {}, {}, {}, {}, {}, {}, {}, {}, {'Wien': 1}, {}, {}, {}, {}, {}, {'Wien': 2, 'Praha': 4, 'Znojmo': 2, 'Kamýk nad Vltavou': 1, 'Opava': 2, 'Písek': 2}, {}, {}, {}, {}, {'Wien': 1}, {}, {}, {}, {}, {}, {}, {}, {}, {}, {}, {}, {}, {}, {}, {}, {}, {}, {}, {}, {}, {}, {}, {}, {}, {}, {'Praha': 7, 'Hradec Králové': 2}, {}, {}, {}, {}, {}, {}, {}, {'Hainburg': 1, 'Seitenstetten': 1, 'Znojmo': 2, 'Poděbrady': 1}, {}, {}, {}, {'Krems an der Donau': 3, 'Kleinweikersdorf': 1, 'Zwettl': 2, 'Brno': 1, 'Wien': 2}, {}, {}, {}, {'Zbraslav': 1}, {'Znojmo': 1}, {}, {}, {}, {}, {}, {}, {}, {}, {}, {}, {}, {}, {}, {}, {}, {}, {}, {}, {}, {'Praha': 1}, {}, {}, {}, {}, {}, {}, {}, {}, {}, {}, {}, {}, {}, {}, {}, {}, {}, {}, {}, {}, {}, {}, {}, {}, {}, {}, {}, {}, {}, {}, {}, {}, {}, {}, {}, {}, {}, {}, {}, {}, {}, {}, {'Praha': 4}, {'Křivoklát': 1}, {}, {}, {}, {}, {}, {}, {'Krems an der Donau': 4, 'Korneuburg': 5}, {}, {}, {}, {}, {}, {}, {}, {}, {}, {}, {}, {}, {}, {}, {}, {}, {}, {}, {}, {}, {}, {}, {}, {}, {}, {}, {}, {}, {}, {}, {}, {}, {}, {}, {}, {}, {}, {}, {}, {}, {}, {}, {'Praha': 1}, {}, {}, {}, {}, {}, {}, {}, {}, {}, {}, {}, {}, {}, {}, {}, {}, {}, {}, {}, {}, {}, {}, {}, {}, {}, {}, {}, {}, {}, {}, {}, {}, {}, {}, {}, {}, {}, {}, {}, {}, {}, {}, {}, {}, {}, {}, {}, {}, {}, {}, {}, {}, {}, {}, {'Brno': 1}, {}, {}, {}, {}, {}, {}, {}, {}, {'Graz': 3, 'Wien': 9, 'Praha': 3, 'Velehrad': 2, 'Wiener Neustadt': 3, 'Poděbrady': 1, 'Znojmo': 4, 'Sadská': 1, 'Brno': 1}, {}, {}]\n"
     ]
    }
   ],
   "metadata": {
    "tags": []
   }
  },
  {
   "cell_type": "code",
   "execution_count": 11,
   "source": [
    "\n",
    "hex_df.reset_index(drop=True).to_file(DIR_ROOT + '/data/06_outputs/hex_influence.geojson', driver=\"GeoJSON\")\n",
    "\n",
    "hex_df_geo = hex_df.copy()\n",
    "hex_df_geo['centroid'] = hex_df_geo.apply(\n",
    "    lambda x: x['geometry'].centroid, \n",
    "    axis=1\n",
    ")\n",
    "hex_df_geo = hex_df_geo.drop(columns=[\"geometry\"])\n",
    "hex_df_geo.set_geometry('centroid', inplace=True)\n",
    "hex_df_geo = hex_df_geo.reset_index(drop=True)\n",
    "print(hex_df_geo)\n",
    "hex_df_geo.to_file(DIR_ROOT + '/data/06_outputs/hex-centroids_influence.geojson', driver=\"GeoJSON\")\n"
   ],
   "outputs": [
    {
     "output_type": "stream",
     "name": "stdout",
     "text": [
      "                   id                                               infl  all  \\\n",
      "0     8463a4bffffffff                                                 {}    0   \n",
      "1     8452c63ffffffff                                                 {}    0   \n",
      "2     844394dffffffff                                                 {}    0   \n",
      "3     847a817ffffffff                                                 {}    0   \n",
      "4     8452ec9ffffffff  {'Znojmo': 2, 'Brno': 1, 'Korneuburg': 1, 'Wie...    8   \n",
      "...               ...                                                ...  ...   \n",
      "1973  845258dffffffff                                                 {}    0   \n",
      "1974  847a803ffffffff                                                 {}    0   \n",
      "1975  8452e13ffffffff  {'Graz': 3, 'Wien': 9, 'Praha': 3, 'Velehrad':...   27   \n",
      "1976  84520e3ffffffff                                                 {}    0   \n",
      "1977  8452235ffffffff                                                 {}    0   \n",
      "\n",
      "      Praha  Brno  Wien  Znojmo  Graz  Krems an der Donau  Linz  others  \\\n",
      "0         0     0     0       0     0                   0     0       0   \n",
      "1         0     0     0       0     0                   0     0       0   \n",
      "2         0     0     0       0     0                   0     0       0   \n",
      "3         0     0     0       0     0                   0     0       0   \n",
      "4         1     1     2       2     0                   0     0       4   \n",
      "...     ...   ...   ...     ...   ...                 ...   ...     ...   \n",
      "1973      0     0     0       0     0                   0     0       0   \n",
      "1974      0     0     0       0     0                   0     0       0   \n",
      "1975      3     1     9       4     3                   0     0      11   \n",
      "1976      0     0     0       0     0                   0     0       0   \n",
      "1977      0     0     0       0     0                   0     0       0   \n",
      "\n",
      "      Opava  Kostanjevica na Krki  Friesach                   centroid  \n",
      "0         0                     0         0  POINT (15.02450 52.76564)  \n",
      "1         0                     0         0  POINT (12.22737 45.17215)  \n",
      "2         0                     0         0  POINT (20.44928 54.34777)  \n",
      "3         0                     0         0   POINT (6.44673 47.74018)  \n",
      "4         0                     0         0  POINT (15.06983 47.97597)  \n",
      "...     ...                   ...       ...                        ...  \n",
      "1973      0                     0         0  POINT (15.33978 50.27935)  \n",
      "1974      0                     0         0   POINT (6.13862 48.46259)  \n",
      "1975      0                     0         0  POINT (14.65445 47.28715)  \n",
      "1976      0                     0         0  POINT (17.73265 45.38220)  \n",
      "1977      0                     0         0  POINT (20.74368 43.67739)  \n",
      "\n",
      "[1978 rows x 15 columns]\n"
     ]
    }
   ],
   "metadata": {}
  },
  {
   "cell_type": "code",
   "execution_count": null,
   "source": [],
   "outputs": [],
   "metadata": {}
  }
 ]
}