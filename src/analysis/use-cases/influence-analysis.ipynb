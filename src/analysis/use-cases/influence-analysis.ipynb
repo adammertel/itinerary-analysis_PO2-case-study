{
 "cells": [
  {
   "cell_type": "code",
   "execution_count": 3,
   "metadata": {},
   "outputs": [],
   "source": [
    "'''\n",
    "influence-analysis.ipynb\n",
    "Analysing the relationship between places of issuing the documents and the places mentioned as benefitiaries and donations\n",
    "'''\n",
    "\n",
    "import os\n",
    "import pandas as pd\n",
    "import geopandas as gpd\n",
    "import pathlib\n",
    "from shapely import wkt\n",
    "from shapely.geometry import Point, Polygon, LineString, MultiPoint\n",
    "\n",
    "import geojson\n",
    "import h3\n",
    "\n",
    "from geovoronoi import voronoi_regions_from_coords\n",
    "crs4326 = {'init': 'epsg:4326'}"
   ]
  },
  {
   "cell_type": "code",
   "execution_count": 4,
   "metadata": {},
   "outputs": [
    {
     "name": "stderr",
     "output_type": "stream",
     "text": [
      "/home/adam/miniconda3/envs/po2/lib/python3.9/site-packages/pyproj/crs/crs.py:68: FutureWarning: '+init=<authority>:<code>' syntax is deprecated. '<authority>:<code>' is the preferred initialization method. When making the change, be mindful of axis order changes: https://pyproj4.github.io/pyproj/stable/gotchas.html#axis-order-changes-in-proj-6\n",
      "  return _prepare_from_string(\" \".join(pjargs))\n"
     ]
    }
   ],
   "source": [
    "DIR_ROOT = os.path.join(pathlib.Path().absolute(), '../../..' )\n",
    "\n",
    "influences_df = pd.read_csv(DIR_ROOT + '/data/04_itinerary/influences.csv')\n",
    "influences_df = influences_df[influences_df['domestic'] == True]\n",
    "\n",
    "localities = pd.read_csv(DIR_ROOT + '/data/02_processed/localities.csv')\n",
    "localities['geometry'] = localities['geometry'].apply(wkt.loads)\n",
    "localities = gpd.GeoDataFrame(localities, crs=crs4326).set_geometry('geometry')"
   ]
  },
  {
   "cell_type": "code",
   "execution_count": 5,
   "metadata": {},
   "outputs": [
    {
     "name": "stderr",
     "output_type": "stream",
     "text": [
      "/tmp/ipykernel_99614/1308781547.py:1: UserWarning: Geometry is in a geographic CRS. Results from 'buffer' are likely incorrect. Use 'GeoSeries.to_crs()' to re-project geometries to a projected CRS before this operation.\n",
      "\n",
      "  bbox = localities.buffer(1).total_bounds\n"
     ]
    },
    {
     "data": {
      "text/html": [
       "<div>\n",
       "<style scoped>\n",
       "    .dataframe tbody tr th:only-of-type {\n",
       "        vertical-align: middle;\n",
       "    }\n",
       "\n",
       "    .dataframe tbody tr th {\n",
       "        vertical-align: top;\n",
       "    }\n",
       "\n",
       "    .dataframe thead th {\n",
       "        text-align: right;\n",
       "    }\n",
       "</style>\n",
       "<table border=\"1\" class=\"dataframe\">\n",
       "  <thead>\n",
       "    <tr style=\"text-align: right;\">\n",
       "      <th></th>\n",
       "      <th>geometry</th>\n",
       "      <th>id</th>\n",
       "    </tr>\n",
       "    <tr>\n",
       "      <th>id</th>\n",
       "      <th></th>\n",
       "      <th></th>\n",
       "    </tr>\n",
       "  </thead>\n",
       "  <tbody>\n",
       "    <tr>\n",
       "      <th>8452615ffffffff</th>\n",
       "      <td>POLYGON ((20.37162 51.60373, 20.17768 51.47443...</td>\n",
       "      <td>8452615ffffffff</td>\n",
       "    </tr>\n",
       "    <tr>\n",
       "      <th>8463315ffffffff</th>\n",
       "      <td>POLYGON ((17.39234 55.61343, 17.20596 55.68906...</td>\n",
       "      <td>8463315ffffffff</td>\n",
       "    </tr>\n",
       "    <tr>\n",
       "      <th>8452a97ffffffff</th>\n",
       "      <td>POLYGON ((14.35470 42.01205, 14.14732 41.89267...</td>\n",
       "      <td>8452a97ffffffff</td>\n",
       "    </tr>\n",
       "    <tr>\n",
       "      <th>8462b19ffffffff</th>\n",
       "      <td>POLYGON ((6.50370 54.11325, 6.69110 54.16840, ...</td>\n",
       "      <td>8462b19ffffffff</td>\n",
       "    </tr>\n",
       "    <tr>\n",
       "      <th>84520b1ffffffff</th>\n",
       "      <td>POLYGON ((16.96423 46.27770, 16.76134 46.15324...</td>\n",
       "      <td>84520b1ffffffff</td>\n",
       "    </tr>\n",
       "    <tr>\n",
       "      <th>...</th>\n",
       "      <td>...</td>\n",
       "      <td>...</td>\n",
       "    </tr>\n",
       "    <tr>\n",
       "      <th>8452cd3ffffffff</th>\n",
       "      <td>POLYGON ((11.90443 48.95005, 11.71239 48.83093...</td>\n",
       "      <td>8452cd3ffffffff</td>\n",
       "    </tr>\n",
       "    <tr>\n",
       "      <th>847a903ffffffff</th>\n",
       "      <td>POLYGON ((7.46363 50.51598, 7.65383 50.57729, ...</td>\n",
       "      <td>847a903ffffffff</td>\n",
       "    </tr>\n",
       "    <tr>\n",
       "      <th>8443941ffffffff</th>\n",
       "      <td>POLYGON ((20.59093 54.49746, 20.39527 54.57958...</td>\n",
       "      <td>8443941ffffffff</td>\n",
       "    </tr>\n",
       "    <tr>\n",
       "      <th>845246bffffffff</th>\n",
       "      <td>POLYGON ((18.42189 50.09998, 18.22558 49.97307...</td>\n",
       "      <td>845246bffffffff</td>\n",
       "    </tr>\n",
       "    <tr>\n",
       "      <th>84520b9ffffffff</th>\n",
       "      <td>POLYGON ((17.36257 46.29661, 17.15937 46.17167...</td>\n",
       "      <td>84520b9ffffffff</td>\n",
       "    </tr>\n",
       "  </tbody>\n",
       "</table>\n",
       "<p>1978 rows × 2 columns</p>\n",
       "</div>"
      ],
      "text/plain": [
       "                                                          geometry  \\\n",
       "id                                                                   \n",
       "8452615ffffffff  POLYGON ((20.37162 51.60373, 20.17768 51.47443...   \n",
       "8463315ffffffff  POLYGON ((17.39234 55.61343, 17.20596 55.68906...   \n",
       "8452a97ffffffff  POLYGON ((14.35470 42.01205, 14.14732 41.89267...   \n",
       "8462b19ffffffff  POLYGON ((6.50370 54.11325, 6.69110 54.16840, ...   \n",
       "84520b1ffffffff  POLYGON ((16.96423 46.27770, 16.76134 46.15324...   \n",
       "...                                                            ...   \n",
       "8452cd3ffffffff  POLYGON ((11.90443 48.95005, 11.71239 48.83093...   \n",
       "847a903ffffffff  POLYGON ((7.46363 50.51598, 7.65383 50.57729, ...   \n",
       "8443941ffffffff  POLYGON ((20.59093 54.49746, 20.39527 54.57958...   \n",
       "845246bffffffff  POLYGON ((18.42189 50.09998, 18.22558 49.97307...   \n",
       "84520b9ffffffff  POLYGON ((17.36257 46.29661, 17.15937 46.17167...   \n",
       "\n",
       "                              id  \n",
       "id                                \n",
       "8452615ffffffff  8452615ffffffff  \n",
       "8463315ffffffff  8463315ffffffff  \n",
       "8452a97ffffffff  8452a97ffffffff  \n",
       "8462b19ffffffff  8462b19ffffffff  \n",
       "84520b1ffffffff  84520b1ffffffff  \n",
       "...                          ...  \n",
       "8452cd3ffffffff  8452cd3ffffffff  \n",
       "847a903ffffffff  847a903ffffffff  \n",
       "8443941ffffffff  8443941ffffffff  \n",
       "845246bffffffff  845246bffffffff  \n",
       "84520b9ffffffff  84520b9ffffffff  \n",
       "\n",
       "[1978 rows x 2 columns]"
      ]
     },
     "execution_count": 5,
     "metadata": {},
     "output_type": "execute_result"
    }
   ],
   "source": [
    "bbox = localities.buffer(1).total_bounds\n",
    "bounds = dict(geojson.Polygon([[[bbox[0], bbox[1]], [bbox[0], bbox[3]], [bbox[2], bbox[3]], [bbox[2], bbox[1]]]]))\n",
    "hex_ids = list(h3.polyfill(bounds, 4))\n",
    "\n",
    "hex_df = gpd.GeoDataFrame(\n",
    "    [{\"geometry\": Polygon(h3.h3_to_geo_boundary(x)), \"id\": x} for x in hex_ids], crs=crs4326\n",
    ")\n",
    "hex_df.set_index('id', inplace=True)\n",
    "\n",
    "hex_df['id'] = hex_df.index\n",
    "hex_df['geometry'] = hex_df.apply(lambda x: Polygon(h3.h3_to_geo_boundary(x['id'])), axis=1)\n",
    "hex_df"
   ]
  },
  {
   "cell_type": "code",
   "execution_count": 6,
   "metadata": {
    "tags": []
   },
   "outputs": [
    {
     "name": "stdout",
     "output_type": "stream",
     "text": [
      "[{}, {}, {}, {}, {}, {}, {}, {}, {}, {}, {}, {}, {}, {}, {}, {}, {}, {'Praha': 2, 'Brno': 2, 'Jihlava': 1}, {}, {}, {}, {}, {}, {}, {}, {}, {}, {}, {}, {}, {}, {}, {}, {}, {}, {}, {}, {}, {'Praha': 1}, {}, {'Brno': 1}, {}, {'Krems an der Donau': 1, 'Linz': 6, 'Graz': 1, 'Wien': 2, 'Znojmo': 1, 'Freistadt': 1, 'Litoměřice': 1}, {}, {}, {}, {}, {}, {}, {}, {'Brno': 1, 'Olomouc': 2, 'Přištpo': 1}, {}, {}, {}, {}, {'Zbraslav': 1}, {}, {}, {}, {}, {}, {}, {}, {}, {}, {}, {}, {}, {}, {}, {}, {}, {}, {}, {}, {}, {}, {}, {'Znojmo': 1, 'Praha': 2}, {}, {}, {}, {}, {}, {}, {}, {}, {}, {}, {}, {}, {}, {}, {}, {}, {}, {}, {}, {}, {}, {}, {}, {}, {}, {'Písek': 1}, {}, {'Praha': 2, 'Písek': 2, 'Brno': 2}, {}, {}, {'Ljubljana': 1}, {}, {'Kamýk nad Vltavou': 1, 'Stična': 1, 'Praha': 1, 'Brno': 2, 'Znojmo': 1, 'Wien': 3}, {}, {}, {}, {}, {}, {}, {}, {}, {}, {}, {}, {}, {}, {}, {}, {}, {}, {}, {'Wien': 2, 'Krems an der Donau': 1, 'Linz': 1}, {'Praha': 1}, {}, {}, {}, {}, {}, {}, {}, {}, {}, {}, {}, {}, {}, {}, {}, {}, {}, {}, {}, {'Wien': 5, 'Wiener Neustadt': 2, 'Linz': 1}, {}, {}, {}, {}, {}, {'Wien': 9, 'Wilhelmsburg': 4, 'Krems an der Donau': 1, 'Traiskirchen': 1, 'Wiener Neustadt': 1, 'Lilienfeld': 1, 'Laa an der Thaya': 1, 'Praha': 1}, {}, {}, {}, {}, {}, {}, {}, {}, {}, {}, {}, {}, {}, {}, {}, {}, {}, {}, {}, {}, {}, {}, {}, {}, {}, {}, {}, {}, {}, {'Praha': 32, 'Jihlava': 1, 'Poděbrady': 3}, {}, {}, {}, {}, {}, {}, {}, {}, {}, {}, {}, {'Krems an der Donau': 3}, {}, {'Graz': 4, 'Villach': 1}, {}, {'Wien': 2, 'Praha': 6}, {}, {}, {}, {}, {}, {}, {}, {}, {'Písek': 1, 'Praha': 3, 'Olomouc': 2, 'Uherský Ostroh': 1}, {}, {}, {}, {}, {}, {}, {}, {}, {}, {}, {}, {}, {}, {}, {}, {}, {}, {}, {}, {}, {}, {}, {'Praha': 1}, {}, {}, {}, {}, {}, {}, {}, {}, {}, {}, {'Brno': 2, 'Jihlava': 1, 'Praha': 1}, {}, {}, {'Eggenburg': 1}, {}, {}, {}, {}, {}, {}, {}, {}, {}, {}, {}, {}, {}, {}, {}, {}, {}, {}, {}, {}, {}, {}, {}, {}, {}, {}, {}, {}, {}, {}, {}, {}, {'Stříbro': 1}, {}, {}, {}, {}, {}, {}, {}, {}, {}, {}, {}, {}, {}, {}, {}, {}, {}, {}, {}, {}, {'Písek': 1}, {}, {}, {}, {}, {}, {}, {}, {}, {}, {}, {}, {}, {}, {}, {}, {}, {}, {}, {}, {}, {}, {}, {}, {}, {}, {}, {}, {}, {}, {}, {}, {}, {}, {}, {}, {}, {}, {}, {}, {}, {'Křivoklát': 1}, {}, {}, {}, {}, {}, {}, {}, {}, {}, {}, {}, {'Wien': 1, 'Veveří': 1, 'Brno': 1}, {}, {}, {}, {}, {}, {}, {}, {}, {'Písek': 1}, {}, {'Krems an der Donau': 4, 'Korneuburg': 5}, {}, {}, {}, {}, {}, {}, {'Kamýk nad Vltavou': 1, 'Praha': 1}, {'Wiener Neustadt': 1}, {}, {}, {}, {}, {}, {}, {}, {}, {}, {}, {}, {}, {}, {}, {}, {}, {}, {}, {}, {}, {}, {}, {}, {}, {'Křivoklát': 1}, {}, {}, {}, {}, {}, {}, {}, {}, {}, {}, {}, {}, {}, {}, {}, {}, {}, {}, {}, {}, {}, {}, {}, {}, {}, {}, {}, {}, {}, {}, {}, {}, {}, {}, {}, {}, {}, {}, {}, {}, {}, {}, {}, {}, {}, {}, {}, {}, {}, {}, {}, {}, {}, {}, {}, {}, {}, {}, {}, {}, {}, {'Praha': 1}, {}, {}, {}, {}, {}, {}, {}, {}, {}, {}, {}, {}, {}, {}, {}, {}, {}, {}, {}, {}, {}, {}, {}, {}, {}, {}, {'Wien': 18, 'Głubczyce': 1, 'Znojmo': 2, 'Sitzenberg': 2, 'Poděbrady': 1, 'Praha': 3, 'Jihlava': 1, 'Jaroměřice nad Rokytkou': 1, 'Zbraslav': 1, 'Brno': 1}, {}, {}, {}, {}, {}, {}, {}, {}, {}, {}, {}, {}, {}, {}, {}, {}, {}, {'Graz': 4, 'Velehrad': 1, 'Wien': 5, 'Brno': 1}, {}, {}, {}, {}, {}, {}, {}, {}, {}, {}, {}, {}, {}, {'Plasy': 1, 'Uherské Hradiště': 2, 'Brno': 1, 'Kamýk nad Vltavou': 1, 'Olomouc': 1}, {}, {}, {}, {}, {}, {}, {}, {}, {}, {}, {}, {}, {}, {}, {}, {}, {}, {}, {}, {}, {}, {}, {}, {}, {}, {'Wilhelmsburg': 1, 'Wien': 10, 'Znojmo': 1, 'Milevsko': 1, 'Laa an der Thaya': 1, 'Linz': 1, 'Velehrad': 2, 'Praha': 1, 'Vyškov': 1, 'Zbraslav': 1}, {}, {'Poděbrady': 1, 'Praha': 1}, {}, {}, {}, {}, {}, {}, {}, {}, {}, {}, {}, {}, {}, {}, {}, {}, {}, {}, {}, {}, {}, {}, {}, {}, {}, {}, {}, {'Znojmo': 1, 'Korneuburg': 1, 'Wien': 1}, {}, {}, {}, {}, {}, {}, {}, {}, {}, {}, {}, {}, {}, {}, {}, {'Wien': 4, 'Praha': 2, 'Kostanjevica na Krki': 2, 'Stična': 2, 'Graz': 1}, {}, {}, {}, {}, {}, {}, {}, {}, {}, {}, {}, {}, {}, {}, {}, {}, {}, {}, {'Traiskirchen': 1, 'Vyškov': 1}, {}, {}, {'Wien': 1}, {}, {}, {'Wien': 1, 'Krems an der Donau': 1, 'Praha': 1}, {}, {}, {'Znojmo': 1}, {}, {}, {}, {}, {}, {}, {}, {}, {}, {}, {}, {}, {}, {}, {}, {}, {}, {}, {}, {}, {}, {}, {}, {'Hainburg': 1, 'Herzogenbirbaum': 1, 'Domažlice': 1}, {}, {}, {}, {}, {}, {}, {}, {}, {}, {}, {'Graz': 1, 'Wiener Neustadt': 1, 'Znojmo': 1, 'Velehrad': 1, 'Praha': 1}, {}, {}, {}, {}, {}, {}, {'Praha': 1}, {}, {}, {}, {}, {}, {}, {}, {}, {}, {}, {}, {}, {}, {}, {}, {}, {}, {}, {}, {}, {}, {}, {}, {}, {}, {}, {}, {}, {}, {}, {'Praha': 5, 'Kravaře u České Lípy': 1, 'Jablonné v Podještědí': 1, 'Budyně nad Ohří': 2, 'Litoměřice': 1}, {}, {}, {}, {}, {}, {}, {}, {}, {}, {}, {}, {}, {}, {}, {}, {}, {'Veveří': 1, 'Linz': 1, 'Wien': 1}, {}, {}, {}, {}, {}, {'Wien': 2, 'Praha': 4, 'Znojmo': 2, 'Kamýk nad Vltavou': 1, 'Opava': 2, 'Písek': 2}, {}, {}, {}, {}, {}, {}, {}, {}, {}, {}, {'Cheb': 1, 'Křivoklát': 1, 'Praha': 1, 'Kamýk nad Vltavou': 1}, {}, {}, {}, {}, {}, {}, {}, {}, {}, {}, {}, {}, {}, {'Znojmo': 1, 'Krems an der Donau': 2, 'Wien': 5, 'Neuburg am Inn': 2, 'Linz': 1, 'Gaming': 1, 'Praha': 3, 'Eggenburg': 1}, {}, {}, {}, {}, {}, {}, {}, {}, {}, {}, {}, {}, {}, {}, {}, {}, {}, {}, {}, {}, {}, {}, {}, {}, {}, {}, {}, {}, {}, {}, {}, {}, {}, {}, {}, {}, {}, {}, {}, {}, {}, {}, {'Praha': 3}, {}, {}, {}, {}, {}, {}, {}, {}, {}, {}, {}, {}, {}, {}, {}, {}, {}, {}, {}, {}, {}, {}, {}, {}, {}, {}, {}, {}, {}, {}, {}, {}, {}, {}, {}, {}, {}, {}, {}, {}, {}, {}, {}, {}, {}, {}, {'Praha': 1}, {}, {}, {}, {'Praha': 1}, {}, {}, {}, {}, {}, {}, {}, {}, {}, {}, {}, {}, {}, {}, {'Praha': 1}, {}, {}, {}, {}, {}, {}, {}, {}, {}, {'Praha': 1, 'Brno': 3, 'Olomouc': 1}, {}, {}, {}, {}, {}, {}, {}, {}, {}, {}, {'Hainburg': 1}, {}, {}, {}, {'Wien': 1}, {}, {}, {}, {}, {}, {}, {}, {}, {}, {}, {}, {}, {}, {}, {}, {}, {}, {}, {}, {}, {}, {}, {}, {}, {}, {}, {}, {}, {}, {}, {}, {}, {}, {}, {}, {}, {}, {}, {}, {}, {}, {}, {}, {}, {}, {}, {}, {}, {}, {}, {}, {}, {}, {}, {}, {}, {}, {}, {}, {}, {}, {}, {}, {}, {}, {'Praha': 4, 'Wien': 2, 'Znojmo': 1, 'Freistadt': 2, 'Krems an der Donau': 1, 'Hainburg': 2}, {}, {}, {}, {}, {'Havlíčkův Brod': 2, 'Poděbrady': 1}, {'Beroun': 1, 'Praha': 2, 'Zvíkov': 1}, {}, {}, {}, {}, {}, {}, {}, {}, {}, {}, {}, {}, {}, {}, {}, {}, {}, {}, {}, {}, {}, {}, {}, {}, {}, {}, {}, {}, {}, {'Brno': 5, 'Zvíkov': 2, 'Znojmo': 2, 'Praha': 2, 'Písek': 1}, {}, {}, {}, {}, {}, {}, {}, {}, {}, {}, {}, {}, {}, {}, {}, {}, {}, {}, {}, {}, {}, {}, {}, {}, {}, {}, {}, {}, {}, {}, {}, {}, {}, {}, {'Linz': 1}, {}, {}, {}, {}, {}, {}, {}, {}, {}, {'Brno': 1, 'Jindřichův Hradec': 1, 'Praha': 1, 'Uničov': 1, 'Hradec nad Moravicí': 2}, {'Graz': 3, 'Wien': 9, 'Praha': 3, 'Velehrad': 2, 'Wiener Neustadt': 3, 'Poděbrady': 1, 'Znojmo': 4, 'Sadská': 1, 'Brno': 1}, {}, {}, {'Graz': 1, 'Ljubljana': 1}, {}, {}, {}, {}, {}, {}, {}, {}, {}, {}, {}, {}, {}, {}, {}, {}, {}, {}, {}, {}, {}, {}, {}, {}, {}, {}, {'Wien': 2, 'Freistadt': 1}, {}, {}, {}, {}, {}, {}, {}, {}, {}, {}, {}, {}, {}, {}, {}, {}, {}, {}, {}, {}, {}, {}, {}, {}, {}, {}, {'Písek': 2, 'Praha': 2, 'Myšenec': 1}, {}, {}, {}, {'Wien': 1}, {}, {}, {}, {}, {}, {}, {}, {}, {}, {}, {}, {}, {}, {}, {}, {}, {}, {}, {}, {}, {}, {}, {}, {}, {'Wien': 1}, {'Freistadt': 1}, {}, {}, {}, {}, {}, {}, {}, {}, {}, {}, {}, {}, {}, {}, {}, {}, {}, {}, {}, {}, {}, {}, {}, {}, {}, {}, {}, {}, {}, {}, {}, {'Krems an der Donau': 3, 'Písek': 1, 'Praha': 3, 'Znojmo': 1, 'Wien': 2, 'České Budějovice': 1, 'Vracov': 1, 'Litoměřice': 1}, {}, {}, {'Most': 2, 'Praha': 6, 'Poděbrady': 1, 'Wien': 2, 'Křivoklát': 2}, {'Praha': 18, 'Písek': 1, 'Brno': 1, 'Křivoklát': 1, 'Dobříš': 1, 'Litoměřice': 1}, {}, {}, {}, {}, {}, {}, {}, {}, {}, {}, {}, {}, {}, {}, {}, {'Brno': 1, 'Wien': 5, 'Laa an der Thaya': 1}, {'Praha': 4}, {}, {}, {}, {}, {}, {}, {}, {}, {'Wien': 1, 'Graz': 1, 'Brno': 2}, {}, {}, {}, {}, {}, {}, {}, {}, {}, {}, {}, {}, {}, {'Křivoklát': 1}, {}, {}, {}, {}, {}, {}, {}, {}, {}, {}, {'Laa an der Thaya': 1, 'Písek': 1, 'Myšenec': 1}, {}, {}, {}, {}, {}, {}, {}, {}, {'Písek': 1}, {'Brno': 3, 'Zbraslav': 1, 'Wien': 1, 'Krems an der Donau': 1, 'Znojmo': 1, 'Wiener Neustadt': 1}, {}, {}, {}, {}, {}, {}, {}, {}, {}, {}, {}, {}, {}, {}, {}, {}, {}, {}, {}, {}, {}, {}, {}, {}, {}, {}, {}, {}, {}, {}, {}, {}, {}, {}, {}, {}, {}, {}, {}, {'Znojmo': 1, 'Graz': 5, 'Linz': 2, 'Wien': 1, 'Praha': 2, 'Veveří': 1}, {}, {}, {}, {}, {}, {}, {}, {}, {}, {}, {}, {}, {}, {}, {}, {}, {}, {}, {}, {}, {}, {}, {}, {}, {}, {}, {}, {}, {}, {}, {}, {'Kladruby': 2, 'Praha': 5, 'Křivoklát': 3, 'Plasy': 5}, {}, {}, {}, {}, {}, {}, {}, {}, {}, {}, {}, {'Korneuburg': 1, 'Wien': 6, 'Hainburg': 3, 'Brno': 1, 'Wilhelmsburg': 1, 'Znojmo': 1}, {}, {}, {}, {}, {}, {}, {}, {}, {}, {}, {}, {}, {}, {}, {}, {}, {}, {}, {'Wien': 2, 'Brno': 1, 'Graz': 1}, {}, {}, {}, {}, {}, {}, {}, {}, {}, {}, {}, {}, {}, {}, {'Brno': 1}, {'Žatec': 1, 'Praha': 3}, {}, {}, {}, {}, {}, {}, {}, {}, {}, {}, {}, {}, {}, {}, {}, {}, {}, {}, {}, {}, {}, {}, {}, {}, {}, {}, {}, {}, {}, {}, {}, {}, {}, {'Brno': 1}, {}, {}, {}, {}, {}, {'Krems an der Donau': 1, 'Praha': 5, 'Wien': 5, 'Traiskirchen': 1, 'Vyškov': 3, 'Brno': 1, 'Freistadt': 2, 'Velehrad': 2, 'Korneuburg': 1, 'Písek': 1, 'Wiener Neustadt': 1, 'Znojmo': 1}, {}, {}, {'Znojmo': 2, 'Brno': 1, 'Korneuburg': 1, 'Wien': 2, 'Písek': 1, 'Praha': 1}, {'Korneuburg': 1, 'Wels': 1}, {}, {}, {}, {'Praha': 1}, {}, {}, {}, {}, {}, {}, {}, {}, {}, {}, {}, {}, {}, {}, {}, {}, {}, {}, {'Eggenburg': 1, 'Linz': 6, 'Wien': 8, 'Krems an der Donau': 3, 'Wels': 3, 'Praha': 4, 'Znojmo': 3, 'Korneuburg': 1, 'Písek': 1, 'Graz': 1}, {}, {'Olomouc': 1}, {}, {}, {}, {}, {}, {}, {}, {'Beroun': 1, 'Praha': 1}, {}, {}, {}, {}, {}, {}, {}, {}, {}, {}, {}, {}, {}, {}, {}, {}, {}, {}, {}, {}, {}, {}, {}, {}, {}, {}, {}, {}, {}, {}, {}, {}, {}, {}, {}, {}, {}, {}, {'Wien': 1}, {}, {'Praha': 7, 'Hradec Králové': 2}, {}, {}, {}, {}, {}, {}, {}, {}, {}, {}, {}, {}, {}, {}, {}, {}, {}, {}, {}, {}, {}, {}, {}, {}, {}, {'Praha': 1, 'Plasy': 2, 'Křivoklát': 1}, {}, {}, {}, {'Praha': 1}, {}, {}, {}, {}, {}, {}, {}, {}, {}, {}, {}, {}, {}, {}, {}, {}, {}, {}, {}, {}, {}, {}, {}, {}, {}, {}, {'Bratislava': 1, 'Velehrad': 1, 'Praha': 1}, {}, {}, {}, {}, {}, {}, {}, {}, {}, {}, {}, {}, {}, {}, {}, {'Velehrad': 2, 'Praha': 1}, {}, {}, {}, {}, {}, {}, {}, {}, {}, {}, {}, {}, {}, {}, {'Praha': 7}, {}, {}, {'Hainburg': 1, 'Seitenstetten': 1, 'Znojmo': 2, 'Poděbrady': 1}, {}, {}, {}, {}, {}, {}, {}, {}, {'Brno': 7, 'Olomouc': 5, 'Opava': 1, 'Praha': 10, 'Písek': 1, 'Jihlava': 1, 'Havlíčkův Brod': 2, 'Budyně nad Ohří': 1, 'Uherský Ostroh': 1, 'Znojmo': 2, 'Hradec nad Moravicí': 1}, {}, {'Písek': 2, 'Myšenec': 1}, {'Krems an der Donau': 5, 'Jaroměřice nad Rokytkou': 3, 'Praha': 1, 'Kleinweikersdorf': 1, 'Wien': 1, 'Laa an der Thaya': 2}, {}, {}, {}, {}, {}, {}, {}, {}, {}, {'Judenburg': 1, 'Graz': 3, 'Villach': 1}, {}, {}, {}, {}, {}, {}, {}, {}, {}, {}, {}, {}, {}, {}, {}, {}, {}, {}, {}, {}, {}, {}, {}, {}, {}, {}, {'Praha': 2}, {}, {}, {}, {}, {}, {}, {}, {}, {}, {}, {'Praha': 1}, {}, {}, {}, {}, {}, {}, {}, {}, {}, {}, {}, {}, {}, {}, {}, {}, {}, {}, {}, {}, {}, {}, {}, {}, {}, {}, {}, {}, {}, {}, {}, {}, {}, {}, {}, {'Jihlava': 1}, {}, {}, {}, {}, {'Wien': 1}, {}, {'Wien': 9, 'Graz': 4, 'Jihlava': 1, 'Głubczyce': 1, 'Freistadt': 3, 'Linz': 2, 'Znojmo': 2, 'Brno': 5, 'Písek': 1}, {}, {'Slovenj Gradec': 3, 'Wien': 1, 'Graz': 1, 'Praha': 1}, {}, {}, {}, {}, {'Kamýk nad Vltavou': 1, 'Praha': 1}, {}, {}, {}, {}, {}, {}, {}, {}, {}, {}, {}, {}, {}, {}, {}, {}, {}, {}, {}, {}, {}, {}, {'Wiener Neustadt': 1, 'Wien': 1, 'Graz': 1, 'Velehrad': 2, 'Praha': 1}, {}, {}, {}, {}, {}, {'Brno': 3, 'Wien': 1, 'Linz': 1, 'Wels': 1, 'Graz': 1}, {}, {}, {'Praha': 1, 'Písek': 1, 'Brno': 1}, {}, {}, {}, {'Linz': 1, 'Krems an der Donau': 3, 'Wels': 1, 'Freistadt': 1, 'Korneuburg': 1, 'Písek': 2, 'Sadská': 1, 'Wien': 1}, {}, {}, {}, {}, {}, {}, {}, {}, {}, {}, {}, {}, {}, {}, {}, {}, {'Jablonné v Podještědí': 4, 'Budyně nad Ohří': 1, 'Praha': 3, 'Písek': 1}, {}, {}, {'Brno': 1}, {}, {}, {}, {}, {}, {}, {'Brno': 4, 'Olomouc': 2, 'Wien': 1, 'Plasy': 1, 'Uherské Hradiště': 1}, {}, {}, {}, {}, {}, {}, {}, {}, {}, {}, {}, {}, {}, {}, {}, {}, {}, {}, {}, {}, {}, {}, {}, {}, {}, {}, {}, {}, {}, {}, {}, {}, {}, {}, {}, {}, {}, {}, {}, {}, {}, {}, {}, {}, {}, {}, {}, {}, {}, {}, {}, {}, {}, {}, {}, {}, {'Wien': 4, 'Krems an der Donau': 1, 'Znojmo': 4, 'Friesach': 1, 'Judenburg': 3, 'Praha': 3}, {}, {}, {}, {}, {'Wien': 1}, {}, {}, {}, {}, {}, {}, {}, {}, {}, {'Praha': 2, 'Hradec Králové': 3}, {}, {}, {}, {}, {}, {}, {}, {}, {'Krems an der Donau': 3, 'Kleinweikersdorf': 1, 'Zwettl': 2, 'Brno': 1, 'Wien': 2}, {}, {}, {}, {}, {}, {}, {}, {}, {}, {}, {}, {}, {}, {}, {}, {}, {}, {}, {}, {}, {}, {}, {}, {}, {}, {}, {}, {}, {}, {}, {}, {}, {}, {'Kladruby': 2, 'Zvíkov': 2, 'Praha': 1, 'Kamýk nad Vltavou': 1, 'Plasy': 2, 'Křivoklát': 1}, {}, {}, {}, {}, {}, {}, {}, {}, {}, {}, {}, {}, {}, {}, {}, {}, {}, {}, {}, {}, {}, {}, {}, {'Praha': 6, 'Kladruby': 1}, {}, {}, {}, {}, {}, {}, {}, {}, {}, {}, {}, {}, {}, {}, {}, {}, {}, {}, {}, {}, {}, {}, {'Wien': 2, 'Jihlava': 1, 'Głubczyce': 1, 'Laa an der Thaya': 1}, {}, {}, {'Zbraslav': 1}, {}, {}, {}, {}, {}, {'Wien': 1}, {}, {}, {}, {'Praha': 1}, {}, {}, {}, {}, {}, {}, {}, {}, {}, {}, {}, {}, {}, {}, {}, {}, {}, {}, {}, {}, {}, {}, {}, {}, {}, {}, {}, {}, {}, {}, {}, {}, {}, {}, {}, {'Bratislava': 1, 'Wien': 1}, {}, {}, {}, {'Brno': 1}, {}, {}, {}, {}, {}, {}, {'Korneuburg': 1}, {}, {}, {}, {}, {}, {}, {}, {}, {}, {}, {}, {}, {}, {}, {}, {}, {}, {}, {'Hradec Králové': 2, 'Žatec': 1, 'Praha': 2}, {}, {}, {}, {}, {}, {}, {}, {}, {'Sadská': 1, 'Znojmo': 1, 'Praha': 2}, {}, {}, {}, {}, {'Praha': 1}, {}, {}, {}, {}, {}, {}, {}, {}, {}, {}, {}, {}, {}]\n"
     ]
    }
   ],
   "source": [
    "def get_influence_origins(hex_geo):\n",
    "    localities_in_hex = localities[localities.intersects(hex_geo)]\n",
    "\n",
    "    infl_list = []\n",
    "    for lihi, locality_in_hex in localities_in_hex.iterrows():\n",
    "        inf_object_rows = influences_df[influences_df['name'] == locality_in_hex['name']]\n",
    "        infl_list.extend(inf_object_rows['locality'].tolist())\n",
    "\n",
    "    return { x: infl_list.count(x) for x in infl_list}\n",
    "\n",
    "hex_df['infl'] = hex_df.apply(\n",
    "    lambda x: get_influence_origins(x['geometry']), \n",
    "    axis=1\n",
    ")\n",
    "print(hex_df['infl'].tolist())\n",
    "\n",
    "hex_df['all'] = hex_df.apply(\n",
    "    lambda x: sum(x['infl'].values()), \n",
    "    axis=1\n",
    ")\n",
    "\n",
    "centers_to_check = ['Praha', 'Brno', 'Wien', 'Graz', 'Opava', 'Linz', 'Kostanjevica na Krki', 'Friesach']\n",
    "\n",
    "\n",
    "for center in centers_to_check:\n",
    "    hex_df[center] = hex_df.apply(\n",
    "        lambda x: x['infl'][center] if center in x['infl'] else 0, \n",
    "        axis=1\n",
    "    )\n",
    "\n",
    "hex_df['others'] = hex_df.apply(\n",
    "    lambda x: x['all'] - sum(x[center] for center in centers_to_check) , \n",
    "    axis=1\n",
    ")\n",
    "\n"
   ]
  },
  {
   "cell_type": "code",
   "execution_count": 7,
   "metadata": {},
   "outputs": [
    {
     "name": "stdout",
     "output_type": "stream",
     "text": [
      "                   id infl  all  Praha  Brno  Wien  Graz  Opava  Linz  \\\n",
      "0     8452615ffffffff   {}    0      0     0     0     0      0     0   \n",
      "1     8463315ffffffff   {}    0      0     0     0     0      0     0   \n",
      "2     8452a97ffffffff   {}    0      0     0     0     0      0     0   \n",
      "3     8462b19ffffffff   {}    0      0     0     0     0      0     0   \n",
      "4     84520b1ffffffff   {}    0      0     0     0     0      0     0   \n",
      "...               ...  ...  ...    ...   ...   ...   ...    ...   ...   \n",
      "1973  8452cd3ffffffff   {}    0      0     0     0     0      0     0   \n",
      "1974  847a903ffffffff   {}    0      0     0     0     0      0     0   \n",
      "1975  8443941ffffffff   {}    0      0     0     0     0      0     0   \n",
      "1976  845246bffffffff   {}    0      0     0     0     0      0     0   \n",
      "1977  84520b9ffffffff   {}    0      0     0     0     0      0     0   \n",
      "\n",
      "      Kostanjevica na Krki  Friesach  others                   centroid  \n",
      "0                        0         0       0  POINT (20.17434 51.69471)  \n",
      "1                        0         0       0  POINT (17.33763 55.83588)  \n",
      "2                        0         0       0  POINT (14.16377 42.12780)  \n",
      "3                        0         0       0   POINT (6.67311 53.97326)  \n",
      "4                        0         0       0  POINT (16.76977 46.38295)  \n",
      "...                    ...       ...     ...                        ...  \n",
      "1973                     0         0       0  POINT (11.72539 49.04214)  \n",
      "1974                     0         0       0   POINT (7.63549 50.37161)  \n",
      "1975                     0         0       0  POINT (20.53723 54.73017)  \n",
      "1976                     0         0       0  POINT (18.22734 50.19421)  \n",
      "1977                     0         0       0  POINT (17.16722 46.40219)  \n",
      "\n",
      "[1978 rows x 13 columns]\n"
     ]
    }
   ],
   "source": [
    "\n",
    "hex_df.reset_index(drop=True).to_file(DIR_ROOT + '/data/06_outputs/hex_influence.geojson', driver=\"GeoJSON\")\n",
    "\n",
    "hex_df_geo = hex_df.copy()\n",
    "hex_df_geo['centroid'] = hex_df_geo.apply(\n",
    "    lambda x: x['geometry'].centroid, \n",
    "    axis=1\n",
    ")\n",
    "hex_df_geo = hex_df_geo.drop(columns=[\"geometry\"])\n",
    "hex_df_geo.set_geometry('centroid', inplace=True)\n",
    "hex_df_geo = hex_df_geo.reset_index(drop=True)\n",
    "print(hex_df_geo)\n",
    "hex_df_geo.to_file(DIR_ROOT + '/data/06_outputs/hex-centroids_influence.geojson', driver=\"GeoJSON\")\n"
   ]
  }
 ],
 "metadata": {
  "interpreter": {
   "hash": "82749e5b48c4d6085d7533a91d2fcb4730d08732f57a440b121b3ba77c8d61ee"
  },
  "kernelspec": {
   "display_name": "Python 3.9.5 64-bit ('po2': conda)",
   "name": "python3"
  },
  "language_info": {
   "codemirror_mode": {
    "name": "ipython",
    "version": 3
   },
   "file_extension": ".py",
   "mimetype": "text/x-python",
   "name": "python",
   "nbconvert_exporter": "python",
   "pygments_lexer": "ipython3",
   "version": "3.9.5"
  },
  "metadata": {
   "interpreter": {
    "hash": "82749e5b48c4d6085d7533a91d2fcb4730d08732f57a440b121b3ba77c8d61ee"
   }
  },
  "orig_nbformat": 2
 },
 "nbformat": 4,
 "nbformat_minor": 2
}
