{
 "metadata": {
  "language_info": {
   "codemirror_mode": {
    "name": "ipython",
    "version": 3
   },
   "file_extension": ".py",
   "mimetype": "text/x-python",
   "name": "python",
   "nbconvert_exporter": "python",
   "pygments_lexer": "ipython3",
   "version": "3.8.2"
  },
  "orig_nbformat": 2,
  "kernelspec": {
   "name": "python38264bitpo2conda0cc6c94dcc774996989d8c0ab52f6b64",
   "display_name": "Python 3.8.2 64-bit ('po2': conda)"
  },
  "metadata": {
   "interpreter": {
    "hash": "82749e5b48c4d6085d7533a91d2fcb4730d08732f57a440b121b3ba77c8d61ee"
   }
  }
 },
 "nbformat": 4,
 "nbformat_minor": 2,
 "cells": [
  {
   "cell_type": "code",
   "execution_count": 1,
   "metadata": {},
   "outputs": [],
   "source": [
    "import pandas as pd\n",
    "import geopandas as gpd\n",
    "import numpy as np\n",
    "import shapely\n",
    "import pathlib\n",
    "import swifter\n",
    "from functools import reduce\n",
    "\n",
    "from shapely import wkt\n",
    "from shapely.geometry import Point, Polygon, LineString, MultiPoint\n",
    "\n",
    "import geojson\n",
    "import h3\n",
    "\n",
    "from geovoronoi import voronoi_regions_from_coords\n",
    "crs4326 = {'init': 'epsg:4326'}"
   ]
  },
  {
   "cell_type": "code",
   "execution_count": 2,
   "metadata": {},
   "outputs": [],
   "source": [
    "DIR_ROOT = os.path.join(pathlib.Path().absolute(), '../../..' )\n",
    "\n",
    "influences_df = pd.read_csv(DIR_ROOT + '/data/04_itinerary/influences.csv')\n",
    "influences_df = influences_df[influences_df['domestic'] == True]\n",
    "\n",
    "localities = pd.read_csv(DIR_ROOT + '/data/02_processed/localities.csv')\n",
    "localities['geometry'] = localities['geometry'].apply(wkt.loads)\n",
    "localities = gpd.GeoDataFrame(localities, crs=crs4326).set_geometry('geometry')"
   ]
  },
  {
   "cell_type": "code",
   "execution_count": 3,
   "metadata": {},
   "outputs": [
    {
     "output_type": "stream",
     "name": "stderr",
     "text": [
      "<ipython-input-3-7dfe25777e9d>:1: UserWarning: Geometry is in a geographic CRS. Results from 'buffer' are likely incorrect. Use 'GeoSeries.to_crs()' to re-project geometries to a projected CRS before this operation.\n\n  bbox = localities.buffer(1).total_bounds\n"
     ]
    },
    {
     "output_type": "execute_result",
     "data": {
      "text/plain": [
       "                                                          geometry  \\\n",
       "id                                                                   \n",
       "847a90dffffffff  POLYGON ((7.15652 51.21265, 7.34660 51.27283, ...   \n",
       "847ad67ffffffff  POLYGON ((8.25103 44.80135, 8.44641 44.87207, ...   \n",
       "845221bffffffff  POLYGON ((22.21724 45.07354, 22.00896 44.94325...   \n",
       "8452731ffffffff  POLYGON ((18.40947 48.75635, 18.21037 48.62957...   \n",
       "846395bffffffff  POLYGON ((11.11608 51.05574, 10.92915 50.93759...   \n",
       "...                                                            ...   \n",
       "844386dffffffff  POLYGON ((21.96025 54.77503, 21.76004 54.85821...   \n",
       "847a9ebffffffff  POLYGON ((8.07965 49.10792, 8.26998 49.17151, ...   \n",
       "84526c9ffffffff  POLYGON ((20.73144 52.95762, 20.54046 52.82805...   \n",
       "8463b4dffffffff  POLYGON ((13.80857 49.72853, 13.61557 49.60716...   \n",
       "84526a1ffffffff  POLYGON ((18.61335 52.40803, 18.42194 52.28105...   \n",
       "\n",
       "                              id  \n",
       "id                                \n",
       "847a90dffffffff  847a90dffffffff  \n",
       "847ad67ffffffff  847ad67ffffffff  \n",
       "845221bffffffff  845221bffffffff  \n",
       "8452731ffffffff  8452731ffffffff  \n",
       "846395bffffffff  846395bffffffff  \n",
       "...                          ...  \n",
       "844386dffffffff  844386dffffffff  \n",
       "847a9ebffffffff  847a9ebffffffff  \n",
       "84526c9ffffffff  84526c9ffffffff  \n",
       "8463b4dffffffff  8463b4dffffffff  \n",
       "84526a1ffffffff  84526a1ffffffff  \n",
       "\n",
       "[1670 rows x 2 columns]"
      ],
      "text/html": "<div>\n<style scoped>\n    .dataframe tbody tr th:only-of-type {\n        vertical-align: middle;\n    }\n\n    .dataframe tbody tr th {\n        vertical-align: top;\n    }\n\n    .dataframe thead th {\n        text-align: right;\n    }\n</style>\n<table border=\"1\" class=\"dataframe\">\n  <thead>\n    <tr style=\"text-align: right;\">\n      <th></th>\n      <th>geometry</th>\n      <th>id</th>\n    </tr>\n    <tr>\n      <th>id</th>\n      <th></th>\n      <th></th>\n    </tr>\n  </thead>\n  <tbody>\n    <tr>\n      <th>847a90dffffffff</th>\n      <td>POLYGON ((7.15652 51.21265, 7.34660 51.27283, ...</td>\n      <td>847a90dffffffff</td>\n    </tr>\n    <tr>\n      <th>847ad67ffffffff</th>\n      <td>POLYGON ((8.25103 44.80135, 8.44641 44.87207, ...</td>\n      <td>847ad67ffffffff</td>\n    </tr>\n    <tr>\n      <th>845221bffffffff</th>\n      <td>POLYGON ((22.21724 45.07354, 22.00896 44.94325...</td>\n      <td>845221bffffffff</td>\n    </tr>\n    <tr>\n      <th>8452731ffffffff</th>\n      <td>POLYGON ((18.40947 48.75635, 18.21037 48.62957...</td>\n      <td>8452731ffffffff</td>\n    </tr>\n    <tr>\n      <th>846395bffffffff</th>\n      <td>POLYGON ((11.11608 51.05574, 10.92915 50.93759...</td>\n      <td>846395bffffffff</td>\n    </tr>\n    <tr>\n      <th>...</th>\n      <td>...</td>\n      <td>...</td>\n    </tr>\n    <tr>\n      <th>844386dffffffff</th>\n      <td>POLYGON ((21.96025 54.77503, 21.76004 54.85821...</td>\n      <td>844386dffffffff</td>\n    </tr>\n    <tr>\n      <th>847a9ebffffffff</th>\n      <td>POLYGON ((8.07965 49.10792, 8.26998 49.17151, ...</td>\n      <td>847a9ebffffffff</td>\n    </tr>\n    <tr>\n      <th>84526c9ffffffff</th>\n      <td>POLYGON ((20.73144 52.95762, 20.54046 52.82805...</td>\n      <td>84526c9ffffffff</td>\n    </tr>\n    <tr>\n      <th>8463b4dffffffff</th>\n      <td>POLYGON ((13.80857 49.72853, 13.61557 49.60716...</td>\n      <td>8463b4dffffffff</td>\n    </tr>\n    <tr>\n      <th>84526a1ffffffff</th>\n      <td>POLYGON ((18.61335 52.40803, 18.42194 52.28105...</td>\n      <td>84526a1ffffffff</td>\n    </tr>\n  </tbody>\n</table>\n<p>1670 rows × 2 columns</p>\n</div>"
     },
     "metadata": {},
     "execution_count": 3
    }
   ],
   "source": [
    "bbox = localities.buffer(1).total_bounds\n",
    "bounds = dict(geojson.Polygon([[[bbox[0], bbox[1]], [bbox[0], bbox[3]], [bbox[2], bbox[3]], [bbox[2], bbox[1]]]]))\n",
    "hex_ids = list(h3.polyfill(bounds, 4))\n",
    "\n",
    "hex_df = gpd.GeoDataFrame(\n",
    "    [{\"geometry\": Polygon(h3.h3_to_geo_boundary(x)), \"id\": x} for x in hex_ids], crs=crs4326\n",
    ")\n",
    "hex_df.set_index('id', inplace=True)\n",
    "\n",
    "hex_df['id'] = hex_df.index\n",
    "hex_df['geometry'] = hex_df.apply(lambda x: Polygon(h3.h3_to_geo_boundary(x['id'])), axis=1)\n",
    "hex_df"
   ]
  },
  {
   "cell_type": "code",
   "execution_count": 4,
   "metadata": {
    "tags": []
   },
   "outputs": [
    {
     "output_type": "stream",
     "name": "stdout",
     "text": [
      "[{}, {}, {}, {}, {}, {}, {}, {'Znojmo': 1, 'Praha': 2}, {}, {}, {}, {}, {}, {}, {}, {}, {}, {}, {}, {}, {'Praha': 1, 'Písek': 1, 'Brno': 1}, {}, {'Wien': 18, 'Głubczyce': 1, 'Znojmo': 2, 'Sitzenberg': 2, 'Poděbrady': 1, 'Praha': 3, 'Jihlava': 2, 'Jaroměřice nad Rokytkou': 1, 'Zbraslav': 1, 'Brno': 1}, {}, {}, {}, {}, {}, {}, {}, {}, {}, {}, {'Krems an der Donau': 3, 'Kleinweikersdorf': 1, 'Zwettl': 2, 'Brno': 1, 'Wien': 2}, {}, {'Znojmo': 2, 'Brno': 1, 'Korneuburg': 1, 'Wien': 2, 'Písek': 1, 'Praha': 1}, {'Praha': 5, 'Kravaře u České Lípy': 1, 'Jablonné v Podještědí': 1, 'Budyně nad Ohří': 2, 'Litoměřice': 1}, {}, {}, {}, {}, {}, {'Kladruby': 2, 'Praha': 5, 'Křivoklát': 2, 'Plasy': 5}, {}, {}, {}, {}, {}, {}, {'Jihlava': 1}, {'Hainburg': 1}, {}, {}, {}, {'Most': 2, 'Praha': 6, 'Poděbrady': 1, 'Wien': 2, 'Křivoklát': 2}, {'Brno': 1, 'Jindřichův Hradec': 1, 'Praha': 1, 'Uničov': 1, 'Hradec nad Moravicí': 2}, {}, {'Praha': 1}, {}, {}, {}, {}, {}, {}, {}, {}, {}, {}, {}, {}, {}, {}, {}, {}, {}, {'Wien': 2, 'Jihlava': 1, 'Głubczyce': 1, 'Laa an der Thaya': 1}, {}, {'Brno': 3, 'Linz': 1, 'Zbraslav': 1, 'Wien': 1, 'Krems an der Donau': 1, 'Znojmo': 1, 'Wiener Neustadt': 1}, {}, {}, {}, {}, {}, {}, {}, {}, {}, {}, {}, {'Kamýk nad Vltavou': 1, 'Praha': 1}, {}, {}, {}, {}, {}, {}, {}, {}, {}, {}, {}, {}, {}, {'Praha': 1}, {}, {}, {}, {}, {}, {}, {}, {}, {}, {}, {}, {}, {}, {}, {}, {}, {}, {}, {}, {}, {}, {}, {}, {}, {}, {}, {}, {}, {}, {}, {}, {}, {}, {}, {}, {}, {}, {}, {'Wien': 11, 'Znojmo': 1, 'Milevsko': 1, 'Laa an der Thaya': 1, 'Velehrad': 1, 'Praha': 1, 'Zbraslav': 1}, {}, {}, {}, {}, {}, {}, {}, {}, {}, {}, {}, {}, {}, {}, {}, {}, {}, {}, {}, {}, {'Praha': 7, 'Hradec Králové': 2}, {}, {}, {}, {}, {}, {}, {}, {}, {}, {}, {}, {}, {}, {}, {}, {}, {}, {}, {}, {}, {}, {}, {'Wien': 1}, {}, {'Linz': 6, 'Wien': 8, 'Krems an der Donau': 3, 'Wels': 3, 'Znojmo': 3, 'Praha': 3, 'Korneuburg': 1, 'Písek': 1, 'Graz': 1}, {}, {}, {}, {}, {}, {}, {}, {}, {}, {}, {'Znojmo': 1}, {}, {}, {}, {}, {}, {}, {}, {'Křivoklát': 1}, {}, {}, {}, {}, {}, {}, {}, {}, {}, {}, {'Beroun': 1, 'Praha': 2, 'Zvíkov': 1}, {}, {}, {}, {}, {}, {}, {}, {}, {}, {}, {}, {}, {}, {}, {}, {}, {}, {}, {}, {}, {}, {}, {}, {}, {}, {}, {}, {}, {}, {}, {}, {}, {}, {}, {'Velehrad': 2, 'Praha': 1}, {}, {}, {'Wien': 1}, {}, {}, {}, {}, {}, {}, {}, {}, {}, {}, {}, {}, {'Korneuburg': 1}, {}, {}, {}, {}, {}, {}, {}, {}, {}, {}, {}, {}, {}, {}, {}, {}, {}, {'Znojmo': 1, 'Krems an der Donau': 2, 'Wien': 6, 'Neuburg am Inn': 2, 'Linz': 1, 'Gaming': 1, 'Praha': 3, 'Eggenburg': 1}, {}, {}, {}, {}, {}, {}, {}, {}, {}, {}, {}, {}, {}, {}, {}, {}, {}, {}, {}, {}, {}, {'Cheb': 1, 'Křivoklát': 1, 'Praha': 1, 'Kamýk nad Vltavou': 1}, {}, {}, {}, {}, {}, {'Brno': 2, 'Jihlava': 1, 'Praha': 1}, {}, {}, {}, {}, {}, {}, {}, {}, {}, {}, {}, {}, {}, {}, {}, {}, {}, {}, {}, {}, {}, {}, {}, {}, {}, {}, {}, {}, {}, {}, {}, {}, {'Jablonné v Podještědí': 4, 'Budyně nad Ohří': 1, 'Praha': 3, 'Písek': 1}, {}, {}, {}, {}, {}, {}, {}, {}, {}, {}, {}, {}, {}, {}, {}, {}, {}, {'Bratislava': 1, 'Wien': 1}, {}, {}, {'Graz': 4, 'Velehrad': 1, 'Wien': 4, 'Brno': 1}, {}, {}, {}, {'Wien': 5, 'Praha': 2, 'Kostanjevica na Krki': 2, 'Stičná': 2, 'Graz': 1}, {}, {}, {}, {}, {}, {}, {}, {}, {}, {}, {}, {}, {}, {}, {}, {}, {}, {}, {}, {}, {}, {}, {}, {}, {}, {}, {}, {}, {}, {}, {}, {}, {}, {}, {}, {}, {}, {}, {}, {}, {}, {}, {}, {}, {}, {}, {}, {}, {'Brno': 1}, {}, {}, {}, {}, {}, {}, {}, {'Velehrad': 1, 'Traiskirchen': 1}, {}, {}, {}, {}, {}, {}, {}, {}, {}, {}, {'Slovenj Gradec': 3, 'Wien': 1, 'Graz': 1, 'Praha': 1}, {'Wien': 5, 'Wiener Neustadt': 2}, {}, {}, {}, {}, {}, {}, {}, {}, {}, {}, {}, {'Beroun': 1, 'Praha': 1}, {}, {}, {}, {}, {}, {}, {}, {}, {}, {}, {}, {}, {}, {}, {}, {'Bratislava': 1, 'Velehrad': 1, 'Praha': 1}, {}, {}, {}, {}, {}, {}, {}, {}, {}, {}, {}, {}, {}, {'Graz': 1, 'Wiener Neustadt': 1, 'Znojmo': 1, 'Velehrad': 1, 'Praha': 1}, {}, {}, {}, {}, {}, {}, {}, {}, {}, {}, {}, {}, {'Písek': 2, 'Myšenec': 1}, {}, {}, {}, {}, {}, {}, {}, {}, {}, {}, {}, {}, {}, {}, {}, {}, {}, {}, {}, {}, {}, {}, {}, {}, {}, {}, {}, {}, {}, {}, {}, {}, {}, {}, {}, {}, {'Kamýk nad Vltavou': 1, 'Stičná': 1, 'Praha': 1, 'Brno': 2, 'Znojmo': 1}, {}, {'Wien': 1, 'Graz': 1, 'Brno': 2}, {}, {}, {}, {}, {}, {}, {'Brno': 4, 'Olomouc': 2, 'Wien': 1, 'Plasy': 1, 'Uherské Hradiště': 1}, {}, {}, {}, {}, {}, {}, {}, {}, {}, {}, {}, {'Praha': 1}, {}, {}, {}, {}, {}, {}, {}, {'Wien': 1, 'Veveří': 1, 'Brno': 1}, {}, {}, {'Praha': 1}, {}, {}, {}, {}, {}, {}, {'Praha': 1, 'Brno': 2, 'Jihlava': 1}, {}, {'Wien': 1}, {}, {}, {}, {}, {}, {}, {}, {}, {}, {}, {}, {}, {}, {}, {}, {}, {}, {}, {}, {}, {}, {}, {}, {}, {}, {}, {}, {}, {}, {}, {}, {}, {}, {}, {}, {}, {}, {}, {}, {}, {}, {}, {}, {}, {}, {'Praha': 1}, {}, {}, {}, {}, {'Praha': 2, 'Hradec Králové': 3}, {}, {}, {}, {}, {}, {}, {}, {}, {}, {}, {}, {}, {}, {}, {}, {}, {}, {}, {}, {}, {}, {}, {}, {}, {}, {}, {}, {}, {}, {}, {}, {}, {}, {}, {}, {}, {}, {}, {}, {}, {}, {'Wien': 2, 'Freistadt': 1}, {}, {}, {}, {}, {}, {}, {}, {}, {'Wiener Neustadt': 1, 'Wien': 1, 'Graz': 1, 'Velehrad': 2, 'Praha': 1}, {}, {}, {}, {}, {}, {}, {}, {}, {}, {}, {}, {}, {}, {}, {}, {}, {}, {}, {}, {}, {}, {}, {}, {}, {}, {}, {}, {}, {}, {'Korneuburg': 1, 'Wien': 6, 'Hainburg': 3, 'Brno': 1, 'Znojmo': 1}, {}, {}, {'Písek': 1}, {}, {}, {}, {}, {}, {'Praha': 2, 'Písek': 2, 'Brno': 2}, {}, {}, {}, {}, {}, {}, {}, {}, {}, {}, {}, {}, {'Písek': 1}, {'Wien': 1}, {}, {}, {}, {}, {}, {'Wien': 2, 'Krems an der Donau': 1, 'Linz': 1}, {}, {}, {}, {}, {}, {}, {}, {}, {}, {}, {}, {}, {}, {}, {}, {}, {}, {}, {}, {}, {}, {}, {}, {'Wien': 4, 'Znojmo': 4, 'Friesach': 1, 'Judenburg': 3, 'Praha': 3}, {}, {}, {}, {}, {}, {}, {}, {}, {}, {}, {}, {}, {}, {}, {}, {}, {}, {}, {}, {}, {}, {'Krems an der Donau': 3, 'Písek': 1, 'Praha': 3, 'Znojmo': 1, 'Wien': 2, 'České Budějovice': 1, 'Vracov': 1, 'Litoměřice': 1}, {}, {}, {'Znojmo': 1, 'Graz': 6, 'Linz': 2, 'Wien': 1, 'Praha': 2, 'Veveří': 1}, {}, {}, {}, {}, {}, {}, {}, {}, {}, {}, {'Linz': 1, 'Krems an der Donau': 3, 'Wels': 1, 'Freistadt': 1, 'Korneuburg': 1, 'Písek': 2, 'Sadská': 1, 'Wien': 1}, {}, {}, {}, {}, {}, {}, {}, {}, {}, {}, {}, {}, {}, {}, {}, {}, {}, {}, {}, {}, {}, {}, {'Stříbro': 1}, {}, {}, {}, {}, {}, {}, {}, {}, {'Křivoklát': 1}, {}, {}, {'Praha': 1}, {}, {}, {}, {}, {}, {}, {}, {}, {}, {}, {}, {'Graz': 1, 'Lubljana': 1}, {}, {}, {}, {}, {}, {}, {}, {}, {}, {}, {}, {}, {}, {'Wien': 1}, {}, {}, {}, {}, {}, {}, {}, {}, {}, {}, {}, {'Korneuburg': 1, 'Wels': 1}, {}, {}, {}, {}, {}, {}, {}, {}, {}, {}, {'Krems an der Donau': 4, 'Korneuburg': 5}, {}, {}, {}, {}, {}, {}, {}, {}, {}, {}, {}, {}, {}, {}, {}, {}, {}, {}, {}, {}, {}, {}, {}, {}, {}, {}, {'Písek': 1}, {}, {}, {}, {}, {}, {}, {}, {}, {'Brno': 5, 'Zvíkov': 2, 'Znojmo': 2, 'Praha': 2, 'Písek': 1}, {}, {}, {}, {}, {}, {}, {}, {}, {}, {}, {}, {}, {}, {}, {}, {}, {'Kamýk nad Vltavou': 1, 'Praha': 1}, {}, {}, {}, {}, {}, {}, {'Freistadt': 1}, {}, {}, {}, {}, {}, {}, {}, {}, {}, {}, {}, {'Krems an der Donau': 1, 'Linz': 6, 'Graz': 1, 'Wien': 2, 'Znojmo': 1, 'Freistadt': 1, 'Litoměřice': 1}, {}, {}, {}, {}, {}, {}, {}, {}, {}, {}, {}, {'Poděbrady': 1, 'Praha': 1}, {}, {}, {}, {'Praha': 19, 'Písek': 1, 'Brno': 1, 'Křivoklát': 1, 'Dobříš': 1, 'Litoměřice': 1}, {}, {}, {}, {}, {}, {}, {}, {'Laa an der Thaya': 1, 'Písek': 1, 'Myšenec': 1}, {}, {}, {}, {}, {}, {}, {}, {}, {'Brno': 1}, {}, {}, {}, {}, {'Zbraslav': 1}, {}, {}, {}, {}, {}, {}, {}, {'Zbraslav': 1}, {}, {}, {}, {}, {'Hainburg': 1, 'Domažlice': 1}, {}, {'Praha': 1, 'Plasy': 2}, {}, {}, {}, {}, {}, {}, {}, {}, {}, {}, {}, {}, {}, {}, {}, {}, {}, {}, {}, {}, {}, {}, {}, {}, {}, {}, {}, {}, {}, {}, {}, {}, {}, {}, {}, {}, {}, {}, {}, {}, {}, {}, {}, {}, {}, {}, {}, {}, {}, {}, {}, {}, {'Havlíčkův Brod': 2, 'Poděbrady': 1}, {}, {}, {}, {}, {}, {}, {}, {}, {'Wien': 1}, {}, {}, {'Písek': 2, 'Praha': 2, 'Myšenec': 1}, {}, {}, {}, {}, {}, {}, {}, {}, {}, {}, {}, {}, {}, {}, {}, {}, {}, {}, {}, {}, {}, {'Brno': 1, 'Wien': 5, 'Laa an der Thaya': 1}, {'Wien': 2, 'Brno': 1, 'Graz': 1}, {}, {}, {}, {'Křivoklát': 1}, {}, {}, {}, {}, {'Wiener Neustadt': 1}, {}, {}, {}, {}, {}, {}, {}, {}, {}, {}, {}, {}, {}, {}, {}, {}, {}, {}, {}, {}, {}, {}, {}, {}, {}, {}, {}, {}, {}, {'Praha': 4, 'Kladruby': 1}, {}, {}, {}, {}, {}, {}, {}, {}, {}, {}, {}, {'Brno': 1}, {}, {}, {}, {'Krems an der Donau': 5, 'Wien': 2, 'Jaroměřice nad Rokytkou': 2, 'Praha': 1, 'Kleinweikersdorf': 1, 'Laa an der Thaya': 2}, {}, {}, {}, {}, {}, {}, {}, {}, {}, {'Praha': 2}, {}, {}, {}, {}, {}, {}, {}, {}, {}, {'Hainburg': 1, 'Seitenstetten': 1, 'Znojmo': 2, 'Poděbrady': 1}, {}, {}, {}, {}, {}, {}, {}, {}, {}, {}, {}, {}, {}, {}, {}, {}, {}, {}, {}, {}, {}, {}, {}, {}, {}, {}, {}, {}, {}, {}, {}, {}, {'Brno': 1}, {}, {}, {}, {}, {}, {}, {}, {}, {'Olomouc': 1}, {}, {}, {}, {}, {}, {}, {}, {}, {}, {}, {'Krems an der Donau': 1, 'Wien': 8, 'Traiskirchen': 1, 'Wiener Neustadt': 1, 'Lilienfeld': 1, 'Laa an der Thaya': 1, 'Praha': 1}, {}, {}, {}, {}, {}, {}, {}, {}, {}, {}, {}, {'Krems an der Donau': 3}, {}, {}, {}, {}, {}, {'Praha': 33, 'Jihlava': 1, 'Poděbrady': 3}, {}, {}, {}, {}, {}, {}, {}, {'Brno': 1, 'Olomouc': 2, 'Přištpo': 1}, {}, {}, {}, {}, {}, {}, {}, {}, {}, {}, {}, {}, {}, {}, {}, {}, {}, {}, {}, {}, {}, {}, {}, {}, {}, {}, {}, {}, {}, {}, {}, {}, {}, {}, {}, {}, {}, {}, {}, {}, {}, {'Praha': 7}, {}, {}, {}, {}, {}, {}, {}, {}, {}, {}, {}, {}, {}, {}, {'Praha': 1}, {}, {}, {}, {}, {}, {}, {}, {}, {}, {'Plasy': 1, 'Uherské Hradiště': 2, 'Brno': 1, 'Kamýk nad Vltavou': 1, 'Olomouc': 1}, {'Wien': 2, 'Praha': 4, 'Znojmo': 2, 'Kamýk nad Vltavou': 1, 'Opava': 2, 'Písek': 2}, {}, {}, {}, {}, {}, {}, {}, {}, {}, {}, {}, {}, {}, {}, {}, {}, {'Praha': 3}, {}, {}, {}, {}, {}, {'Brno': 3, 'Wien': 1, 'Linz': 1, 'Wels': 1, 'Graz': 1}, {}, {}, {}, {}, {}, {}, {}, {}, {'Praha': 1}, {}, {}, {}, {}, {}, {}, {}, {}, {}, {}, {'Graz': 3, 'Villach': 1}, {}, {}, {}, {}, {}, {}, {}, {}, {}, {}, {}, {}, {}, {}, {}, {}, {'Graz': 3, 'Praha': 4, 'Wien': 9, 'Velehrad': 2, 'Wiener Neustadt': 3, 'Poděbrady': 1, 'Znojmo': 4, 'Sadská': 1, 'Zbraslav': 1, 'Brno': 1}, {}, {'Veveří': 1, 'Linz': 1, 'Wien': 1}, {}, {}, {}, {}, {}, {'Praha': 1, 'Brno': 3, 'Olomouc': 1}, {}, {'Brno': 1}, {}, {}, {}, {}, {}, {}, {}, {}, {}, {}, {}, {}, {}, {}, {}, {}, {'Kladruby': 2, 'Zvíkov': 2, 'Praha': 1, 'Kamýk nad Vltavou': 1, 'Plasy': 2}, {}, {}, {}, {}, {}, {}, {}, {}, {}, {}, {'Graz': 2, 'Villach': 1}, {}, {}, {}, {'Lubljana': 1}, {}, {}, {}, {}, {}, {}, {}, {}, {}, {}, {}, {}, {}, {}, {}, {}, {}, {}, {}, {}, {}, {'Praha': 4, 'Wien': 2, 'Znojmo': 1, 'Freistadt': 2, 'Krems an der Donau': 1, 'Hainburg': 2}, {}, {}, {}, {}, {}, {}, {}, {}, {}, {}, {}, {}, {}, {}, {'Praha': 1}, {}, {}, {}, {}, {}, {}, {}, {'Wien': 10, 'Graz': 3, 'Jihlava': 1, 'Głubczyce': 1, 'Freistadt': 3, 'Linz': 2, 'Znojmo': 2, 'Brno': 5, 'Písek': 1}, {}, {}, {}, {}, {}, {}, {'Praha': 1}, {}, {}, {}, {}, {}, {}, {}, {}, {}, {}, {}, {}, {}, {}, {}, {}, {}, {}, {}, {}, {}, {}, {}, {}, {}, {}, {}, {}, {}, {}, {}, {}, {}, {}, {}, {}, {}, {'Brno': 7, 'Olomouc': 5, 'Opava': 1, 'Praha': 10, 'Písek': 1, 'Jihlava': 1, 'Havlíčkův Brod': 2, 'Budyně nad Ohří': 1, 'Uherský Ostroh': 1, 'Znojmo': 2, 'Hradec nad Moravicí': 1}, {}, {}, {}, {}, {}, {}, {}, {}, {}, {}, {}, {}, {}, {}, {}, {}, {'Krems an der Donau': 1, 'Praha': 3, 'Wien': 5, 'Traiskirchen': 1, 'Vyškov': 2, 'Brno': 1, 'Freistadt': 2, 'Velehrad': 1, 'Korneuburg': 1, 'Písek': 1, 'Wiener Neustadt': 1, 'Znojmo': 1}, {}, {'Praha': 4}, {}, {}, {}, {}, {}, {}, {}, {}, {}, {}, {}, {}, {}, {}, {}, {}, {}, {}, {}, {}, {}, {'Písek': 1}, {}, {}, {}, {}, {}, {}, {}, {}, {}, {}, {}, {}, {}, {}, {}, {'Wien': 1}, {}, {'Hradec Králové': 2, 'Žatec': 1, 'Praha': 2}, {}, {}, {}, {}, {'Znojmo': 1, 'Korneuburg': 1, 'Wien': 1}, {}, {}, {}, {}, {}, {}, {}, {}, {}, {}, {}, {}, {}, {}, {}, {'Linz': 1}, {}, {}, {}, {}, {}, {}, {}, {}, {}, {}, {}, {}, {}, {'Žatec': 1, 'Praha': 3}, {}, {'Sadská': 1, 'Znojmo': 1, 'Praha': 2}, {}, {}, {}, {}, {}, {}, {}, {}, {}, {}, {}, {}, {}, {}, {}, {}, {}, {}, {}, {}, {}, {}, {}, {}, {}, {}, {}, {}, {}, {}, {}, {}, {}, {}, {}, {}, {}, {'Wien': 1, 'Krems an der Donau': 1, 'Praha': 1}, {}, {'Wien': 2, 'Praha': 6}, {}, {}, {}, {}, {}, {'Písek': 1, 'Praha': 3, 'Olomouc': 2, 'Uherský Ostroh': 1}, {}, {}, {}, {}, {}, {}, {}, {}, {}, {}, {}, {}, {}, {}, {}, {}, {}, {}, {'Praha': 1}, {}]\n"
     ]
    }
   ],
   "source": [
    "def get_influence_origins(hex_geo):\n",
    "    localities_in_hex = localities[localities.intersects(hex_geo)]\n",
    "\n",
    "    infl_list = []\n",
    "    for lihi, locality_in_hex in localities_in_hex.iterrows():\n",
    "        inf_object_rows = influences_df[influences_df['name'] == locality_in_hex['name']]\n",
    "        infl_list.extend(inf_object_rows['locality'].tolist())\n",
    "\n",
    "    return { x: infl_list.count(x) for x in infl_list}\n",
    "\n",
    "hex_df['infl'] = hex_df.apply(\n",
    "    lambda x: get_influence_origins(x['geometry']), \n",
    "    axis=1\n",
    ")\n",
    "print(hex_df['infl'].tolist())\n",
    "\n",
    "hex_df['all'] = hex_df.apply(\n",
    "    lambda x: sum(x['infl'].values()), \n",
    "    axis=1\n",
    ")\n",
    "\n",
    "centers_to_check = ['Praha', 'Brno', 'Wien', 'Znojmo', 'Graz', 'Krems an der Donau', 'Linz']\n",
    "\n",
    "\n",
    "for center in centers_to_check:\n",
    "    hex_df[center] = hex_df.apply(\n",
    "        lambda x: x['infl'][center] if center in x['infl'] else 0, \n",
    "        axis=1\n",
    "    )\n",
    "\n",
    "hex_df['others'] = hex_df.apply(\n",
    "    lambda x: x['all'] - sum(x[center] for center in centers_to_check) , \n",
    "    axis=1\n",
    ")\n",
    "\n"
   ]
  },
  {
   "cell_type": "code",
   "execution_count": 5,
   "metadata": {},
   "outputs": [],
   "source": [
    "\n",
    "hex_df.reset_index(drop=True).to_file(DIR_ROOT + '/data/06_outputs/hex_influence.geojson', driver=\"GeoJSON\")\n",
    "\n",
    "hex_df_geo = hex_df.copy()\n",
    "hex_df_geo['centroid'] = hex_df_geo.apply(\n",
    "    lambda x: x['geometry'].centroid, \n",
    "    axis=1\n",
    ")\n",
    "hex_df_geo = hex_df_geo.drop(columns=[\"geometry\"])\n",
    "hex_df_geo.set_geometry('centroid', inplace=True)\n",
    "hex_df_geo = hex_df_geo.reset_index(drop=True)\n",
    "hex_df_geo.to_file(DIR_ROOT + '/data/06_outputs/hex-centroids_influence.geojson', driver=\"GeoJSON\")\n"
   ]
  }
 ]
}