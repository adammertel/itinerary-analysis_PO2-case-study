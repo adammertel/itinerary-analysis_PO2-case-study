{
 "metadata": {
  "language_info": {
   "codemirror_mode": {
    "name": "ipython",
    "version": 3
   },
   "file_extension": ".py",
   "mimetype": "text/x-python",
   "name": "python",
   "nbconvert_exporter": "python",
   "pygments_lexer": "ipython3",
   "version": "3.8.2"
  },
  "orig_nbformat": 2,
  "kernelspec": {
   "name": "python38264bitpo2conda0cc6c94dcc774996989d8c0ab52f6b64",
   "display_name": "Python 3.8.2 64-bit ('po2': conda)"
  },
  "metadata": {
   "interpreter": {
    "hash": "82749e5b48c4d6085d7533a91d2fcb4730d08732f57a440b121b3ba77c8d61ee"
   }
  }
 },
 "nbformat": 4,
 "nbformat_minor": 2,
 "cells": [
  {
   "cell_type": "code",
   "execution_count": 31,
   "metadata": {},
   "outputs": [],
   "source": [
    "import pandas as pd\n",
    "import geopandas as gpd\n",
    "import numpy as np\n",
    "import shapely\n",
    "import pathlib\n",
    "import swifter\n",
    "import matplotlib.pyplot as plt\n",
    "\n",
    "from shapely import wkt\n",
    "from shapely.geometry import Point, Polygon, LineString, MultiPoint\n",
    "\n",
    "import geojson\n",
    "import h3\n",
    "\n",
    "DIR_ROOT = os.path.join(pathlib.Path().absolute(), '../../..' )"
   ]
  },
  {
   "cell_type": "code",
   "execution_count": 136,
   "metadata": {},
   "outputs": [],
   "source": [
    "# list of all metrices used in the analysis\n",
    "metrics = [\n",
    "    #'act_day', \n",
    "    #'act_stay',\n",
    "    'act_sum',\n",
    "    'centr_closes',\n",
    "    'centr_eigen_w',\n",
    "    'centr_eigen',\n",
    "    'centr_infos',\n",
    "    'day_sum',\n",
    "    #'infl_dist',\n",
    "    'infl_reg',\n",
    "    'infl_sum',\n",
    "    #'stay_avg',\n",
    "    'stay_sum',\n",
    "    'travel'\n",
    "]"
   ]
  },
  {
   "cell_type": "code",
   "execution_count": 137,
   "metadata": {
    "tags": []
   },
   "outputs": [],
   "source": [
    "# merge all metrices with the list of destinations\n",
    "\n",
    "df = pd.read_csv(DIR_ROOT + '/data/02_processed/destinations.csv', index_col='name')\n",
    "\n",
    "for metric in metrics:\n",
    "    df_metric = pd.read_csv(DIR_ROOT + '/data/05_metrics/' + metric + '.csv', index_col=0)\n",
    "    df_metric.rename(columns={\n",
    "       'p1': metric + '_p1', \n",
    "       'p2': metric + '_p2',\n",
    "       'p3': metric + '_p3',\n",
    "       'p4': metric + '_p4',\n",
    "       'p5': metric + '_p5',\n",
    "       'pall': metric + '',\n",
    "    }, inplace=True)\n",
    "    df_metric.drop(columns=['geometry'], inplace=True) \n",
    "    df_metric = (df_metric - df_metric.min()) / (df_metric.max() - df_metric.min())\n",
    "\n",
    "    # merge to the table with all destinations\n",
    "    df = pd.concat([df, df_metric], axis=1, join=\"inner\")"
   ]
  },
  {
   "cell_type": "code",
   "execution_count": 157,
   "metadata": {},
   "outputs": [
    {
     "output_type": "execute_result",
     "data": {
      "text/plain": [
       "                      Unnamed: 0   id  no_alle  no_activity  no_reise  no_bi  \\\n",
       "Praha                        420  421      399          171       175     44   \n",
       "Wien                         631  632      268          116       124     20   \n",
       "Brno                          43   44      105           43        49      9   \n",
       "Krems an der Donau           228  229       72           30        30      5   \n",
       "Písek                        395  396       28           13        13      1   \n",
       "...                          ...  ...      ...          ...       ...    ...   \n",
       "Lubljana                     269  270        3            1         1      1   \n",
       "Kravaře u České Lípy         227  228        3            1         1      1   \n",
       "Most                         312  313        6            1         1      2   \n",
       "Friesach                     112  113       11            4         4      2   \n",
       "Villach                      600  601        2            1         1      0   \n",
       "\n",
       "                      no_gg      x      y  prazision  ... stay_sum_p4  \\\n",
       "Praha                     9  50.09  14.41        1.0  ...      1.0000   \n",
       "Wien                      8  48.22  16.39        1.0  ...      0.3750   \n",
       "Brno                      4  49.19  16.61        1.0  ...      0.5625   \n",
       "Krems an der Donau        7  48.41  15.62        1.0  ...      0.0625   \n",
       "Písek                     1  49.31  14.15        1.0  ...      0.0000   \n",
       "...                     ...    ...    ...        ...  ...         ...   \n",
       "Lubljana                  0  46.05  14.51        1.0  ...      0.0000   \n",
       "Kravaře u České Lípy      0  50.63  14.39        1.0  ...         NaN   \n",
       "Most                      2  50.50  13.64        1.0  ...         NaN   \n",
       "Friesach                  1  46.98  14.33        1.0  ...      0.0000   \n",
       "Villach                   0  46.61  13.86        1.0  ...      0.0000   \n",
       "\n",
       "                     stay_sum_p5 stay_sum travel_p1 travel_p2  travel_p3  \\\n",
       "Praha                        1.0     1.00       NaN  1.000000   1.000000   \n",
       "Wien                         NaN     0.58  0.371950  0.667121   0.748067   \n",
       "Brno                         1.0     0.38  0.000000  0.358439   0.341683   \n",
       "Krems an der Donau           NaN     0.26  0.592467  0.617057   0.000000   \n",
       "Písek                        NaN     0.14  0.000000  0.165736   0.417519   \n",
       "...                          ...      ...       ...       ...        ...   \n",
       "Lubljana                     NaN     0.00       NaN       NaN        NaN   \n",
       "Kravaře u České Lípy         NaN     0.00       NaN  0.000000   0.011851   \n",
       "Most                         NaN     0.00       NaN  0.000000   0.012717   \n",
       "Friesach                     NaN     0.00       NaN       NaN   0.000000   \n",
       "Villach                      NaN     0.00       NaN       NaN        NaN   \n",
       "\n",
       "                      travel_p4  travel_p5    travel    median  \n",
       "Praha                  0.653875   0.427733  1.000000  1.000000  \n",
       "Wien                   0.416228   0.000000  0.682007  0.717671  \n",
       "Brno                   0.699586   1.000000  0.716256  0.608053  \n",
       "Krems an der Donau     0.327419   0.000000  0.487123  0.306374  \n",
       "Písek                  0.072589   0.000000  0.264543  0.296142  \n",
       "...                         ...        ...       ...       ...  \n",
       "Lubljana               0.075101        NaN  0.111752  0.002976  \n",
       "Kravaře u České Lípy   0.000000   0.000000  0.005825  0.002132  \n",
       "Most                   0.000000   0.000000  0.006429  0.001392  \n",
       "Friesach               0.018628        NaN  0.026040  0.000766  \n",
       "Villach                0.052214        NaN  0.077697  0.000000  \n",
       "\n",
       "[75 rows x 76 columns]"
      ],
      "text/html": "<div>\n<style scoped>\n    .dataframe tbody tr th:only-of-type {\n        vertical-align: middle;\n    }\n\n    .dataframe tbody tr th {\n        vertical-align: top;\n    }\n\n    .dataframe thead th {\n        text-align: right;\n    }\n</style>\n<table border=\"1\" class=\"dataframe\">\n  <thead>\n    <tr style=\"text-align: right;\">\n      <th></th>\n      <th>Unnamed: 0</th>\n      <th>id</th>\n      <th>no_alle</th>\n      <th>no_activity</th>\n      <th>no_reise</th>\n      <th>no_bi</th>\n      <th>no_gg</th>\n      <th>x</th>\n      <th>y</th>\n      <th>prazision</th>\n      <th>...</th>\n      <th>stay_sum_p4</th>\n      <th>stay_sum_p5</th>\n      <th>stay_sum</th>\n      <th>travel_p1</th>\n      <th>travel_p2</th>\n      <th>travel_p3</th>\n      <th>travel_p4</th>\n      <th>travel_p5</th>\n      <th>travel</th>\n      <th>median</th>\n    </tr>\n  </thead>\n  <tbody>\n    <tr>\n      <th>Praha</th>\n      <td>420</td>\n      <td>421</td>\n      <td>399</td>\n      <td>171</td>\n      <td>175</td>\n      <td>44</td>\n      <td>9</td>\n      <td>50.09</td>\n      <td>14.41</td>\n      <td>1.0</td>\n      <td>...</td>\n      <td>1.0000</td>\n      <td>1.0</td>\n      <td>1.00</td>\n      <td>NaN</td>\n      <td>1.000000</td>\n      <td>1.000000</td>\n      <td>0.653875</td>\n      <td>0.427733</td>\n      <td>1.000000</td>\n      <td>1.000000</td>\n    </tr>\n    <tr>\n      <th>Wien</th>\n      <td>631</td>\n      <td>632</td>\n      <td>268</td>\n      <td>116</td>\n      <td>124</td>\n      <td>20</td>\n      <td>8</td>\n      <td>48.22</td>\n      <td>16.39</td>\n      <td>1.0</td>\n      <td>...</td>\n      <td>0.3750</td>\n      <td>NaN</td>\n      <td>0.58</td>\n      <td>0.371950</td>\n      <td>0.667121</td>\n      <td>0.748067</td>\n      <td>0.416228</td>\n      <td>0.000000</td>\n      <td>0.682007</td>\n      <td>0.717671</td>\n    </tr>\n    <tr>\n      <th>Brno</th>\n      <td>43</td>\n      <td>44</td>\n      <td>105</td>\n      <td>43</td>\n      <td>49</td>\n      <td>9</td>\n      <td>4</td>\n      <td>49.19</td>\n      <td>16.61</td>\n      <td>1.0</td>\n      <td>...</td>\n      <td>0.5625</td>\n      <td>1.0</td>\n      <td>0.38</td>\n      <td>0.000000</td>\n      <td>0.358439</td>\n      <td>0.341683</td>\n      <td>0.699586</td>\n      <td>1.000000</td>\n      <td>0.716256</td>\n      <td>0.608053</td>\n    </tr>\n    <tr>\n      <th>Krems an der Donau</th>\n      <td>228</td>\n      <td>229</td>\n      <td>72</td>\n      <td>30</td>\n      <td>30</td>\n      <td>5</td>\n      <td>7</td>\n      <td>48.41</td>\n      <td>15.62</td>\n      <td>1.0</td>\n      <td>...</td>\n      <td>0.0625</td>\n      <td>NaN</td>\n      <td>0.26</td>\n      <td>0.592467</td>\n      <td>0.617057</td>\n      <td>0.000000</td>\n      <td>0.327419</td>\n      <td>0.000000</td>\n      <td>0.487123</td>\n      <td>0.306374</td>\n    </tr>\n    <tr>\n      <th>Písek</th>\n      <td>395</td>\n      <td>396</td>\n      <td>28</td>\n      <td>13</td>\n      <td>13</td>\n      <td>1</td>\n      <td>1</td>\n      <td>49.31</td>\n      <td>14.15</td>\n      <td>1.0</td>\n      <td>...</td>\n      <td>0.0000</td>\n      <td>NaN</td>\n      <td>0.14</td>\n      <td>0.000000</td>\n      <td>0.165736</td>\n      <td>0.417519</td>\n      <td>0.072589</td>\n      <td>0.000000</td>\n      <td>0.264543</td>\n      <td>0.296142</td>\n    </tr>\n    <tr>\n      <th>...</th>\n      <td>...</td>\n      <td>...</td>\n      <td>...</td>\n      <td>...</td>\n      <td>...</td>\n      <td>...</td>\n      <td>...</td>\n      <td>...</td>\n      <td>...</td>\n      <td>...</td>\n      <td>...</td>\n      <td>...</td>\n      <td>...</td>\n      <td>...</td>\n      <td>...</td>\n      <td>...</td>\n      <td>...</td>\n      <td>...</td>\n      <td>...</td>\n      <td>...</td>\n      <td>...</td>\n    </tr>\n    <tr>\n      <th>Lubljana</th>\n      <td>269</td>\n      <td>270</td>\n      <td>3</td>\n      <td>1</td>\n      <td>1</td>\n      <td>1</td>\n      <td>0</td>\n      <td>46.05</td>\n      <td>14.51</td>\n      <td>1.0</td>\n      <td>...</td>\n      <td>0.0000</td>\n      <td>NaN</td>\n      <td>0.00</td>\n      <td>NaN</td>\n      <td>NaN</td>\n      <td>NaN</td>\n      <td>0.075101</td>\n      <td>NaN</td>\n      <td>0.111752</td>\n      <td>0.002976</td>\n    </tr>\n    <tr>\n      <th>Kravaře u České Lípy</th>\n      <td>227</td>\n      <td>228</td>\n      <td>3</td>\n      <td>1</td>\n      <td>1</td>\n      <td>1</td>\n      <td>0</td>\n      <td>50.63</td>\n      <td>14.39</td>\n      <td>1.0</td>\n      <td>...</td>\n      <td>NaN</td>\n      <td>NaN</td>\n      <td>0.00</td>\n      <td>NaN</td>\n      <td>0.000000</td>\n      <td>0.011851</td>\n      <td>0.000000</td>\n      <td>0.000000</td>\n      <td>0.005825</td>\n      <td>0.002132</td>\n    </tr>\n    <tr>\n      <th>Most</th>\n      <td>312</td>\n      <td>313</td>\n      <td>6</td>\n      <td>1</td>\n      <td>1</td>\n      <td>2</td>\n      <td>2</td>\n      <td>50.50</td>\n      <td>13.64</td>\n      <td>1.0</td>\n      <td>...</td>\n      <td>NaN</td>\n      <td>NaN</td>\n      <td>0.00</td>\n      <td>NaN</td>\n      <td>0.000000</td>\n      <td>0.012717</td>\n      <td>0.000000</td>\n      <td>0.000000</td>\n      <td>0.006429</td>\n      <td>0.001392</td>\n    </tr>\n    <tr>\n      <th>Friesach</th>\n      <td>112</td>\n      <td>113</td>\n      <td>11</td>\n      <td>4</td>\n      <td>4</td>\n      <td>2</td>\n      <td>1</td>\n      <td>46.98</td>\n      <td>14.33</td>\n      <td>1.0</td>\n      <td>...</td>\n      <td>0.0000</td>\n      <td>NaN</td>\n      <td>0.00</td>\n      <td>NaN</td>\n      <td>NaN</td>\n      <td>0.000000</td>\n      <td>0.018628</td>\n      <td>NaN</td>\n      <td>0.026040</td>\n      <td>0.000766</td>\n    </tr>\n    <tr>\n      <th>Villach</th>\n      <td>600</td>\n      <td>601</td>\n      <td>2</td>\n      <td>1</td>\n      <td>1</td>\n      <td>0</td>\n      <td>0</td>\n      <td>46.61</td>\n      <td>13.86</td>\n      <td>1.0</td>\n      <td>...</td>\n      <td>0.0000</td>\n      <td>NaN</td>\n      <td>0.00</td>\n      <td>NaN</td>\n      <td>NaN</td>\n      <td>NaN</td>\n      <td>0.052214</td>\n      <td>NaN</td>\n      <td>0.077697</td>\n      <td>0.000000</td>\n    </tr>\n  </tbody>\n</table>\n<p>75 rows × 76 columns</p>\n</div>"
     },
     "metadata": {},
     "execution_count": 157
    }
   ],
   "source": [
    "df['median'] = df.apply(\n",
    "    lambda x: x[metrics].median(),\n",
    "    axis=1\n",
    ")\n",
    "df.sort_values('median', ascending=False)"
   ]
  },
  {
   "cell_type": "code",
   "execution_count": 139,
   "metadata": {},
   "outputs": [
    {
     "output_type": "execute_result",
     "data": {
      "text/plain": [
       "act_sum          1\n",
       "centr_closes     1\n",
       "centr_eigen_w    1\n",
       "centr_eigen      1\n",
       "centr_infos      1\n",
       "day_sum          1\n",
       "infl_reg         1\n",
       "infl_sum         1\n",
       "stay_sum         1\n",
       "travel           1\n",
       "Name: Praha, dtype: int64"
      ]
     },
     "metadata": {},
     "execution_count": 139
    }
   ],
   "source": [
    "# get order for each metric\n",
    "\n",
    "df_matrices_order = pd.DataFrame(index=df.index)\n",
    "\n",
    "for metric in metrics:\n",
    "    df_copy = df.copy()\n",
    "    df_copy.sort_values(metric, inplace=True, ascending=False)\n",
    "    df_copy.reset_index(inplace=True)\n",
    "    df_copy['rank'] = df_copy.index.values\n",
    "    df_copy.set_index('index', inplace=True)\n",
    "    df_matrices_order[metric] = df_copy[['rank']] + 1\n",
    "\n",
    "df_matrices_order.loc['Praha']"
   ]
  },
  {
   "cell_type": "code",
   "execution_count": 242,
   "metadata": {},
   "outputs": [
    {
     "output_type": "execute_result",
     "data": {
      "text/html": "\n<div id=\"altair-viz-96026090f4c9413b931b75bd6432c901\"></div>\n<script type=\"text/javascript\">\n  (function(spec, embedOpt){\n    let outputDiv = document.currentScript.previousElementSibling;\n    if (outputDiv.id !== \"altair-viz-96026090f4c9413b931b75bd6432c901\") {\n      outputDiv = document.getElementById(\"altair-viz-96026090f4c9413b931b75bd6432c901\");\n    }\n    const paths = {\n      \"vega\": \"https://cdn.jsdelivr.net/npm//vega@5?noext\",\n      \"vega-lib\": \"https://cdn.jsdelivr.net/npm//vega-lib?noext\",\n      \"vega-lite\": \"https://cdn.jsdelivr.net/npm//vega-lite@4.8.1?noext\",\n      \"vega-embed\": \"https://cdn.jsdelivr.net/npm//vega-embed@6?noext\",\n    };\n\n    function loadScript(lib) {\n      return new Promise(function(resolve, reject) {\n        var s = document.createElement('script');\n        s.src = paths[lib];\n        s.async = true;\n        s.onload = () => resolve(paths[lib]);\n        s.onerror = () => reject(`Error loading script: ${paths[lib]}`);\n        document.getElementsByTagName(\"head\")[0].appendChild(s);\n      });\n    }\n\n    function showError(err) {\n      outputDiv.innerHTML = `<div class=\"error\" style=\"color:red;\">${err}</div>`;\n      throw err;\n    }\n\n    function displayChart(vegaEmbed) {\n      vegaEmbed(outputDiv, spec, embedOpt)\n        .catch(err => showError(`Javascript Error: ${err.message}<br>This usually means there's a typo in your chart specification. See the javascript console for the full traceback.`));\n    }\n\n    if(typeof define === \"function\" && define.amd) {\n      requirejs.config({paths});\n      require([\"vega-embed\"], displayChart, err => showError(`Error loading script: ${err.message}`));\n    } else if (typeof vegaEmbed === \"function\") {\n      displayChart(vegaEmbed);\n    } else {\n      loadScript(\"vega\")\n        .then(() => loadScript(\"vega-lite\"))\n        .then(() => loadScript(\"vega-embed\"))\n        .catch(showError)\n        .then(() => displayChart(vegaEmbed));\n    }\n  })({\"config\": {\"view\": {\"continuousWidth\": 400, \"continuousHeight\": 300}}, \"layer\": [{\"mark\": {\"type\": \"line\", \"clip\": true}, \"encoding\": {\"color\": {\"type\": \"nominal\", \"field\": \"name\"}, \"x\": {\"type\": \"nominal\", \"axis\": {\"title\": \"metrics\"}, \"field\": \"key\"}, \"y\": {\"type\": \"quantitative\", \"axis\": {\"format\": \".0f\", \"tickMinStep\": 1, \"title\": \"rank\", \"values\": [1, 2, 3, 4, 5]}, \"field\": \"value\", \"scale\": {\"domain\": [5.5, 0.5], \"zero\": false}}}, \"transform\": [{\"window\": [{\"op\": \"count\", \"as\": \"index\"}]}, {\"fold\": [\"act_sum\", \"centr_closes\", \"centr_eigen_w\", \"centr_eigen\", \"centr_infos\", \"day_sum\", \"infl_reg\", \"infl_sum\", \"stay_sum\", \"travel\"]}], \"width\": 500}, {\"mark\": {\"type\": \"circle\", \"clip\": true, \"size\": 100}, \"encoding\": {\"color\": {\"type\": \"nominal\", \"field\": \"name\"}, \"x\": {\"type\": \"nominal\", \"axis\": {\"title\": \"metrics\"}, \"field\": \"key\"}, \"y\": {\"type\": \"quantitative\", \"axis\": {\"format\": \".0f\", \"tickMinStep\": 1, \"title\": \"rank\", \"values\": [1, 2, 3, 4, 5]}, \"field\": \"value\", \"scale\": {\"domain\": [5.5, 0.5], \"zero\": false}}}, \"transform\": [{\"window\": [{\"op\": \"count\", \"as\": \"index\"}]}, {\"fold\": [\"act_sum\", \"centr_closes\", \"centr_eigen_w\", \"centr_eigen\", \"centr_infos\", \"day_sum\", \"infl_reg\", \"infl_sum\", \"stay_sum\", \"travel\"]}], \"width\": 500}], \"data\": {\"name\": \"data-5d800a61e598fdbf6f58aee492f9931c\"}, \"$schema\": \"https://vega.github.io/schema/vega-lite/v4.8.1.json\", \"datasets\": {\"data-5d800a61e598fdbf6f58aee492f9931c\": [{\"act_sum\": 3, \"centr_closes\": 5, \"centr_eigen_w\": 3, \"centr_eigen\": 3, \"centr_infos\": 3, \"day_sum\": 3, \"infl_reg\": 3, \"infl_sum\": 3, \"stay_sum\": 3, \"travel\": 3, \"name\": \"Brno\"}, {\"act_sum\": 23, \"centr_closes\": 66, \"centr_eigen_w\": 59, \"centr_eigen\": 59, \"centr_infos\": 63, \"day_sum\": 23, \"infl_reg\": 75, \"infl_sum\": 75, \"stay_sum\": 62, \"travel\": 2, \"name\": \"Judenburg\"}, {\"act_sum\": 4, \"centr_closes\": 6, \"centr_eigen_w\": 4, \"centr_eigen\": 4, \"centr_infos\": 4, \"day_sum\": 5, \"infl_reg\": 8, \"infl_sum\": 4, \"stay_sum\": 4, \"travel\": 8, \"name\": \"Krems an der Donau\"}, {\"act_sum\": 7, \"centr_closes\": 30, \"centr_eigen_w\": 14, \"centr_eigen\": 14, \"centr_infos\": 8, \"day_sum\": 6, \"infl_reg\": 9, \"infl_sum\": 8, \"stay_sum\": 7, \"travel\": 5, \"name\": \"Linz\"}, {\"act_sum\": 1, \"centr_closes\": 1, \"centr_eigen_w\": 1, \"centr_eigen\": 1, \"centr_infos\": 1, \"day_sum\": 1, \"infl_reg\": 1, \"infl_sum\": 1, \"stay_sum\": 1, \"travel\": 1, \"name\": \"Praha\"}, {\"act_sum\": 8, \"centr_closes\": 20, \"centr_eigen_w\": 5, \"centr_eigen\": 5, \"centr_infos\": 6, \"day_sum\": 4, \"infl_reg\": 5, \"infl_sum\": 7, \"stay_sum\": 6, \"travel\": 13, \"name\": \"P\\u00edsek\"}, {\"act_sum\": 2, \"centr_closes\": 4, \"centr_eigen_w\": 2, \"centr_eigen\": 2, \"centr_infos\": 2, \"day_sum\": 2, \"infl_reg\": 2, \"infl_sum\": 2, \"stay_sum\": 2, \"travel\": 4, \"name\": \"Wien\"}, {\"act_sum\": 22, \"centr_closes\": 2, \"centr_eigen_w\": 18, \"centr_eigen\": 18, \"centr_infos\": 18, \"day_sum\": 21, \"infl_reg\": 20, \"infl_sum\": 20, \"stay_sum\": 14, \"travel\": 49, \"name\": \"Zbraslav\"}, {\"act_sum\": 5, \"centr_closes\": 3, \"centr_eigen_w\": 6, \"centr_eigen\": 6, \"centr_infos\": 5, \"day_sum\": 9, \"infl_reg\": 4, \"infl_sum\": 5, \"stay_sum\": 5, \"travel\": 21, \"name\": \"Znojmo\"}]}}, {\"padding\": {\"left\": 5, \"right\": 10, \"bottom\": 5, \"top\": 10}, \"mode\": \"vega-lite\"});\n</script>",
      "text/plain": [
       "alt.LayerChart(...)"
      ]
     },
     "metadata": {},
     "execution_count": 242
    }
   ],
   "source": [
    "import altair as alt\n",
    "\n",
    "max_rank = 5\n",
    "\n",
    "# get list of important places\n",
    "imp_places = []\n",
    "for metric in metrics:\n",
    "    imp_places_m = df_matrices_order[df_matrices_order[metric] <= max_rank].index\n",
    "    imp_places.extend(imp_places_m)\n",
    "\n",
    "imp_places = np.unique(np.array(imp_places))\n",
    "\n",
    "\n",
    "imp_places = df_matrices_order.loc[imp_places]\n",
    "imp_places['name'] = imp_places.index\n",
    "\n",
    "alt.renderers.set_embed_options(\n",
    "    padding={\"left\": 5, \"right\": 10, \"bottom\": 5, \"top\": 10}\n",
    ")\n",
    "\n",
    "rank_chart = alt.Chart(imp_places).transform_window(\n",
    "    index='count()'\n",
    ").transform_fold(\n",
    "    metrics\n",
    ").properties(\n",
    "    width=500,\n",
    ").encode(\n",
    "    color='name:N',\n",
    "    x=alt.X(\n",
    "        'key:N',\n",
    "        axis=alt.Axis(title='metrics')\n",
    "    ),\n",
    "    y=alt.Y(\n",
    "        'value:Q', \n",
    "        scale=alt.Scale(zero=False, domain=[max_rank + 0.5,0.5]),\n",
    "        axis=alt.Axis(values=[1,2,3,4,5], title='rank', tickMinStep=1, format='.0f'),\n",
    "    ),\n",
    ")\n",
    "\n",
    "lines = rank_chart.mark_line(\n",
    "    clip=True\n",
    ")\n",
    "\n",
    "circles = rank_chart.mark_circle(\n",
    "    clip=True,\n",
    "    size=100\n",
    ")\n",
    "\n",
    "lines + circles"
   ]
  }
 ]
}