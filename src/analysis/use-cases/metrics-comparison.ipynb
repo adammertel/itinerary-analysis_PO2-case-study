{
 "metadata": {
  "language_info": {
   "codemirror_mode": {
    "name": "ipython",
    "version": 3
   },
   "file_extension": ".py",
   "mimetype": "text/x-python",
   "name": "python",
   "nbconvert_exporter": "python",
   "pygments_lexer": "ipython3",
   "version": "3.8.2"
  },
  "orig_nbformat": 2,
  "kernelspec": {
   "name": "python38264bitpo2conda0cc6c94dcc774996989d8c0ab52f6b64",
   "display_name": "Python 3.8.2 64-bit ('po2': conda)"
  },
  "metadata": {
   "interpreter": {
    "hash": "82749e5b48c4d6085d7533a91d2fcb4730d08732f57a440b121b3ba77c8d61ee"
   }
  }
 },
 "nbformat": 4,
 "nbformat_minor": 2,
 "cells": [
  {
   "cell_type": "code",
   "execution_count": 1,
   "metadata": {},
   "outputs": [],
   "source": [
    "import pandas as pd\n",
    "import geopandas as gpd\n",
    "import numpy as np\n",
    "import shapely\n",
    "import pathlib\n",
    "import swifter\n",
    "import matplotlib.pyplot as plt\n",
    "\n",
    "from shapely import wkt\n",
    "from shapely.geometry import Point, Polygon, LineString, MultiPoint\n",
    "\n",
    "import geojson\n",
    "import h3\n",
    "\n",
    "DIR_ROOT = os.path.join(pathlib.Path().absolute(), '../../..' )"
   ]
  },
  {
   "cell_type": "code",
   "execution_count": 4,
   "metadata": {},
   "outputs": [],
   "source": [
    "# list of all metrices used in the analysis\n",
    "metrics = [\n",
    "    #'act_day', \n",
    "    #'act_stay',\n",
    "    'act_sum',\n",
    "    'day_sum',\n",
    "    'stay_avg',\n",
    "    'stay_sum',\n",
    "    \n",
    "    'travel',\n",
    " \n",
    "    'centr_closes',\n",
    "    'centr_between',\n",
    "    'centr_eigen',\n",
    "    'centr_infos',\n",
    "    \n",
    "    'infl_dist',\n",
    "    'infl_reg',\n",
    "    'infl_sum',\n",
    "]"
   ]
  },
  {
   "cell_type": "code",
   "execution_count": 5,
   "metadata": {
    "tags": []
   },
   "outputs": [],
   "source": [
    "# merge all metrices with the list of destinations\n",
    "\n",
    "df = pd.read_csv(DIR_ROOT + '/data/02_processed/destinations.csv', index_col='name')\n",
    "\n",
    "for metric in metrics:\n",
    "    df_metric = pd.read_csv(DIR_ROOT + '/data/05_metrics/' + metric + '.csv', index_col=0)\n",
    "    df_metric.rename(columns={\n",
    "       'p1': metric + '_p1', \n",
    "       'p2': metric + '_p2',\n",
    "       'p3': metric + '_p3',\n",
    "       'p4': metric + '_p4',\n",
    "       'p5': metric + '_p5',\n",
    "       'pall': metric + '',\n",
    "    }, inplace=True)\n",
    "    df_metric.drop(columns=['geometry'], inplace=True) \n",
    "    df_metric = (df_metric - df_metric.min()) / (df_metric.max() - df_metric.min())\n",
    "\n",
    "    # merge to the table with all destinations\n",
    "    df = pd.concat([df, df_metric], axis=1, join=\"inner\")"
   ]
  },
  {
   "cell_type": "code",
   "execution_count": 6,
   "metadata": {},
   "outputs": [
    {
     "output_type": "execute_result",
     "data": {
      "text/plain": [
       "                    Unnamed: 0     id  no_alle  no_activity  no_reise  no_bi  \\\n",
       "Praha                      417  421.0    397.0        170.0     174.0   44.0   \n",
       "Wien                       628  632.0    266.0        115.0     123.0   20.0   \n",
       "Brno                        43   44.0    104.0         42.0      48.0   10.0   \n",
       "Písek                      393  396.0     28.0         13.0      13.0    1.0   \n",
       "Krems an der Donau         228  229.0     72.0         30.0      30.0    5.0   \n",
       "...                        ...    ...      ...          ...       ...    ...   \n",
       "Marchegg                   279  280.0      7.0          2.0       2.0    2.0   \n",
       "Mariazell                  281  282.0      5.0          2.0       2.0    0.0   \n",
       "Seitenstetten              494  498.0      5.0          1.0       1.0    3.0   \n",
       "Friesach                   112  113.0     11.0          4.0       4.0    2.0   \n",
       "Čáslav                      51   52.0      5.0          1.0       1.0    2.0   \n",
       "\n",
       "                    no_gg      x      y  prazision  ... infl_reg_p4  \\\n",
       "Praha                 9.0  50.09  14.41        1.0  ...    1.000000   \n",
       "Wien                  8.0  48.22  16.39        1.0  ...    0.655172   \n",
       "Brno                  4.0  49.19  16.61        1.0  ...    0.551724   \n",
       "Písek                 1.0  49.31  14.15        1.0  ...    0.206897   \n",
       "Krems an der Donau    7.0  48.41  15.62        1.0  ...    0.068966   \n",
       "...                   ...    ...    ...        ...  ...         ...   \n",
       "Marchegg              1.0  48.26  16.89        1.0  ...    0.000000   \n",
       "Mariazell             1.0  47.77  15.32        1.0  ...    0.000000   \n",
       "Seitenstetten         0.0  48.04  14.65        1.0  ...    0.000000   \n",
       "Friesach              1.0  46.98  14.33        1.0  ...    0.034483   \n",
       "Čáslav                1.0  49.91  15.39        1.0  ...    0.000000   \n",
       "\n",
       "                   infl_reg_p5  infl_reg infl_sum_p1 infl_sum_p2 infl_sum_p3  \\\n",
       "Praha                 1.000000  1.000000         NaN       1.000    1.000000   \n",
       "Wien                  0.000000  0.714286         1.0       1.000    0.418919   \n",
       "Brno                  0.454545  0.595238         NaN       0.325    0.135135   \n",
       "Písek                 0.000000  0.404762         NaN       0.100    0.162162   \n",
       "Krems an der Donau    0.000000  0.166667         1.0       0.425         NaN   \n",
       "...                        ...       ...         ...         ...         ...   \n",
       "Marchegg              0.000000  0.000000         NaN         NaN         NaN   \n",
       "Mariazell             0.000000  0.000000         NaN         NaN         NaN   \n",
       "Seitenstetten         0.000000  0.023810         NaN       0.000         NaN   \n",
       "Friesach              0.000000  0.023810         NaN         NaN         NaN   \n",
       "Čáslav                0.000000  0.000000         NaN         NaN         NaN   \n",
       "\n",
       "                    infl_sum_p4  infl_sum_p5  infl_sum    median  \n",
       "Praha                  1.000000     1.000000  1.000000  1.000000  \n",
       "Wien                   0.864865          NaN  0.735577  0.688986  \n",
       "Brno                   0.418919     0.411765  0.307692  0.377510  \n",
       "Písek                  0.094595          NaN  0.120192  0.281695  \n",
       "Krems an der Donau     0.027027          NaN  0.173077  0.253944  \n",
       "...                         ...          ...       ...       ...  \n",
       "Marchegg                    NaN          NaN       NaN  0.001032  \n",
       "Mariazell                   NaN          NaN       NaN  0.000392  \n",
       "Seitenstetten               NaN          NaN  0.000000  0.000000  \n",
       "Friesach               0.000000          NaN  0.000000  0.000000  \n",
       "Čáslav                      NaN          NaN       NaN  0.000000  \n",
       "\n",
       "[79 rows x 89 columns]"
      ],
      "text/html": "<div>\n<style scoped>\n    .dataframe tbody tr th:only-of-type {\n        vertical-align: middle;\n    }\n\n    .dataframe tbody tr th {\n        vertical-align: top;\n    }\n\n    .dataframe thead th {\n        text-align: right;\n    }\n</style>\n<table border=\"1\" class=\"dataframe\">\n  <thead>\n    <tr style=\"text-align: right;\">\n      <th></th>\n      <th>Unnamed: 0</th>\n      <th>id</th>\n      <th>no_alle</th>\n      <th>no_activity</th>\n      <th>no_reise</th>\n      <th>no_bi</th>\n      <th>no_gg</th>\n      <th>x</th>\n      <th>y</th>\n      <th>prazision</th>\n      <th>...</th>\n      <th>infl_reg_p4</th>\n      <th>infl_reg_p5</th>\n      <th>infl_reg</th>\n      <th>infl_sum_p1</th>\n      <th>infl_sum_p2</th>\n      <th>infl_sum_p3</th>\n      <th>infl_sum_p4</th>\n      <th>infl_sum_p5</th>\n      <th>infl_sum</th>\n      <th>median</th>\n    </tr>\n  </thead>\n  <tbody>\n    <tr>\n      <th>Praha</th>\n      <td>417</td>\n      <td>421.0</td>\n      <td>397.0</td>\n      <td>170.0</td>\n      <td>174.0</td>\n      <td>44.0</td>\n      <td>9.0</td>\n      <td>50.09</td>\n      <td>14.41</td>\n      <td>1.0</td>\n      <td>...</td>\n      <td>1.000000</td>\n      <td>1.000000</td>\n      <td>1.000000</td>\n      <td>NaN</td>\n      <td>1.000</td>\n      <td>1.000000</td>\n      <td>1.000000</td>\n      <td>1.000000</td>\n      <td>1.000000</td>\n      <td>1.000000</td>\n    </tr>\n    <tr>\n      <th>Wien</th>\n      <td>628</td>\n      <td>632.0</td>\n      <td>266.0</td>\n      <td>115.0</td>\n      <td>123.0</td>\n      <td>20.0</td>\n      <td>8.0</td>\n      <td>48.22</td>\n      <td>16.39</td>\n      <td>1.0</td>\n      <td>...</td>\n      <td>0.655172</td>\n      <td>0.000000</td>\n      <td>0.714286</td>\n      <td>1.0</td>\n      <td>1.000</td>\n      <td>0.418919</td>\n      <td>0.864865</td>\n      <td>NaN</td>\n      <td>0.735577</td>\n      <td>0.688986</td>\n    </tr>\n    <tr>\n      <th>Brno</th>\n      <td>43</td>\n      <td>44.0</td>\n      <td>104.0</td>\n      <td>42.0</td>\n      <td>48.0</td>\n      <td>10.0</td>\n      <td>4.0</td>\n      <td>49.19</td>\n      <td>16.61</td>\n      <td>1.0</td>\n      <td>...</td>\n      <td>0.551724</td>\n      <td>0.454545</td>\n      <td>0.595238</td>\n      <td>NaN</td>\n      <td>0.325</td>\n      <td>0.135135</td>\n      <td>0.418919</td>\n      <td>0.411765</td>\n      <td>0.307692</td>\n      <td>0.377510</td>\n    </tr>\n    <tr>\n      <th>Písek</th>\n      <td>393</td>\n      <td>396.0</td>\n      <td>28.0</td>\n      <td>13.0</td>\n      <td>13.0</td>\n      <td>1.0</td>\n      <td>1.0</td>\n      <td>49.31</td>\n      <td>14.15</td>\n      <td>1.0</td>\n      <td>...</td>\n      <td>0.206897</td>\n      <td>0.000000</td>\n      <td>0.404762</td>\n      <td>NaN</td>\n      <td>0.100</td>\n      <td>0.162162</td>\n      <td>0.094595</td>\n      <td>NaN</td>\n      <td>0.120192</td>\n      <td>0.281695</td>\n    </tr>\n    <tr>\n      <th>Krems an der Donau</th>\n      <td>228</td>\n      <td>229.0</td>\n      <td>72.0</td>\n      <td>30.0</td>\n      <td>30.0</td>\n      <td>5.0</td>\n      <td>7.0</td>\n      <td>48.41</td>\n      <td>15.62</td>\n      <td>1.0</td>\n      <td>...</td>\n      <td>0.068966</td>\n      <td>0.000000</td>\n      <td>0.166667</td>\n      <td>1.0</td>\n      <td>0.425</td>\n      <td>NaN</td>\n      <td>0.027027</td>\n      <td>NaN</td>\n      <td>0.173077</td>\n      <td>0.253944</td>\n    </tr>\n    <tr>\n      <th>...</th>\n      <td>...</td>\n      <td>...</td>\n      <td>...</td>\n      <td>...</td>\n      <td>...</td>\n      <td>...</td>\n      <td>...</td>\n      <td>...</td>\n      <td>...</td>\n      <td>...</td>\n      <td>...</td>\n      <td>...</td>\n      <td>...</td>\n      <td>...</td>\n      <td>...</td>\n      <td>...</td>\n      <td>...</td>\n      <td>...</td>\n      <td>...</td>\n      <td>...</td>\n      <td>...</td>\n    </tr>\n    <tr>\n      <th>Marchegg</th>\n      <td>279</td>\n      <td>280.0</td>\n      <td>7.0</td>\n      <td>2.0</td>\n      <td>2.0</td>\n      <td>2.0</td>\n      <td>1.0</td>\n      <td>48.26</td>\n      <td>16.89</td>\n      <td>1.0</td>\n      <td>...</td>\n      <td>0.000000</td>\n      <td>0.000000</td>\n      <td>0.000000</td>\n      <td>NaN</td>\n      <td>NaN</td>\n      <td>NaN</td>\n      <td>NaN</td>\n      <td>NaN</td>\n      <td>NaN</td>\n      <td>0.001032</td>\n    </tr>\n    <tr>\n      <th>Mariazell</th>\n      <td>281</td>\n      <td>282.0</td>\n      <td>5.0</td>\n      <td>2.0</td>\n      <td>2.0</td>\n      <td>0.0</td>\n      <td>1.0</td>\n      <td>47.77</td>\n      <td>15.32</td>\n      <td>1.0</td>\n      <td>...</td>\n      <td>0.000000</td>\n      <td>0.000000</td>\n      <td>0.000000</td>\n      <td>NaN</td>\n      <td>NaN</td>\n      <td>NaN</td>\n      <td>NaN</td>\n      <td>NaN</td>\n      <td>NaN</td>\n      <td>0.000392</td>\n    </tr>\n    <tr>\n      <th>Seitenstetten</th>\n      <td>494</td>\n      <td>498.0</td>\n      <td>5.0</td>\n      <td>1.0</td>\n      <td>1.0</td>\n      <td>3.0</td>\n      <td>0.0</td>\n      <td>48.04</td>\n      <td>14.65</td>\n      <td>1.0</td>\n      <td>...</td>\n      <td>0.000000</td>\n      <td>0.000000</td>\n      <td>0.023810</td>\n      <td>NaN</td>\n      <td>0.000</td>\n      <td>NaN</td>\n      <td>NaN</td>\n      <td>NaN</td>\n      <td>0.000000</td>\n      <td>0.000000</td>\n    </tr>\n    <tr>\n      <th>Friesach</th>\n      <td>112</td>\n      <td>113.0</td>\n      <td>11.0</td>\n      <td>4.0</td>\n      <td>4.0</td>\n      <td>2.0</td>\n      <td>1.0</td>\n      <td>46.98</td>\n      <td>14.33</td>\n      <td>1.0</td>\n      <td>...</td>\n      <td>0.034483</td>\n      <td>0.000000</td>\n      <td>0.023810</td>\n      <td>NaN</td>\n      <td>NaN</td>\n      <td>NaN</td>\n      <td>0.000000</td>\n      <td>NaN</td>\n      <td>0.000000</td>\n      <td>0.000000</td>\n    </tr>\n    <tr>\n      <th>Čáslav</th>\n      <td>51</td>\n      <td>52.0</td>\n      <td>5.0</td>\n      <td>1.0</td>\n      <td>1.0</td>\n      <td>2.0</td>\n      <td>1.0</td>\n      <td>49.91</td>\n      <td>15.39</td>\n      <td>1.0</td>\n      <td>...</td>\n      <td>0.000000</td>\n      <td>0.000000</td>\n      <td>0.000000</td>\n      <td>NaN</td>\n      <td>NaN</td>\n      <td>NaN</td>\n      <td>NaN</td>\n      <td>NaN</td>\n      <td>NaN</td>\n      <td>0.000000</td>\n    </tr>\n  </tbody>\n</table>\n<p>79 rows × 89 columns</p>\n</div>"
     },
     "metadata": {},
     "execution_count": 6
    }
   ],
   "source": [
    "df['median'] = df.apply(\n",
    "    lambda x: x[metrics].median(),\n",
    "    axis=1\n",
    ")\n",
    "df.sort_values('median', ascending=False)"
   ]
  },
  {
   "cell_type": "code",
   "execution_count": 7,
   "metadata": {},
   "outputs": [
    {
     "output_type": "execute_result",
     "data": {
      "text/plain": [
       "act_sum           1\n",
       "day_sum           1\n",
       "stay_avg          4\n",
       "stay_sum          1\n",
       "travel            1\n",
       "centr_closes      5\n",
       "centr_between     1\n",
       "centr_eigen       1\n",
       "centr_infos       1\n",
       "infl_dist        22\n",
       "infl_reg          1\n",
       "infl_sum          1\n",
       "Name: Praha, dtype: int64"
      ]
     },
     "metadata": {},
     "execution_count": 7
    }
   ],
   "source": [
    "# get order for each metric\n",
    "\n",
    "df_matrices_order = pd.DataFrame(index=df.index)\n",
    "\n",
    "for metric in metrics:\n",
    "    df_copy = df.copy()\n",
    "    df_copy.sort_values(metric, inplace=True, ascending=False)\n",
    "    df_copy.reset_index(inplace=True)\n",
    "    df_copy['rank'] = df_copy.index.values\n",
    "    df_copy.set_index('index', inplace=True)\n",
    "    df_matrices_order[metric] = df_copy[['rank']] + 1\n",
    "\n",
    "df_matrices_order.loc['Praha']"
   ]
  },
  {
   "cell_type": "code",
   "execution_count": 38,
   "metadata": {},
   "outputs": [
    {
     "output_type": "execute_result",
     "data": {
      "text/html": "\n<div id=\"altair-viz-249370f0ea8d47818ce50d55c7c9f10d\"></div>\n<script type=\"text/javascript\">\n  (function(spec, embedOpt){\n    let outputDiv = document.currentScript.previousElementSibling;\n    if (outputDiv.id !== \"altair-viz-249370f0ea8d47818ce50d55c7c9f10d\") {\n      outputDiv = document.getElementById(\"altair-viz-249370f0ea8d47818ce50d55c7c9f10d\");\n    }\n    const paths = {\n      \"vega\": \"https://cdn.jsdelivr.net/npm//vega@5?noext\",\n      \"vega-lib\": \"https://cdn.jsdelivr.net/npm//vega-lib?noext\",\n      \"vega-lite\": \"https://cdn.jsdelivr.net/npm//vega-lite@4.8.1?noext\",\n      \"vega-embed\": \"https://cdn.jsdelivr.net/npm//vega-embed@6?noext\",\n    };\n\n    function loadScript(lib) {\n      return new Promise(function(resolve, reject) {\n        var s = document.createElement('script');\n        s.src = paths[lib];\n        s.async = true;\n        s.onload = () => resolve(paths[lib]);\n        s.onerror = () => reject(`Error loading script: ${paths[lib]}`);\n        document.getElementsByTagName(\"head\")[0].appendChild(s);\n      });\n    }\n\n    function showError(err) {\n      outputDiv.innerHTML = `<div class=\"error\" style=\"color:red;\">${err}</div>`;\n      throw err;\n    }\n\n    function displayChart(vegaEmbed) {\n      vegaEmbed(outputDiv, spec, embedOpt)\n        .catch(err => showError(`Javascript Error: ${err.message}<br>This usually means there's a typo in your chart specification. See the javascript console for the full traceback.`));\n    }\n\n    if(typeof define === \"function\" && define.amd) {\n      requirejs.config({paths});\n      require([\"vega-embed\"], displayChart, err => showError(`Error loading script: ${err.message}`));\n    } else if (typeof vegaEmbed === \"function\") {\n      displayChart(vegaEmbed);\n    } else {\n      loadScript(\"vega\")\n        .then(() => loadScript(\"vega-lite\"))\n        .then(() => loadScript(\"vega-embed\"))\n        .catch(showError)\n        .then(() => displayChart(vegaEmbed));\n    }\n  })({\"config\": {\"view\": {\"continuousWidth\": 400, \"continuousHeight\": 300}}, \"layer\": [{\"mark\": {\"type\": \"line\", \"clip\": true}, \"encoding\": {\"color\": {\"type\": \"nominal\", \"field\": \"name\", \"legend\": null}, \"x\": {\"type\": \"nominal\", \"axis\": {\"title\": \"metrics\"}, \"field\": \"key\", \"sort\": [\"act_sum\", \"day_sum\", \"stay_avg\", \"stay_sum\", \"travel\", \"centr_closes\", \"centr_between\", \"centr_eigen\", \"centr_infos\", \"infl_dist\", \"infl_reg\", \"infl_sum\"]}, \"y\": {\"type\": \"quantitative\", \"axis\": {\"format\": \".0f\", \"title\": \"rank\", \"values\": [1, 2, 3, 4, 5, 6, 7, 8, 9]}, \"field\": \"value\", \"scale\": {\"domain\": [10.5, 0.5], \"zero\": false}}}, \"height\": 600, \"transform\": [{\"window\": [{\"op\": \"count\", \"as\": \"index\"}]}, {\"fold\": [\"act_sum\", \"day_sum\", \"stay_avg\", \"stay_sum\", \"travel\", \"centr_closes\", \"centr_between\", \"centr_eigen\", \"centr_infos\", \"infl_dist\", \"infl_reg\", \"infl_sum\"]}], \"width\": 1000}, {\"mark\": {\"type\": \"circle\", \"clip\": true, \"size\": 100}, \"encoding\": {\"color\": {\"type\": \"nominal\", \"field\": \"name\", \"legend\": null}, \"x\": {\"type\": \"nominal\", \"axis\": {\"title\": \"metrics\"}, \"field\": \"key\", \"sort\": [\"act_sum\", \"day_sum\", \"stay_avg\", \"stay_sum\", \"travel\", \"centr_closes\", \"centr_between\", \"centr_eigen\", \"centr_infos\", \"infl_dist\", \"infl_reg\", \"infl_sum\"]}, \"y\": {\"type\": \"quantitative\", \"axis\": {\"format\": \".0f\", \"title\": \"rank\", \"values\": [1, 2, 3, 4, 5, 6, 7, 8, 9]}, \"field\": \"value\", \"scale\": {\"domain\": [10.5, 0.5], \"zero\": false}}}, \"height\": 600, \"transform\": [{\"window\": [{\"op\": \"count\", \"as\": \"index\"}]}, {\"fold\": [\"act_sum\", \"day_sum\", \"stay_avg\", \"stay_sum\", \"travel\", \"centr_closes\", \"centr_between\", \"centr_eigen\", \"centr_infos\", \"infl_dist\", \"infl_reg\", \"infl_sum\"]}], \"width\": 1000}, {\"mark\": {\"type\": \"text\", \"align\": \"center\", \"baseline\": \"middle\", \"clip\": true, \"dy\": -10, \"fill\": \"black\"}, \"encoding\": {\"color\": {\"type\": \"nominal\", \"field\": \"name\", \"legend\": null}, \"text\": {\"type\": \"nominal\", \"field\": \"name\"}, \"x\": {\"type\": \"nominal\", \"axis\": {\"title\": \"metrics\"}, \"field\": \"key\", \"sort\": [\"act_sum\", \"day_sum\", \"stay_avg\", \"stay_sum\", \"travel\", \"centr_closes\", \"centr_between\", \"centr_eigen\", \"centr_infos\", \"infl_dist\", \"infl_reg\", \"infl_sum\"]}, \"y\": {\"type\": \"quantitative\", \"axis\": {\"format\": \".0f\", \"title\": \"rank\", \"values\": [1, 2, 3, 4, 5, 6, 7, 8, 9]}, \"field\": \"value\", \"scale\": {\"domain\": [10.5, 0.5], \"zero\": false}}}, \"height\": 600, \"transform\": [{\"window\": [{\"op\": \"count\", \"as\": \"index\"}]}, {\"fold\": [\"act_sum\", \"day_sum\", \"stay_avg\", \"stay_sum\", \"travel\", \"centr_closes\", \"centr_between\", \"centr_eigen\", \"centr_infos\", \"infl_dist\", \"infl_reg\", \"infl_sum\"]}], \"width\": 1000}], \"data\": {\"name\": \"data-18f59602f5d43185d86025e55f8788f0\"}, \"$schema\": \"https://vega.github.io/schema/vega-lite/v4.8.1.json\", \"datasets\": {\"data-18f59602f5d43185d86025e55f8788f0\": [{\"act_sum\": 3, \"day_sum\": 3, \"stay_avg\": 24, \"stay_sum\": 3, \"travel\": 3, \"centr_closes\": 4, \"centr_between\": 5, \"centr_eigen\": 3, \"centr_infos\": 3, \"infl_dist\": 28, \"infl_reg\": 3, \"infl_sum\": 3, \"name\": \"Brno\"}, {\"act_sum\": 25, \"day_sum\": 11, \"stay_avg\": 5, \"stay_sum\": 24, \"travel\": 27, \"centr_closes\": 20, \"centr_between\": 23, \"centr_eigen\": 18, \"centr_infos\": 23, \"infl_dist\": 37, \"infl_reg\": 40, \"infl_sum\": 31, \"name\": \"Budyn\\u011b nad Oh\\u0159\\u00ed\"}, {\"act_sum\": 60, \"day_sum\": 44, \"stay_avg\": 31, \"stay_sum\": 57, \"travel\": 14, \"centr_closes\": 64, \"centr_between\": 10, \"centr_eigen\": 35, \"centr_infos\": 35, \"infl_dist\": 69, \"infl_reg\": 59, \"infl_sum\": 68, \"name\": \"Cheb\"}, {\"act_sum\": 64, \"day_sum\": 28, \"stay_avg\": 7, \"stay_sum\": 61, \"travel\": 42, \"centr_closes\": 66, \"centr_between\": 70, \"centr_eigen\": 40, \"centr_infos\": 53, \"infl_dist\": 11, \"infl_reg\": 62, \"infl_sum\": 65, \"name\": \"Eggenburg\"}, {\"act_sum\": 6, \"day_sum\": 16, \"stay_avg\": 40, \"stay_sum\": 9, \"travel\": 5, \"centr_closes\": 61, \"centr_between\": 43, \"centr_eigen\": 10, \"centr_infos\": 8, \"infl_dist\": 44, \"infl_reg\": 6, \"infl_sum\": 6, \"name\": \"Graz\"}, {\"act_sum\": 31, \"day_sum\": 21, \"stay_avg\": 15, \"stay_sum\": 29, \"travel\": 9, \"centr_closes\": 60, \"centr_between\": 42, \"centr_eigen\": 39, \"centr_infos\": 25, \"infl_dist\": 10, \"infl_reg\": 41, \"infl_sum\": 36, \"name\": \"G\\u0142ubczyce\"}, {\"act_sum\": 23, \"day_sum\": 7, \"stay_avg\": 3, \"stay_sum\": 20, \"travel\": 10, \"centr_closes\": 44, \"centr_between\": 36, \"centr_eigen\": 24, \"centr_infos\": 21, \"infl_dist\": 54, \"infl_reg\": 25, \"infl_sum\": 19, \"name\": \"Hradec Kr\\u00e1lov\\u00e9\"}, {\"act_sum\": 30, \"day_sum\": 40, \"stay_avg\": 48, \"stay_sum\": 34, \"travel\": 26, \"centr_closes\": 52, \"centr_between\": 64, \"centr_eigen\": 64, \"centr_infos\": 63, \"infl_dist\": 2, \"infl_reg\": 67, \"infl_sum\": 37, \"name\": \"Hradec nad Moravic\\u00ed\"}, {\"act_sum\": 69, \"day_sum\": 59, \"stay_avg\": 57, \"stay_sum\": 54, \"travel\": 67, \"centr_closes\": 10, \"centr_between\": 31, \"centr_eigen\": 27, \"centr_infos\": 29, \"infl_dist\": 46, \"infl_reg\": 23, \"infl_sum\": 41, \"name\": \"Jarom\\u011b\\u0159ice nad Rokytkou\"}, {\"act_sum\": 16, \"day_sum\": 24, \"stay_avg\": 51, \"stay_sum\": 11, \"travel\": 34, \"centr_closes\": 18, \"centr_between\": 73, \"centr_eigen\": 7, \"centr_infos\": 11, \"infl_dist\": 33, \"infl_reg\": 13, \"infl_sum\": 17, \"name\": \"Jihlava\"}, {\"act_sum\": 70, \"day_sum\": 60, \"stay_avg\": 58, \"stay_sum\": 66, \"travel\": 69, \"centr_closes\": 49, \"centr_between\": 62, \"centr_eigen\": 56, \"centr_infos\": 46, \"infl_dist\": 3, \"infl_reg\": 75, \"infl_sum\": 63, \"name\": \"Jind\\u0159ich\\u016fv Hradec\"}, {\"act_sum\": 27, \"day_sum\": 33, \"stay_avg\": 35, \"stay_sum\": 30, \"travel\": 60, \"centr_closes\": 21, \"centr_between\": 7, \"centr_eigen\": 23, \"centr_infos\": 26, \"infl_dist\": 5, \"infl_reg\": 9, \"infl_sum\": 20, \"name\": \"Kam\\u00fdk nad Vltavou\"}, {\"act_sum\": 12, \"day_sum\": 36, \"stay_avg\": 42, \"stay_sum\": 25, \"travel\": 55, \"centr_closes\": 2, \"centr_between\": 29, \"centr_eigen\": 41, \"centr_infos\": 34, \"infl_dist\": 9, \"infl_reg\": 7, \"infl_sum\": 10, \"name\": \"Korneuburg\"}, {\"act_sum\": 40, \"day_sum\": 62, \"stay_avg\": 67, \"stay_sum\": 27, \"travel\": 11, \"centr_closes\": 74, \"centr_between\": 6, \"centr_eigen\": 43, \"centr_infos\": 45, \"infl_dist\": 68, \"infl_reg\": 63, \"infl_sum\": 50, \"name\": \"Kostanjevica na Krki\"}, {\"act_sum\": 4, \"day_sum\": 4, \"stay_avg\": 16, \"stay_sum\": 4, \"travel\": 6, \"centr_closes\": 7, \"centr_between\": 3, \"centr_eigen\": 6, \"centr_infos\": 4, \"infl_dist\": 25, \"infl_reg\": 8, \"infl_sum\": 5, \"name\": \"Krems an der Donau\"}, {\"act_sum\": 19, \"day_sum\": 22, \"stay_avg\": 49, \"stay_sum\": 13, \"travel\": 41, \"centr_closes\": 29, \"centr_between\": 27, \"centr_eigen\": 8, \"centr_infos\": 12, \"infl_dist\": 41, \"infl_reg\": 15, \"infl_sum\": 18, \"name\": \"K\\u0159ivokl\\u00e1t\"}, {\"act_sum\": 9, \"day_sum\": 19, \"stay_avg\": 41, \"stay_sum\": 14, \"travel\": 44, \"centr_closes\": 6, \"centr_between\": 8, \"centr_eigen\": 19, \"centr_infos\": 17, \"infl_dist\": 34, \"infl_reg\": 12, \"infl_sum\": 21, \"name\": \"Laa an der Thaya\"}, {\"act_sum\": 22, \"day_sum\": 27, \"stay_avg\": 39, \"stay_sum\": 19, \"travel\": 35, \"centr_closes\": 22, \"centr_between\": 4, \"centr_eigen\": 49, \"centr_infos\": 30, \"infl_dist\": 67, \"infl_reg\": 61, \"infl_sum\": 59, \"name\": \"Lilienfeld\"}, {\"act_sum\": 7, \"day_sum\": 6, \"stay_avg\": 17, \"stay_sum\": 7, \"travel\": 4, \"centr_closes\": 43, \"centr_between\": 20, \"centr_eigen\": 14, \"centr_infos\": 7, \"infl_dist\": 50, \"infl_reg\": 11, \"infl_sum\": 8, \"name\": \"Linz\"}, {\"act_sum\": 73, \"day_sum\": 20, \"stay_avg\": 2, \"stay_sum\": 73, \"travel\": 37, \"centr_closes\": 25, \"centr_between\": 38, \"centr_eigen\": 57, \"centr_infos\": 50, \"infl_dist\": 76, \"infl_reg\": 76, \"infl_sum\": 76, \"name\": \"Mailberg\"}, {\"act_sum\": 11, \"day_sum\": 8, \"stay_avg\": 12, \"stay_sum\": 10, \"travel\": 8, \"centr_closes\": 28, \"centr_between\": 57, \"centr_eigen\": 11, \"centr_infos\": 10, \"infl_dist\": 55, \"infl_reg\": 16, \"infl_sum\": 9, \"name\": \"Olomouc\"}, {\"act_sum\": 18, \"day_sum\": 25, \"stay_avg\": 43, \"stay_sum\": 16, \"travel\": 12, \"centr_closes\": 50, \"centr_between\": 9, \"centr_eigen\": 17, \"centr_infos\": 16, \"infl_dist\": 57, \"infl_reg\": 33, \"infl_sum\": 25, \"name\": \"Opava\"}, {\"act_sum\": 24, \"day_sum\": 13, \"stay_avg\": 1, \"stay_sum\": 26, \"travel\": 17, \"centr_closes\": 48, \"centr_between\": 41, \"centr_eigen\": 36, \"centr_infos\": 32, \"infl_dist\": 35, \"infl_reg\": 20, \"infl_sum\": 15, \"name\": \"Plasy\"}, {\"act_sum\": 10, \"day_sum\": 10, \"stay_avg\": 27, \"stay_sum\": 8, \"travel\": 24, \"centr_closes\": 13, \"centr_between\": 17, \"centr_eigen\": 9, \"centr_infos\": 9, \"infl_dist\": 24, \"infl_reg\": 10, \"infl_sum\": 13, \"name\": \"Pod\\u011bbrady\"}, {\"act_sum\": 1, \"day_sum\": 1, \"stay_avg\": 4, \"stay_sum\": 1, \"travel\": 1, \"centr_closes\": 5, \"centr_between\": 1, \"centr_eigen\": 1, \"centr_infos\": 1, \"infl_dist\": 22, \"infl_reg\": 1, \"infl_sum\": 1, \"name\": \"Praha\"}, {\"act_sum\": 8, \"day_sum\": 5, \"stay_avg\": 8, \"stay_sum\": 5, \"travel\": 13, \"centr_closes\": 27, \"centr_between\": 37, \"centr_eigen\": 4, \"centr_infos\": 6, \"infl_dist\": 16, \"infl_reg\": 5, \"infl_sum\": 7, \"name\": \"P\\u00edsek\"}, {\"act_sum\": 46, \"day_sum\": 54, \"stay_avg\": 44, \"stay_sum\": 40, \"travel\": 62, \"centr_closes\": 9, \"centr_between\": 59, \"centr_eigen\": 58, \"centr_infos\": 47, \"infl_dist\": 59, \"infl_reg\": 49, \"infl_sum\": 61, \"name\": \"P\\u0159i\\u0161tpo\"}, {\"act_sum\": 26, \"day_sum\": 12, \"stay_avg\": 6, \"stay_sum\": 18, \"travel\": 30, \"centr_closes\": 17, \"centr_between\": 53, \"centr_eigen\": 12, \"centr_infos\": 18, \"infl_dist\": 6, \"infl_reg\": 27, \"infl_sum\": 29, \"name\": \"Sadsk\\u00e1\"}, {\"act_sum\": 44, \"day_sum\": 64, \"stay_avg\": 63, \"stay_sum\": 51, \"travel\": 65, \"centr_closes\": 56, \"centr_between\": 52, \"centr_eigen\": 47, \"centr_infos\": 61, \"infl_dist\": 1, \"infl_reg\": 72, \"infl_sum\": 58, \"name\": \"Uni\\u010dov\"}, {\"act_sum\": 41, \"day_sum\": 30, \"stay_avg\": 32, \"stay_sum\": 32, \"travel\": 28, \"centr_closes\": 40, \"centr_between\": 21, \"centr_eigen\": 28, \"centr_infos\": 36, \"infl_dist\": 8, \"infl_reg\": 14, \"infl_sum\": 11, \"name\": \"Velehrad\"}, {\"act_sum\": 52, \"day_sum\": 43, \"stay_avg\": 29, \"stay_sum\": 48, \"travel\": 57, \"centr_closes\": 36, \"centr_between\": 74, \"centr_eigen\": 50, \"centr_infos\": 48, \"infl_dist\": 7, \"infl_reg\": 39, \"infl_sum\": 30, \"name\": \"Veve\\u0159\\u00ed\"}, {\"act_sum\": 34, \"day_sum\": 29, \"stay_avg\": 10, \"stay_sum\": 39, \"travel\": 39, \"centr_closes\": 67, \"centr_between\": 67, \"centr_eigen\": 59, \"centr_infos\": 54, \"infl_dist\": 19, \"infl_reg\": 34, \"infl_sum\": 47, \"name\": \"Vy\\u0161kov\"}, {\"act_sum\": 17, \"day_sum\": 14, \"stay_avg\": 9, \"stay_sum\": 22, \"travel\": 7, \"centr_closes\": 53, \"centr_between\": 22, \"centr_eigen\": 29, \"centr_infos\": 22, \"infl_dist\": 62, \"infl_reg\": 45, \"infl_sum\": 22, \"name\": \"Wels\"}, {\"act_sum\": 2, \"day_sum\": 2, \"stay_avg\": 25, \"stay_sum\": 2, \"travel\": 2, \"centr_closes\": 1, \"centr_between\": 2, \"centr_eigen\": 2, \"centr_infos\": 2, \"infl_dist\": 27, \"infl_reg\": 2, \"infl_sum\": 2, \"name\": \"Wien\"}, {\"act_sum\": 29, \"day_sum\": 18, \"stay_avg\": 30, \"stay_sum\": 23, \"travel\": 49, \"centr_closes\": 8, \"centr_between\": 18, \"centr_eigen\": 21, \"centr_infos\": 19, \"infl_dist\": 4, \"infl_reg\": 21, \"infl_sum\": 23, \"name\": \"Zbraslav\"}, {\"act_sum\": 5, \"day_sum\": 9, \"stay_avg\": 34, \"stay_sum\": 6, \"travel\": 23, \"centr_closes\": 3, \"centr_between\": 11, \"centr_eigen\": 5, \"centr_infos\": 5, \"infl_dist\": 20, \"infl_reg\": 4, \"infl_sum\": 4, \"name\": \"Znojmo\"}]}}, {\"padding\": {\"left\": 5, \"right\": 10, \"bottom\": 5, \"top\": 10}, \"mode\": \"vega-lite\"});\n</script>",
      "text/plain": [
       "alt.LayerChart(...)"
      ]
     },
     "metadata": {},
     "execution_count": 38
    }
   ],
   "source": [
    "import altair as alt\n",
    "\n",
    "max_rank = 10\n",
    "\n",
    "# get list of important places\n",
    "imp_places = []\n",
    "for metric in metrics:\n",
    "    imp_places_m = df_matrices_order[df_matrices_order[metric] <= max_rank].index\n",
    "    imp_places.extend(imp_places_m)\n",
    "\n",
    "imp_places = np.unique(np.array(imp_places))\n",
    "\n",
    "\n",
    "imp_places = df_matrices_order.loc[imp_places]\n",
    "imp_places['name'] = imp_places.index\n",
    "\n",
    "alt.renderers.set_embed_options(\n",
    "    padding={\"left\": 5, \"right\": 10, \"bottom\": 5, \"top\": 10}\n",
    ")\n",
    "\n",
    "rank_chart = alt.Chart(imp_places).transform_window(\n",
    "    index='count()'\n",
    ").transform_fold(\n",
    "    metrics\n",
    ").properties(\n",
    "    width=1000,\n",
    "    height=600\n",
    ").encode(\n",
    "    color=alt.Color('name:N', legend=None),\n",
    "    x=alt.X(\n",
    "        'key:N',\n",
    "        axis=alt.Axis(title='metrics'),\n",
    "        sort=metrics\n",
    "    ),\n",
    "    y=alt.Y(\n",
    "        'value:Q', \n",
    "        scale=alt.Scale(zero=False, domain=[max_rank + 0.5,0.5]),\n",
    "        axis=alt.Axis(values=[i for i in range(1, max_rank)], title='rank', format='.0f'),\n",
    "    ),\n",
    ")\n",
    "\n",
    "lines = rank_chart.mark_line(\n",
    "    clip=True\n",
    ")\n",
    "\n",
    "circles = rank_chart.mark_circle(\n",
    "    clip=True,\n",
    "    size=100\n",
    ")\n",
    "\n",
    "labels = rank_chart.mark_text(\n",
    "    clip=True,\n",
    "    align='center',\n",
    "    baseline='middle',\n",
    "    fill='black',\n",
    "    dy=-10 \n",
    ").encode(\n",
    "    text='name:N'\n",
    ")\n",
    "\n",
    "lines + circles + labels"
   ]
  }
 ]
}