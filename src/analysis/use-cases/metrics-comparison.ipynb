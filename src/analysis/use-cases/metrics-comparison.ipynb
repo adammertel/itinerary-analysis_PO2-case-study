{
 "metadata": {
  "language_info": {
   "codemirror_mode": {
    "name": "ipython",
    "version": 3
   },
   "file_extension": ".py",
   "mimetype": "text/x-python",
   "name": "python",
   "nbconvert_exporter": "python",
   "pygments_lexer": "ipython3",
   "version": "3.8.2"
  },
  "orig_nbformat": 2,
  "kernelspec": {
   "name": "python38264bitpo2conda0cc6c94dcc774996989d8c0ab52f6b64",
   "display_name": "Python 3.8.2 64-bit ('po2': conda)"
  },
  "metadata": {
   "interpreter": {
    "hash": "82749e5b48c4d6085d7533a91d2fcb4730d08732f57a440b121b3ba77c8d61ee"
   }
  }
 },
 "nbformat": 4,
 "nbformat_minor": 2,
 "cells": [
  {
   "cell_type": "code",
   "execution_count": 7,
   "metadata": {},
   "outputs": [],
   "source": [
    "import pandas as pd\n",
    "import geopandas as gpd\n",
    "import numpy as np\n",
    "import shapely\n",
    "import pathlib\n",
    "import swifter\n",
    "import matplotlib.pyplot as plt\n",
    "\n",
    "from shapely import wkt\n",
    "from shapely.geometry import Point, Polygon, LineString, MultiPoint\n",
    "\n",
    "import geojson\n",
    "import h3\n",
    "\n",
    "DIR_ROOT = os.path.join(pathlib.Path().absolute(), '../../..' )"
   ]
  },
  {
   "cell_type": "code",
   "execution_count": 8,
   "metadata": {},
   "outputs": [],
   "source": [
    "# list of all metrices used in the analysis\n",
    "metrics = [\n",
    "    #'act_day', \n",
    "    #'act_stay',\n",
    "    'act_sum',\n",
    "    'centr_closes',\n",
    "    'centr_eigen_w',\n",
    "    'centr_eigen',\n",
    "    'centr_infos',\n",
    "    'day_sum',\n",
    "    'infl_dist',\n",
    "    'infl_reg',\n",
    "    'infl_sum',\n",
    "    'stay_avg',\n",
    "    'stay_sum',\n",
    "    'travel'\n",
    "]"
   ]
  },
  {
   "cell_type": "code",
   "execution_count": 9,
   "metadata": {
    "tags": []
   },
   "outputs": [],
   "source": [
    "# merge all metrices with the list of destinations\n",
    "\n",
    "df = pd.read_csv(DIR_ROOT + '/data/02_processed/destinations.csv', index_col='name')\n",
    "\n",
    "for metric in metrics:\n",
    "    df_metric = pd.read_csv(DIR_ROOT + '/data/05_metrics/' + metric + '.csv', index_col=0)\n",
    "    df_metric.rename(columns={\n",
    "       'p1': metric + '_p1', \n",
    "       'p2': metric + '_p2',\n",
    "       'p3': metric + '_p3',\n",
    "       'p4': metric + '_p4',\n",
    "       'p5': metric + '_p5',\n",
    "       'pall': metric + '',\n",
    "    }, inplace=True)\n",
    "    df_metric.drop(columns=['geometry'], inplace=True) \n",
    "    df_metric = (df_metric - df_metric.min()) / (df_metric.max() - df_metric.min())\n",
    "\n",
    "    # merge to the table with all destinations\n",
    "    df = pd.concat([df, df_metric], axis=1, join=\"inner\")"
   ]
  },
  {
   "cell_type": "code",
   "execution_count": 10,
   "metadata": {},
   "outputs": [
    {
     "output_type": "execute_result",
     "data": {
      "text/plain": [
       "                      Unnamed: 0     id  no_alle  no_activity  no_reise  \\\n",
       "Praha                        417  421.0    397.0        170.0     174.0   \n",
       "Wien                         628  632.0    266.0        115.0     123.0   \n",
       "Brno                          43   44.0    104.0         42.0      48.0   \n",
       "Písek                        393  396.0     28.0         13.0      13.0   \n",
       "Znojmo                       663  667.0     59.0         27.0      27.0   \n",
       "...                          ...    ...      ...          ...       ...   \n",
       "Kravaře u České Lípy         227  228.0      3.0          1.0       1.0   \n",
       "Most                         311  313.0      6.0          1.0       1.0   \n",
       "Villach                      597  601.0      2.0          1.0       1.0   \n",
       "Friesach                     112  113.0     11.0          4.0       4.0   \n",
       "Seitenstetten                494  498.0      5.0          1.0       1.0   \n",
       "\n",
       "                      no_bi  no_gg      x      y  prazision  ... stay_sum_p4  \\\n",
       "Praha                  44.0    9.0  50.09  14.41        1.0  ...    1.000000   \n",
       "Wien                   20.0    8.0  48.22  16.39        1.0  ...    0.470588   \n",
       "Brno                   10.0    4.0  49.19  16.61        1.0  ...    0.529412   \n",
       "Písek                   1.0    1.0  49.31  14.15        1.0  ...    0.000000   \n",
       "Znojmo                  3.0    2.0  48.86  16.05        1.0  ...    0.117647   \n",
       "...                     ...    ...    ...    ...        ...  ...         ...   \n",
       "Kravaře u České Lípy    1.0    0.0  50.63  14.39        1.0  ...         NaN   \n",
       "Most                    2.0    2.0  50.50  13.64        1.0  ...         NaN   \n",
       "Villach                 0.0    0.0  46.61  13.86        1.0  ...    0.000000   \n",
       "Friesach                2.0    1.0  46.98  14.33        1.0  ...    0.000000   \n",
       "Seitenstetten           3.0    0.0  48.04  14.65        1.0  ...         NaN   \n",
       "\n",
       "                     stay_sum_p5  stay_sum travel_p1 travel_p2 travel_p3  \\\n",
       "Praha                   1.000000  1.000000       NaN  1.000000  1.000000   \n",
       "Wien                         NaN  0.568966  0.432624  0.857116  0.534321   \n",
       "Brno                    0.666667  0.344828  0.000000  0.293199  0.339593   \n",
       "Písek                        NaN  0.137931  0.000000  0.234425  0.471919   \n",
       "Znojmo                       NaN  0.137931  0.000000  0.073710  0.269838   \n",
       "...                          ...       ...       ...       ...       ...   \n",
       "Kravaře u České Lípy         NaN  0.000000       NaN  0.000000  0.011810   \n",
       "Most                         NaN  0.000000       NaN  0.000000  0.010906   \n",
       "Villach                      NaN  0.000000       NaN       NaN       NaN   \n",
       "Friesach                     NaN  0.000000       NaN       NaN  0.000000   \n",
       "Seitenstetten                NaN  0.000000  0.000000  0.000000  0.000000   \n",
       "\n",
       "                      travel_p4  travel_p5    travel        median  \n",
       "Praha                  1.000000   0.819536  1.000000  1.000000e+00  \n",
       "Wien                   0.572020   0.000000  0.663685  6.563460e-01  \n",
       "Brno                   0.960822   1.000000  0.654039  3.775099e-01  \n",
       "Písek                  0.105475   0.000000  0.285314  2.816955e-01  \n",
       "Znojmo                 0.175651   0.000000  0.155545  2.764230e-01  \n",
       "...                         ...        ...       ...           ...  \n",
       "Kravaře u České Lípy   0.000000   0.000000  0.004992  1.789343e-03  \n",
       "Most                   0.000000   0.000000  0.005027  1.093390e-03  \n",
       "Villach                0.212455        NaN  0.200914  5.434500e-08  \n",
       "Friesach               0.136599        NaN  0.085920  0.000000e+00  \n",
       "Seitenstetten          0.000000   0.000000  0.000000  0.000000e+00  \n",
       "\n",
       "[71 rows x 101 columns]"
      ],
      "text/html": "<div>\n<style scoped>\n    .dataframe tbody tr th:only-of-type {\n        vertical-align: middle;\n    }\n\n    .dataframe tbody tr th {\n        vertical-align: top;\n    }\n\n    .dataframe thead th {\n        text-align: right;\n    }\n</style>\n<table border=\"1\" class=\"dataframe\">\n  <thead>\n    <tr style=\"text-align: right;\">\n      <th></th>\n      <th>Unnamed: 0</th>\n      <th>id</th>\n      <th>no_alle</th>\n      <th>no_activity</th>\n      <th>no_reise</th>\n      <th>no_bi</th>\n      <th>no_gg</th>\n      <th>x</th>\n      <th>y</th>\n      <th>prazision</th>\n      <th>...</th>\n      <th>stay_sum_p4</th>\n      <th>stay_sum_p5</th>\n      <th>stay_sum</th>\n      <th>travel_p1</th>\n      <th>travel_p2</th>\n      <th>travel_p3</th>\n      <th>travel_p4</th>\n      <th>travel_p5</th>\n      <th>travel</th>\n      <th>median</th>\n    </tr>\n  </thead>\n  <tbody>\n    <tr>\n      <th>Praha</th>\n      <td>417</td>\n      <td>421.0</td>\n      <td>397.0</td>\n      <td>170.0</td>\n      <td>174.0</td>\n      <td>44.0</td>\n      <td>9.0</td>\n      <td>50.09</td>\n      <td>14.41</td>\n      <td>1.0</td>\n      <td>...</td>\n      <td>1.000000</td>\n      <td>1.000000</td>\n      <td>1.000000</td>\n      <td>NaN</td>\n      <td>1.000000</td>\n      <td>1.000000</td>\n      <td>1.000000</td>\n      <td>0.819536</td>\n      <td>1.000000</td>\n      <td>1.000000e+00</td>\n    </tr>\n    <tr>\n      <th>Wien</th>\n      <td>628</td>\n      <td>632.0</td>\n      <td>266.0</td>\n      <td>115.0</td>\n      <td>123.0</td>\n      <td>20.0</td>\n      <td>8.0</td>\n      <td>48.22</td>\n      <td>16.39</td>\n      <td>1.0</td>\n      <td>...</td>\n      <td>0.470588</td>\n      <td>NaN</td>\n      <td>0.568966</td>\n      <td>0.432624</td>\n      <td>0.857116</td>\n      <td>0.534321</td>\n      <td>0.572020</td>\n      <td>0.000000</td>\n      <td>0.663685</td>\n      <td>6.563460e-01</td>\n    </tr>\n    <tr>\n      <th>Brno</th>\n      <td>43</td>\n      <td>44.0</td>\n      <td>104.0</td>\n      <td>42.0</td>\n      <td>48.0</td>\n      <td>10.0</td>\n      <td>4.0</td>\n      <td>49.19</td>\n      <td>16.61</td>\n      <td>1.0</td>\n      <td>...</td>\n      <td>0.529412</td>\n      <td>0.666667</td>\n      <td>0.344828</td>\n      <td>0.000000</td>\n      <td>0.293199</td>\n      <td>0.339593</td>\n      <td>0.960822</td>\n      <td>1.000000</td>\n      <td>0.654039</td>\n      <td>3.775099e-01</td>\n    </tr>\n    <tr>\n      <th>Písek</th>\n      <td>393</td>\n      <td>396.0</td>\n      <td>28.0</td>\n      <td>13.0</td>\n      <td>13.0</td>\n      <td>1.0</td>\n      <td>1.0</td>\n      <td>49.31</td>\n      <td>14.15</td>\n      <td>1.0</td>\n      <td>...</td>\n      <td>0.000000</td>\n      <td>NaN</td>\n      <td>0.137931</td>\n      <td>0.000000</td>\n      <td>0.234425</td>\n      <td>0.471919</td>\n      <td>0.105475</td>\n      <td>0.000000</td>\n      <td>0.285314</td>\n      <td>2.816955e-01</td>\n    </tr>\n    <tr>\n      <th>Znojmo</th>\n      <td>663</td>\n      <td>667.0</td>\n      <td>59.0</td>\n      <td>27.0</td>\n      <td>27.0</td>\n      <td>3.0</td>\n      <td>2.0</td>\n      <td>48.86</td>\n      <td>16.05</td>\n      <td>1.0</td>\n      <td>...</td>\n      <td>0.117647</td>\n      <td>NaN</td>\n      <td>0.137931</td>\n      <td>0.000000</td>\n      <td>0.073710</td>\n      <td>0.269838</td>\n      <td>0.175651</td>\n      <td>0.000000</td>\n      <td>0.155545</td>\n      <td>2.764230e-01</td>\n    </tr>\n    <tr>\n      <th>...</th>\n      <td>...</td>\n      <td>...</td>\n      <td>...</td>\n      <td>...</td>\n      <td>...</td>\n      <td>...</td>\n      <td>...</td>\n      <td>...</td>\n      <td>...</td>\n      <td>...</td>\n      <td>...</td>\n      <td>...</td>\n      <td>...</td>\n      <td>...</td>\n      <td>...</td>\n      <td>...</td>\n      <td>...</td>\n      <td>...</td>\n      <td>...</td>\n      <td>...</td>\n      <td>...</td>\n    </tr>\n    <tr>\n      <th>Kravaře u České Lípy</th>\n      <td>227</td>\n      <td>228.0</td>\n      <td>3.0</td>\n      <td>1.0</td>\n      <td>1.0</td>\n      <td>1.0</td>\n      <td>0.0</td>\n      <td>50.63</td>\n      <td>14.39</td>\n      <td>1.0</td>\n      <td>...</td>\n      <td>NaN</td>\n      <td>NaN</td>\n      <td>0.000000</td>\n      <td>NaN</td>\n      <td>0.000000</td>\n      <td>0.011810</td>\n      <td>0.000000</td>\n      <td>0.000000</td>\n      <td>0.004992</td>\n      <td>1.789343e-03</td>\n    </tr>\n    <tr>\n      <th>Most</th>\n      <td>311</td>\n      <td>313.0</td>\n      <td>6.0</td>\n      <td>1.0</td>\n      <td>1.0</td>\n      <td>2.0</td>\n      <td>2.0</td>\n      <td>50.50</td>\n      <td>13.64</td>\n      <td>1.0</td>\n      <td>...</td>\n      <td>NaN</td>\n      <td>NaN</td>\n      <td>0.000000</td>\n      <td>NaN</td>\n      <td>0.000000</td>\n      <td>0.010906</td>\n      <td>0.000000</td>\n      <td>0.000000</td>\n      <td>0.005027</td>\n      <td>1.093390e-03</td>\n    </tr>\n    <tr>\n      <th>Villach</th>\n      <td>597</td>\n      <td>601.0</td>\n      <td>2.0</td>\n      <td>1.0</td>\n      <td>1.0</td>\n      <td>0.0</td>\n      <td>0.0</td>\n      <td>46.61</td>\n      <td>13.86</td>\n      <td>1.0</td>\n      <td>...</td>\n      <td>0.000000</td>\n      <td>NaN</td>\n      <td>0.000000</td>\n      <td>NaN</td>\n      <td>NaN</td>\n      <td>NaN</td>\n      <td>0.212455</td>\n      <td>NaN</td>\n      <td>0.200914</td>\n      <td>5.434500e-08</td>\n    </tr>\n    <tr>\n      <th>Friesach</th>\n      <td>112</td>\n      <td>113.0</td>\n      <td>11.0</td>\n      <td>4.0</td>\n      <td>4.0</td>\n      <td>2.0</td>\n      <td>1.0</td>\n      <td>46.98</td>\n      <td>14.33</td>\n      <td>1.0</td>\n      <td>...</td>\n      <td>0.000000</td>\n      <td>NaN</td>\n      <td>0.000000</td>\n      <td>NaN</td>\n      <td>NaN</td>\n      <td>0.000000</td>\n      <td>0.136599</td>\n      <td>NaN</td>\n      <td>0.085920</td>\n      <td>0.000000e+00</td>\n    </tr>\n    <tr>\n      <th>Seitenstetten</th>\n      <td>494</td>\n      <td>498.0</td>\n      <td>5.0</td>\n      <td>1.0</td>\n      <td>1.0</td>\n      <td>3.0</td>\n      <td>0.0</td>\n      <td>48.04</td>\n      <td>14.65</td>\n      <td>1.0</td>\n      <td>...</td>\n      <td>NaN</td>\n      <td>NaN</td>\n      <td>0.000000</td>\n      <td>0.000000</td>\n      <td>0.000000</td>\n      <td>0.000000</td>\n      <td>0.000000</td>\n      <td>0.000000</td>\n      <td>0.000000</td>\n      <td>0.000000e+00</td>\n    </tr>\n  </tbody>\n</table>\n<p>71 rows × 101 columns</p>\n</div>"
     },
     "metadata": {},
     "execution_count": 10
    }
   ],
   "source": [
    "df['median'] = df.apply(\n",
    "    lambda x: x[metrics].median(),\n",
    "    axis=1\n",
    ")\n",
    "df.sort_values('median', ascending=False)"
   ]
  },
  {
   "cell_type": "code",
   "execution_count": 11,
   "metadata": {},
   "outputs": [
    {
     "output_type": "execute_result",
     "data": {
      "text/plain": [
       "act_day          11\n",
       "act_stay          6\n",
       "act_sum           1\n",
       "centr_closes      5\n",
       "centr_eigen_w     1\n",
       "centr_eigen       1\n",
       "centr_infos       1\n",
       "day_sum           1\n",
       "infl_dist        22\n",
       "infl_reg          1\n",
       "infl_sum          1\n",
       "stay_avg          3\n",
       "stay_sum          1\n",
       "travel            1\n",
       "Name: Praha, dtype: int64"
      ]
     },
     "metadata": {},
     "execution_count": 11
    }
   ],
   "source": [
    "# get order for each metric\n",
    "\n",
    "df_matrices_order = pd.DataFrame(index=df.index)\n",
    "\n",
    "for metric in metrics:\n",
    "    df_copy = df.copy()\n",
    "    df_copy.sort_values(metric, inplace=True, ascending=False)\n",
    "    df_copy.reset_index(inplace=True)\n",
    "    df_copy['rank'] = df_copy.index.values\n",
    "    df_copy.set_index('index', inplace=True)\n",
    "    df_matrices_order[metric] = df_copy[['rank']] + 1\n",
    "\n",
    "df_matrices_order.loc['Praha']"
   ]
  },
  {
   "cell_type": "code",
   "execution_count": 12,
   "metadata": {},
   "outputs": [
    {
     "output_type": "execute_result",
     "data": {
      "text/html": "\n<div id=\"altair-viz-aa4d0ae1cdbb4f2bb6cb118fc385c933\"></div>\n<script type=\"text/javascript\">\n  (function(spec, embedOpt){\n    let outputDiv = document.currentScript.previousElementSibling;\n    if (outputDiv.id !== \"altair-viz-aa4d0ae1cdbb4f2bb6cb118fc385c933\") {\n      outputDiv = document.getElementById(\"altair-viz-aa4d0ae1cdbb4f2bb6cb118fc385c933\");\n    }\n    const paths = {\n      \"vega\": \"https://cdn.jsdelivr.net/npm//vega@5?noext\",\n      \"vega-lib\": \"https://cdn.jsdelivr.net/npm//vega-lib?noext\",\n      \"vega-lite\": \"https://cdn.jsdelivr.net/npm//vega-lite@4.8.1?noext\",\n      \"vega-embed\": \"https://cdn.jsdelivr.net/npm//vega-embed@6?noext\",\n    };\n\n    function loadScript(lib) {\n      return new Promise(function(resolve, reject) {\n        var s = document.createElement('script');\n        s.src = paths[lib];\n        s.async = true;\n        s.onload = () => resolve(paths[lib]);\n        s.onerror = () => reject(`Error loading script: ${paths[lib]}`);\n        document.getElementsByTagName(\"head\")[0].appendChild(s);\n      });\n    }\n\n    function showError(err) {\n      outputDiv.innerHTML = `<div class=\"error\" style=\"color:red;\">${err}</div>`;\n      throw err;\n    }\n\n    function displayChart(vegaEmbed) {\n      vegaEmbed(outputDiv, spec, embedOpt)\n        .catch(err => showError(`Javascript Error: ${err.message}<br>This usually means there's a typo in your chart specification. See the javascript console for the full traceback.`));\n    }\n\n    if(typeof define === \"function\" && define.amd) {\n      requirejs.config({paths});\n      require([\"vega-embed\"], displayChart, err => showError(`Error loading script: ${err.message}`));\n    } else if (typeof vegaEmbed === \"function\") {\n      displayChart(vegaEmbed);\n    } else {\n      loadScript(\"vega\")\n        .then(() => loadScript(\"vega-lite\"))\n        .then(() => loadScript(\"vega-embed\"))\n        .catch(showError)\n        .then(() => displayChart(vegaEmbed));\n    }\n  })({\"config\": {\"view\": {\"continuousWidth\": 400, \"continuousHeight\": 300}}, \"layer\": [{\"mark\": {\"type\": \"line\", \"clip\": true}, \"encoding\": {\"color\": {\"type\": \"nominal\", \"field\": \"name\"}, \"x\": {\"type\": \"nominal\", \"axis\": {\"title\": \"metrics\"}, \"field\": \"key\"}, \"y\": {\"type\": \"quantitative\", \"axis\": {\"format\": \".0f\", \"tickMinStep\": 1, \"title\": \"rank\", \"values\": [1, 2, 3, 4, 5]}, \"field\": \"value\", \"scale\": {\"domain\": [5.5, 0.5], \"zero\": false}}}, \"transform\": [{\"window\": [{\"op\": \"count\", \"as\": \"index\"}]}, {\"fold\": [\"act_day\", \"act_stay\", \"act_sum\", \"centr_closes\", \"centr_eigen_w\", \"centr_eigen\", \"centr_infos\", \"day_sum\", \"infl_dist\", \"infl_reg\", \"infl_sum\", \"stay_avg\", \"stay_sum\", \"travel\"]}], \"width\": 500}, {\"mark\": {\"type\": \"circle\", \"clip\": true, \"size\": 100}, \"encoding\": {\"color\": {\"type\": \"nominal\", \"field\": \"name\"}, \"x\": {\"type\": \"nominal\", \"axis\": {\"title\": \"metrics\"}, \"field\": \"key\"}, \"y\": {\"type\": \"quantitative\", \"axis\": {\"format\": \".0f\", \"tickMinStep\": 1, \"title\": \"rank\", \"values\": [1, 2, 3, 4, 5]}, \"field\": \"value\", \"scale\": {\"domain\": [5.5, 0.5], \"zero\": false}}}, \"transform\": [{\"window\": [{\"op\": \"count\", \"as\": \"index\"}]}, {\"fold\": [\"act_day\", \"act_stay\", \"act_sum\", \"centr_closes\", \"centr_eigen_w\", \"centr_eigen\", \"centr_infos\", \"day_sum\", \"infl_dist\", \"infl_reg\", \"infl_sum\", \"stay_avg\", \"stay_sum\", \"travel\"]}], \"width\": 500}], \"data\": {\"name\": \"data-15576c93c0e0469ff655eb802f68e4ca\"}, \"$schema\": \"https://vega.github.io/schema/vega-lite/v4.8.1.json\", \"datasets\": {\"data-15576c93c0e0469ff655eb802f68e4ca\": [{\"act_day\": 1, \"act_stay\": 48, \"act_sum\": 71, \"centr_closes\": 52, \"centr_eigen_w\": 52, \"centr_eigen\": 51, \"centr_infos\": 56, \"day_sum\": 47, \"infl_dist\": 29, \"infl_reg\": 45, \"infl_sum\": 48, \"stay_avg\": 38, \"stay_sum\": 50, \"travel\": 62, \"name\": \"Beroun\"}, {\"act_day\": 37, \"act_stay\": 19, \"act_sum\": 3, \"centr_closes\": 4, \"centr_eigen_w\": 3, \"centr_eigen\": 3, \"centr_infos\": 3, \"day_sum\": 3, \"infl_dist\": 28, \"infl_reg\": 3, \"infl_sum\": 3, \"stay_avg\": 22, \"stay_sum\": 3, \"travel\": 3, \"name\": \"Brno\"}, {\"act_day\": 38, \"act_stay\": 27, \"act_sum\": 20, \"centr_closes\": 19, \"centr_eigen_w\": 12, \"centr_eigen\": 18, \"centr_infos\": 23, \"day_sum\": 11, \"infl_dist\": 37, \"infl_reg\": 31, \"infl_sum\": 31, \"stay_avg\": 4, \"stay_sum\": 23, \"travel\": 26, \"name\": \"Budyn\\u011b nad Oh\\u0159\\u00ed\"}, {\"act_day\": 47, \"act_stay\": 1, \"act_sum\": 6, \"centr_closes\": 54, \"centr_eigen_w\": 15, \"centr_eigen\": 10, \"centr_infos\": 8, \"day_sum\": 16, \"infl_dist\": 44, \"infl_reg\": 6, \"infl_sum\": 6, \"stay_avg\": 37, \"stay_sum\": 12, \"travel\": 5, \"name\": \"Graz\"}, {\"act_day\": 48, \"act_stay\": 4, \"act_sum\": 15, \"centr_closes\": 12, \"centr_eigen_w\": 49, \"centr_eigen\": 22, \"centr_infos\": 24, \"day_sum\": 21, \"infl_dist\": 13, \"infl_reg\": 17, \"infl_sum\": 16, \"stay_avg\": 17, \"stay_sum\": 32, \"travel\": 36, \"name\": \"Hainburg\"}, {\"act_day\": 50, \"act_stay\": 25, \"act_sum\": 24, \"centr_closes\": 39, \"centr_eigen_w\": 21, \"centr_eigen\": 24, \"centr_infos\": 21, \"day_sum\": 7, \"infl_dist\": 54, \"infl_reg\": 28, \"infl_sum\": 19, \"stay_avg\": 2, \"stay_sum\": 18, \"travel\": 10, \"name\": \"Hradec Kr\\u00e1lov\\u00e9\"}, {\"act_day\": 36, \"act_stay\": 22, \"act_sum\": 28, \"centr_closes\": 46, \"centr_eigen_w\": 39, \"centr_eigen\": 59, \"centr_infos\": 58, \"day_sum\": 38, \"infl_dist\": 2, \"infl_reg\": 60, \"infl_sum\": 37, \"stay_avg\": 45, \"stay_sum\": 29, \"travel\": 25, \"name\": \"Hradec nad Moravic\\u00ed\"}, {\"act_day\": 55, \"act_stay\": 62, \"act_sum\": 65, \"centr_closes\": 43, \"centr_eigen_w\": 54, \"centr_eigen\": 54, \"centr_infos\": 44, \"day_sum\": 56, \"infl_dist\": 3, \"infl_reg\": 69, \"infl_sum\": 63, \"stay_avg\": 55, \"stay_sum\": 61, \"travel\": 64, \"name\": \"Jind\\u0159ich\\u016fv Hradec\"}, {\"act_day\": 69, \"act_stay\": 3, \"act_sum\": 26, \"centr_closes\": 69, \"centr_eigen_w\": 56, \"centr_eigen\": 69, \"centr_infos\": 67, \"day_sum\": 69, \"infl_dist\": 18, \"infl_reg\": 61, \"infl_sum\": 42, \"stay_avg\": 68, \"stay_sum\": 63, \"travel\": 53, \"name\": \"Judenburg\"}, {\"act_day\": 56, \"act_stay\": 21, \"act_sum\": 27, \"centr_closes\": 20, \"centr_eigen_w\": 55, \"centr_eigen\": 23, \"centr_infos\": 26, \"day_sum\": 32, \"infl_dist\": 5, \"infl_reg\": 8, \"infl_sum\": 20, \"stay_avg\": 33, \"stay_sum\": 35, \"travel\": 57, \"name\": \"Kam\\u00fdk nad Vltavou\"}, {\"act_day\": 59, \"act_stay\": 2, \"act_sum\": 13, \"centr_closes\": 2, \"centr_eigen_w\": 35, \"centr_eigen\": 39, \"centr_infos\": 33, \"day_sum\": 35, \"infl_dist\": 9, \"infl_reg\": 7, \"infl_sum\": 10, \"stay_avg\": 40, \"stay_sum\": 28, \"travel\": 52, \"name\": \"Korneuburg\"}, {\"act_day\": 62, \"act_stay\": 18, \"act_sum\": 4, \"centr_closes\": 7, \"centr_eigen_w\": 4, \"centr_eigen\": 6, \"centr_infos\": 4, \"day_sum\": 4, \"infl_dist\": 25, \"infl_reg\": 11, \"infl_sum\": 5, \"stay_avg\": 16, \"stay_sum\": 4, \"travel\": 6, \"name\": \"Krems an der Donau\"}, {\"act_day\": 66, \"act_stay\": 9, \"act_sum\": 7, \"centr_closes\": 38, \"centr_eigen_w\": 14, \"centr_eigen\": 14, \"centr_infos\": 7, \"day_sum\": 6, \"infl_dist\": 50, \"infl_reg\": 9, \"infl_sum\": 8, \"stay_avg\": 15, \"stay_sum\": 7, \"travel\": 4, \"name\": \"Linz\"}, {\"act_day\": 3, \"act_stay\": 70, \"act_sum\": 57, \"centr_closes\": 33, \"centr_eigen_w\": 60, \"centr_eigen\": 62, \"centr_infos\": 52, \"day_sum\": 37, \"infl_dist\": 58, \"infl_reg\": 23, \"infl_sum\": 38, \"stay_avg\": 20, \"stay_sum\": 69, \"travel\": 51, \"name\": \"My\\u0161enec\"}, {\"act_day\": 4, \"act_stay\": 61, \"act_sum\": 70, \"centr_closes\": 62, \"centr_eigen_w\": 42, \"centr_eigen\": 42, \"centr_infos\": 54, \"day_sum\": 54, \"infl_dist\": 64, \"infl_reg\": 67, \"infl_sum\": 55, \"stay_avg\": 52, \"stay_sum\": 70, \"travel\": 35, \"name\": \"Neuburg am Inn\"}, {\"act_day\": 5, \"act_stay\": 49, \"act_sum\": 69, \"centr_closes\": 22, \"centr_eigen_w\": 33, \"centr_eigen\": 26, \"centr_infos\": 36, \"day_sum\": 48, \"infl_dist\": 71, \"infl_reg\": 71, \"infl_sum\": 71, \"stay_avg\": 36, \"stay_sum\": 62, \"travel\": 60, \"name\": \"Ni\\u017ebor\"}, {\"act_day\": 9, \"act_stay\": 10, \"act_sum\": 21, \"centr_closes\": 42, \"centr_eigen_w\": 23, \"centr_eigen\": 36, \"centr_infos\": 31, \"day_sum\": 13, \"infl_dist\": 35, \"infl_reg\": 20, \"infl_sum\": 15, \"stay_avg\": 1, \"stay_sum\": 25, \"travel\": 17, \"name\": \"Plasy\"}, {\"act_day\": 11, \"act_stay\": 6, \"act_sum\": 1, \"centr_closes\": 5, \"centr_eigen_w\": 1, \"centr_eigen\": 1, \"centr_infos\": 1, \"day_sum\": 1, \"infl_dist\": 22, \"infl_reg\": 1, \"infl_sum\": 1, \"stay_avg\": 3, \"stay_sum\": 1, \"travel\": 1, \"name\": \"Praha\"}, {\"act_day\": 8, \"act_stay\": 30, \"act_sum\": 8, \"centr_closes\": 25, \"centr_eigen_w\": 5, \"centr_eigen\": 4, \"centr_infos\": 6, \"day_sum\": 5, \"infl_dist\": 16, \"infl_reg\": 5, \"infl_sum\": 7, \"stay_avg\": 7, \"stay_sum\": 5, \"travel\": 13, \"name\": \"P\\u00edsek\"}, {\"act_day\": 13, \"act_stay\": 34, \"act_sum\": 30, \"centr_closes\": 17, \"centr_eigen_w\": 10, \"centr_eigen\": 12, \"centr_infos\": 18, \"day_sum\": 12, \"infl_dist\": 6, \"infl_reg\": 25, \"infl_sum\": 29, \"stay_avg\": 5, \"stay_sum\": 24, \"travel\": 29, \"name\": \"Sadsk\\u00e1\"}, {\"act_day\": 2, \"act_stay\": 37, \"act_sum\": 58, \"centr_closes\": 55, \"centr_eigen_w\": 66, \"centr_eigen\": 60, \"centr_infos\": 65, \"day_sum\": 30, \"infl_dist\": 49, \"infl_reg\": 46, \"infl_sum\": 57, \"stay_avg\": 10, \"stay_sum\": 49, \"travel\": 19, \"name\": \"St\\u0159\\u00edbro\"}, {\"act_day\": 21, \"act_stay\": 44, \"act_sum\": 44, \"centr_closes\": 50, \"centr_eigen_w\": 38, \"centr_eigen\": 45, \"centr_infos\": 57, \"day_sum\": 59, \"infl_dist\": 1, \"infl_reg\": 70, \"infl_sum\": 58, \"stay_avg\": 58, \"stay_sum\": 47, \"travel\": 61, \"name\": \"Uni\\u010dov\"}, {\"act_day\": 27, \"act_stay\": 5, \"act_sum\": 2, \"centr_closes\": 1, \"centr_eigen_w\": 2, \"centr_eigen\": 2, \"centr_infos\": 2, \"day_sum\": 2, \"infl_dist\": 27, \"infl_reg\": 2, \"infl_sum\": 2, \"stay_avg\": 23, \"stay_sum\": 2, \"travel\": 2, \"name\": \"Wien\"}, {\"act_day\": 30, \"act_stay\": 39, \"act_sum\": 29, \"centr_closes\": 8, \"centr_eigen_w\": 18, \"centr_eigen\": 21, \"centr_infos\": 19, \"day_sum\": 18, \"infl_dist\": 4, \"infl_reg\": 21, \"infl_sum\": 23, \"stay_avg\": 27, \"stay_sum\": 21, \"travel\": 47, \"name\": \"Zbraslav\"}, {\"act_day\": 31, \"act_stay\": 7, \"act_sum\": 5, \"centr_closes\": 3, \"centr_eigen_w\": 6, \"centr_eigen\": 5, \"centr_infos\": 5, \"day_sum\": 9, \"infl_dist\": 20, \"infl_reg\": 4, \"infl_sum\": 4, \"stay_avg\": 32, \"stay_sum\": 6, \"travel\": 22, \"name\": \"Znojmo\"}]}}, {\"padding\": {\"left\": 5, \"right\": 10, \"bottom\": 5, \"top\": 10}, \"mode\": \"vega-lite\"});\n</script>",
      "text/plain": [
       "alt.LayerChart(...)"
      ]
     },
     "metadata": {},
     "execution_count": 12
    }
   ],
   "source": [
    "import altair as alt\n",
    "\n",
    "max_rank = 5\n",
    "\n",
    "# get list of important places\n",
    "imp_places = []\n",
    "for metric in metrics:\n",
    "    imp_places_m = df_matrices_order[df_matrices_order[metric] <= max_rank].index\n",
    "    imp_places.extend(imp_places_m)\n",
    "\n",
    "imp_places = np.unique(np.array(imp_places))\n",
    "\n",
    "\n",
    "imp_places = df_matrices_order.loc[imp_places]\n",
    "imp_places['name'] = imp_places.index\n",
    "\n",
    "alt.renderers.set_embed_options(\n",
    "    padding={\"left\": 5, \"right\": 10, \"bottom\": 5, \"top\": 10}\n",
    ")\n",
    "\n",
    "rank_chart = alt.Chart(imp_places).transform_window(\n",
    "    index='count()'\n",
    ").transform_fold(\n",
    "    metrics\n",
    ").properties(\n",
    "    width=500,\n",
    ").encode(\n",
    "    color='name:N',\n",
    "    x=alt.X(\n",
    "        'key:N',\n",
    "        axis=alt.Axis(title='metrics')\n",
    "    ),\n",
    "    y=alt.Y(\n",
    "        'value:Q', \n",
    "        scale=alt.Scale(zero=False, domain=[max_rank + 0.5,0.5]),\n",
    "        axis=alt.Axis(values=[1,2,3,4,5], title='rank', tickMinStep=1, format='.0f'),\n",
    "    ),\n",
    ")\n",
    "\n",
    "lines = rank_chart.mark_line(\n",
    "    clip=True\n",
    ")\n",
    "\n",
    "circles = rank_chart.mark_circle(\n",
    "    clip=True,\n",
    "    size=100\n",
    ")\n",
    "\n",
    "lines + circles"
   ]
  }
 ]
}